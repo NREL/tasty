{
 "cells": [
  {
   "cell_type": "markdown",
   "id": "amended-garage",
   "metadata": {},
   "source": [
    "# 1) Build The Point\n",
    "The result of this step will be the equipment point in rdf format. This can then be used to validate against the point SHACL shape (see step 2)."
   ]
  },
  {
   "cell_type": "markdown",
   "id": "eligible-coating",
   "metadata": {},
   "source": [
    "## Setup\n",
    "Run the code below to setup the blank graph and shapes wrapper"
   ]
  },
  {
   "cell_type": "code",
   "execution_count": 2,
   "id": "adequate-heater",
   "metadata": {
    "tags": []
   },
   "outputs": [],
   "source": [
    "from rdflib import Namespace\n",
    "\n",
    "import tasty.constants as tc\n",
    "import tasty.graphs as tg\n",
    "import tasty.entities as te\n",
    "\n",
    "# Create a namespace and load in a blank Brick / Haystack graph\n",
    "SAMPLE = Namespace('urn:sample/')\n",
    "hg = tg.get_versioned_graph(tc.HAYSTACK, tc.V3_9_10)\n",
    "hg.bind('sample', SAMPLE)\n",
    "h_ont = tg.load_ontology(tc.HAYSTACK, tc.V3_9_10)\n",
    "\n",
    "# Specify the schema version (tc.V9_9_10, etc.) to use\n",
    "hp = te.HaystackPointDefs(tc.V3_9_10)\n",
    "he = te.HaystackEquipDefs(tc.V3_9_10)\n",
    "hrefs = te.HaystackRefDefs(tc.V3_9_10)\n",
    "\n",
    "# Bind all of the first class types as attributes\n",
    "hp.bind()\n",
    "he.bind()\n",
    "hrefs.bind()\n",
    "\n",
    "# Simple wrapper around all of the shapes\n",
    "shrap = te.ShapesWrapper(tc.HAYSTACK, tc.V3_9_10)\n",
    "\n",
    "shrap.bind()\n",
    "shrap.bind_composite()\n",
    "\n",
    "def print_graph(g):\n",
    "    print(g.serialize(format='turtle').decode('utf-8'))"
   ]
  },
  {
   "cell_type": "markdown",
   "id": "absent-light",
   "metadata": {},
   "source": [
    "## Build Point"
   ]
  },
  {
   "cell_type": "code",
   "execution_count": 3,
   "id": "visible-reproduction",
   "metadata": {},
   "outputs": [
    {
     "name": "stderr",
     "output_type": "stream",
     "text": [
      "WARNING:root:min not found. adding under custom namespace as: https://project-haystack.org/def/custom#min\n"
     ]
    },
    {
     "name": "stdout",
     "output_type": "stream",
     "text": [
      "@prefix phIoT: <https://project-haystack.org/def/phIoT/3.9.10#> .\n",
      "@prefix sample: <urn:sample/> .\n",
      "\n",
      "sample:point-01 a phIoT:discharge-air-flow-sp .\n",
      "\n",
      "\n"
     ]
    }
   ],
   "source": [
    "point_shape = shrap.MinimumDischargeAirFlowSetpointShape\n",
    "point = point_shape.cast_to_entity()\n",
    "point_id = \"point-01\"\n",
    "point.set_namespace(SAMPLE)\n",
    "point.set_id(point_id)\n",
    "point.bind_to_graph(hg)\n",
    "\n",
    "print_graph(hg)"
   ]
  },
  {
   "cell_type": "markdown",
   "id": "automated-burner",
   "metadata": {},
   "source": [
    "# 2) Shapes Based Validation\n",
    "This step validates the output from step 1 against the predifined SHACL shapes (which are created by the tasty `generate-shapes` command)"
   ]
  },
  {
   "cell_type": "markdown",
   "id": "innovative-biography",
   "metadata": {},
   "source": [
    "## Setup\n",
    "Run the setup below"
   ]
  },
  {
   "cell_type": "code",
   "execution_count": 4,
   "id": "applied-medicare",
   "metadata": {},
   "outputs": [],
   "source": [
    "import os\n",
    "from pyshacl import validate\n",
    "from rdflib import Graph, SH\n",
    "from rdflib.util import guess_format\n",
    "\n",
    "from tasty.shapes_loader import ShapesLoader"
   ]
  },
  {
   "cell_type": "markdown",
   "id": "foster-cooking",
   "metadata": {},
   "source": [
    "## Import SHACL Shapes\n",
    "\n",
    "The ShapesLoader gives us a wrapper around loading in the shapes graphs"
   ]
  },
  {
   "cell_type": "code",
   "execution_count": 5,
   "id": "postal-momentum",
   "metadata": {},
   "outputs": [],
   "source": [
    "sl = ShapesLoader(tc.HAYSTACK)\n",
    "shapes_graph = sl.load_all_shapes()\n",
    "shapes_graph.bind('sample', SAMPLE)"
   ]
  },
  {
   "cell_type": "markdown",
   "id": "automatic-period",
   "metadata": {},
   "source": [
    "## Validate\n",
    "\n",
    "Here we validate the newly created point against the existing point SHACL shape, by making it the `targetNode` of the SHACL shape in the shapes graph.\n",
    "\n",
    "***Items to Change***\n",
    "- Change the index of `tc.PH_SHAPES_NREL` to the name of the predefined shape\n"
   ]
  },
  {
   "cell_type": "code",
   "execution_count": 7,
   "id": "understanding-valley",
   "metadata": {},
   "outputs": [
    {
     "data": {
      "text/plain": [
       "False"
      ]
     },
     "execution_count": 7,
     "metadata": {},
     "output_type": "execute_result"
    }
   ],
   "source": [
    "shapes_graph.add((tc.PH_SHAPES_NREL['MinimumDischargeAirFlowSetpointShape'], SH.targetNode, point.node))\n",
    "conforms, results_graph, results = validate(hg, shacl_graph=shapes_graph, ont_graph=h_ont)\n",
    "\n",
    "conforms"
   ]
  },
  {
   "cell_type": "code",
   "execution_count": 11,
   "id": "familiar-romania",
   "metadata": {},
   "outputs": [
    {
     "name": "stdout",
     "output_type": "stream",
     "text": [
      "@prefix ph: <https://project-haystack.org/def/ph/3.9.10#> .\n",
      "@prefix phCustom: <https://project-haystack.org/def/custom#> .\n",
      "@prefix sample: <urn:sample/> .\n",
      "@prefix sh: <http://www.w3.org/ns/shacl#> .\n",
      "@prefix xsd: <http://www.w3.org/2001/XMLSchema#> .\n",
      "\n",
      "[] a sh:ValidationReport ;\n",
      "    sh:conforms false ;\n",
      "    sh:result [ a sh:ValidationResult ;\n",
      "            sh:focusNode sample:point-01 ;\n",
      "            sh:resultPath ph:hasTag ;\n",
      "            sh:resultSeverity sh:Violation ;\n",
      "            sh:sourceConstraintComponent sh:QualifiedMinCountConstraintComponent ;\n",
      "            sh:sourceShape [ sh:path ph:hasTag ;\n",
      "                    sh:qualifiedMinCount 1 ;\n",
      "                    sh:qualifiedValueShape [ sh:hasValue phCustom:min ] ] ],\n",
      "        [ a sh:ValidationResult ;\n",
      "            sh:focusNode sample:point-01 ;\n",
      "            sh:resultMessage \"Less than 1 values on sample:point-01->ph:hasTag\" ;\n",
      "            sh:resultPath ph:hasTag ;\n",
      "            sh:resultSeverity sh:Violation ;\n",
      "            sh:sourceConstraintComponent sh:MinCountConstraintComponent ;\n",
      "            sh:sourceShape [ sh:maxCount 1 ;\n",
      "                    sh:minCount 1 ;\n",
      "                    sh:path ph:hasTag ] ] .\n",
      "\n",
      "\n"
     ]
    }
   ],
   "source": [
    "print_graph(results_graph)"
   ]
  }
 ],
 "metadata": {
  "kernelspec": {
   "display_name": "Python 3",
   "language": "python",
   "name": "python3"
  },
  "language_info": {
   "codemirror_mode": {
    "name": "ipython",
    "version": 3
   },
   "file_extension": ".py",
   "mimetype": "text/x-python",
   "name": "python",
   "nbconvert_exporter": "python",
   "pygments_lexer": "ipython3",
   "version": "3.8.5"
  }
 },
 "nbformat": 4,
 "nbformat_minor": 5
}
