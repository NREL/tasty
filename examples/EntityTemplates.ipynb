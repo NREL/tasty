{
 "cells": [
  {
   "cell_type": "markdown",
   "metadata": {},
   "source": [
    "# Working with `EntityTemplate`s\n",
    "\n",
    "1. Run the [Initializations](#Initializations)\n",
    "1. If you have questions, see the [Basics](./Basics.ipynb)"
   ]
  },
  {
   "cell_type": "markdown",
   "metadata": {},
   "source": [
    "## Creating EntityTemplates\n",
    "\n",
    "Using the information we have just captured - we can now create our first `EntityTemplate` classes.  We will do this for both our Brick and Haystack entities.\n",
    "\n",
    "_Note - we don't expect most users to interact with `EntityTemplate`s, however, this section is provided for reference.  Most of this happens in the backend of a `PointGroupTemplate` creation_"
   ]
  },
  {
   "cell_type": "code",
   "execution_count": 3,
   "metadata": {},
   "outputs": [
    {
     "name": "stdout",
     "output_type": "stream",
     "text": [
      "tasty.templates New EntityTemplate created.\n",
      "tasty.templates New EntityTemplate created.\n"
     ]
    }
   ],
   "source": [
    "# For Brick, we don't have any additional 'typing properties' or fields, so we initialize those as empty sets\n",
    "bet = tt.EntityTemplate(entity_classes=brick_namespaced_terms,\n",
    "                        typing_properties=set(),\n",
    "                        fields=set(),\n",
    "                        schema_name='Brick',\n",
    "                        schema_version='1.1')\n",
    "\n",
    "# For Haystack, use namespaced_fields instead of structured_terms['fields']\n",
    "het = tt.EntityTemplate(structured_terms['classes'], structured_terms['markers'], namespaced_fields, 'Haystack', '3.9.9')"
   ]
  },
  {
   "cell_type": "markdown",
   "metadata": {},
   "source": [
    "## Exploring EntityTemplates\n",
    "\n",
    "Now we can do some cool things with some class level methods for entity templates, such as:\n",
    "1. Finding all `EntityTemplate`s of a certain class\n",
    "1. Finding all `EntityTemplate`s of multiple classes"
   ]
  },
  {
   "cell_type": "code",
   "execution_count": 4,
   "metadata": {},
   "outputs": [
    {
     "name": "stdout",
     "output_type": "stream",
     "text": [
      "{'motor', 'writable-point', 'cur-point'}\n"
     ]
    }
   ],
   "source": [
    "# Find all entity templates with the specified class\n",
    "to_find = (tc.PHIOT_3_9_9, 'cur-point')\n",
    "of_interest = tt.EntityTemplate.find_with_class(to_find)\n",
    "print(of_interest[0].get_simple_classes())"
   ]
  },
  {
   "cell_type": "code",
   "execution_count": 5,
   "metadata": {},
   "outputs": [
    {
     "name": "stdout",
     "output_type": "stream",
     "text": [
      "0\n",
      "1\n"
     ]
    }
   ],
   "source": [
    "# None of these exist\n",
    "to_find = set([(tc.PHIOT_3_9_9, 'cur-point'), (tc.PHIOT_3_9_9, 'his-point')])\n",
    "et_of_interest = tt.EntityTemplate.find_with_classes(to_find)\n",
    "print(len(et_of_interest))\n",
    "\n",
    "# But one of these exists\n",
    "to_find = set([(tc.PHIOT_3_9_9, 'cur-point'), (tc.PHIOT_3_9_9, 'motor')])\n",
    "et_of_interest = tt.EntityTemplate.find_with_classes(to_find)\n",
    "print(len(et_of_interest))"
   ]
  },
  {
   "cell_type": "code",
   "execution_count": 6,
   "metadata": {},
   "outputs": [
    {
     "name": "stdout",
     "output_type": "stream",
     "text": [
      "1\n"
     ]
    }
   ],
   "source": [
    "# Find all entity templates with the specified class for Brick\n",
    "to_find = (tc.BRICK_1_1, 'Damper_Position_Command')\n",
    "et_of_interest = tt.EntityTemplate.find_with_class(to_find)\n",
    "print(len(et_of_interest))"
   ]
  },
  {
   "cell_type": "markdown",
   "metadata": {},
   "source": [
    "## Initializations"
   ]
  },
  {
   "cell_type": "code",
   "execution_count": 2,
   "metadata": {},
   "outputs": [
    {
     "name": "stdout",
     "output_type": "stream",
     "text": [
      "[tasty.templates.hget_entity_classes] Permutation time: 5.03 seconds\n"
     ]
    }
   ],
   "source": [
    "# imports and setup\n",
    "import os\n",
    "\n",
    "import tasty.templates as tt\n",
    "import tasty.constants as tc\n",
    "import tasty.graphs as tg\n",
    "\n",
    "haystack_ont = tg.load_ontology('Haystack', '3.9.9')\n",
    "brick_ont = tg.load_ontology('Brick', '1.1')\n",
    "\n",
    "point_type_string = 'cur-writable-motor-run-curVal-sensor-point'\n",
    "haystack_namespaced_terms = tt.get_namespaced_terms(haystack_ont, point_type_string)\n",
    "\n",
    "brick_type = 'Damper_Position_Command'\n",
    "brick_namespaced_terms = tt.get_namespaced_terms(brick_ont, brick_type)\n",
    "\n",
    "fields = {\n",
    "    'curVal': {\n",
    "        '_kind': 'number',\n",
    "        'val': None\n",
    "    },\n",
    "    'unit': 'cfm'\n",
    "}\n",
    "\n",
    "namespaced_fields = tt.get_namespaced_terms(haystack_ont, fields)\n",
    "structured_terms = tt.hget_entity_classes(haystack_ont, haystack_namespaced_terms)"
   ]
  }
 ],
 "metadata": {
  "kernelspec": {
   "display_name": "Python 3",
   "language": "python",
   "name": "python3"
  },
  "language_info": {
   "codemirror_mode": {
    "name": "ipython",
    "version": 3
   },
   "file_extension": ".py",
   "mimetype": "text/x-python",
   "name": "python",
   "nbconvert_exporter": "python",
   "pygments_lexer": "ipython3",
   "version": "3.7.4"
  }
 },
 "nbformat": 4,
 "nbformat_minor": 1
}
