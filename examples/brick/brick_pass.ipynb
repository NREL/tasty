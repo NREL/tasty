{
    "cells": [
        {
            "cell_type": "markdown",
            "metadata": {},
            "source": [
                "# Purpose\n",
                "This notebook demonstrates validation and invalidation of a Brick v1.2.0 model. \n",
                "The data graph is instantiated using [oomason](https://github.com/gtfierro/oomason), which has not been incorporated into `tasty` yet.  \n",
                "All of the following 13 shapes from Brick v1.2.0 are supported with the goal of supporting new shapes as they are added to future releases of Brick. \n",
                "- [x] AggregationShape \n",
                "- [x] AreaShape\n",
                "<!-- - [ ] *AzimuthShape -->\n",
                "- [x] BuildingPrimaryFunctionShape\n",
                "- [x] CoolingCapacityShape\n",
                "<!-- - [ ] CoordinateShape -->\n",
                "- [x] CurrentFlowTypeShape\n",
                "<!-- - [ ] *EfficiencyShape -->\n",
                "<!-- - EquipmentShape -->\n",
                "<!-- - LocationShape -->\n",
                "- [x] PhaseCountShape\n",
                "- [x] PhasesShape\n",
                "<!-- - PointShape -->\n",
                "- [x] PowerComplexityShape\n",
                "- [x] PowerFlowShape\n",
                "<!-- - [ ] *PowerOutputShape -->\n",
                "- [x] StageShape\n",
                "<!-- - [ ] *TemperatureCoefficientPerDegreeCelsiusShape -->\n",
                "<!-- - [ ] *TemperatureShape -->\n",
                "- [x] ThermalTransmittanceShape\n",
                "<!-- - [ ] *TiltShape -->\n",
                "<!-- - TimeseriesReference -->\n",
                "- [x] VolumeShape\n",
                "- [x] YearBuiltShape\n",
                "\n",
                "<!-- *added to Brick after v1.2.0 -->\n"
            ]
        },
        {
            "cell_type": "code",
            "execution_count": 1,
            "metadata": {},
            "outputs": [],
            "source": [
                "from pyshacl import validate\n",
                "from rdflib import Namespace, Literal, XSD\n",
                "\n",
                "from mason import BrickClassGenerator, compile_model, Brick\n",
                "\n",
                "import tasty.constants as tc\n",
                "import tasty.graphs as tg\n",
                "from tasty.shapes_loader import ShapesLoader"
            ]
        },
        {
            "cell_type": "markdown",
            "metadata": {},
            "source": [
                "# Setup"
            ]
        },
        {
            "cell_type": "code",
            "execution_count": 2,
            "metadata": {},
            "outputs": [],
            "source": [
                "# pass or fail setting\n",
                "fail = False\n",
                "\n",
                "# print graphs setting\n",
                "print_graphs = True\n",
                "\n",
                "# namespace\n",
                "EX = Namespace('urn:example#')\n",
                "\n",
                "# entity propterties\n",
                "\n",
                "fail_str = '_fail'\n",
                "int_num = 2021\n",
                "flt_num = 2021.0\n",
                "degrees = 20.21\n",
                "percent = 0.2021\n",
                "\n",
                "# building\n",
                "year_built = int_num\n",
                "primary_function = 'Adult Education'\n",
                "thermal_transmittance = flt_num\n",
                "\n",
                "# room\n",
                "area = flt_num\n",
                "volume = flt_num\n",
                "\n",
                "# chiller\n",
                "cooling_capacity = flt_num\n",
                "stages = 2\n",
                "\n",
                "# PV panel electrical\n",
                "current_flow_type = 'AC'\n",
                "phase_count = '2'\n",
                "phases = 'A' \n",
                "power_complexity = 'real'\n",
                "power_flow = 'import'\n",
                "\n",
                "# point\n",
                "aggregation = 'max'\n",
                "\n",
                "if fail:\n",
                "\n",
                "    # building\n",
                "    year_built = str(year_built)\n",
                "    primary_function = primary_function + fail_str\n",
                "    thermal_transmittance = str(thermal_transmittance)\n",
                " \n",
                "    # room\n",
                "    area = str(area)\n",
                "    volume = str(volume)\n",
                "\n",
                "    # chiller\n",
                "    \n",
                "    cooling_capacity = str(cooling_capacity)\n",
                "    stages = str(stages)\n",
                "\n",
                "    # PV electrical\n",
                "    current_flow_type = current_flow_type + fail_str \n",
                "    phase_count = phase_count + fail_str \n",
                "    phases = phases + fail_str \n",
                "    power_complexity = power_complexity + fail_str \n",
                "    power_flow = power_flow + fail_str\n",
                "\n",
                "    # point\n",
                "    aggregation = aggregation + fail_str   \n"
            ]
        },
        {
            "cell_type": "markdown",
            "metadata": {},
            "source": [
                "# Data Graph (oomason)"
            ]
        },
        {
            "cell_type": "markdown",
            "metadata": {},
            "source": [
                "## Shapes"
            ]
        },
        {
            "cell_type": "code",
            "execution_count": 3,
            "metadata": {},
            "outputs": [],
            "source": [
                "# building\n",
                "year_built_shape = Brick.EntityProperty.YearBuiltShape(year_built)\n",
                "primary_function_shape = Brick.EntityProperty.BuildingPrimaryFunctionShape(Literal(primary_function, datatype=XSD.string)) # newer RDFlib is more specific about some datatypes\n",
                "thermal_transmittance_shape = Brick.EntityProperty.ThermalTransmittenceShape(thermal_transmittance, Brick.Unit.Watt_per_Square_Meter_Kelvin) # transmittence misspelled, check IP units\n",
                "\n",
                "# room\n",
                "area_shape = Brick.EntityProperty.AreaShape(area, Brick.Unit.Square_Foot)\n",
                "volume_shape = Brick.EntityProperty.VolumeShape(volume, Brick.Unit.Cubic_Foot)\n",
                "\n",
                "# chiller\n",
                "cooling_capacity_shape = Brick.EntityProperty.CoolingCapacityShape(cooling_capacity, Brick.Unit.Watt)\n",
                "stage_shape = Brick.EntityProperty.StageShape(stages)\n",
                "\n",
                "# pv panel electrical\n",
                "current_flow_type_shape = Brick.EntityProperty.CurrentFlowTypeShape(Literal(current_flow_type, datatype=XSD.string))\n",
                "phases_shape = Brick.EntityProperty.PhasesShape(Literal(phases, datatype=XSD.string))\n",
                "phase_count_shape = Brick.EntityProperty.PhaseCountShape(Literal(phase_count, datatype=XSD.string))\n",
                "power_complexity_shape = Brick.EntityProperty.PowerComplexityShape(Literal(power_complexity, datatype=XSD.string))\n",
                "power_flow_shape = Brick.EntityProperty.PowerFlowShape(Literal(power_flow, datatype=XSD.string))\n",
                "\n",
                "# point\n",
                "aggregation_shape = Brick.EntityProperty.AggregationShape(Literal(aggregation, datatype=XSD.string), Literal('max'))\n"
            ]
        },
        {
            "cell_type": "markdown",
            "metadata": {},
            "source": [
                "## Entities"
            ]
        },
        {
            "cell_type": "markdown",
            "metadata": {},
            "source": [
                "### Building"
            ]
        },
        {
            "cell_type": "code",
            "execution_count": 4,
            "metadata": {},
            "outputs": [],
            "source": [
                "# entity\n",
                "building = Brick.Building(EX[\"building\"], \"Building\")\n",
                "\n",
                "# add shapes\n",
                "building.add_yearBuilt(year_built_shape)\n",
                "building.add_buildingPrimaryFunction(primary_function_shape)\n",
                "building.add_thermalTransmittence(thermal_transmittance_shape)"
            ]
        },
        {
            "cell_type": "markdown",
            "metadata": {},
            "source": [
                "### Room"
            ]
        },
        {
            "cell_type": "code",
            "execution_count": 5,
            "metadata": {},
            "outputs": [],
            "source": [
                "# entity\n",
                "room = Brick.Room(EX['room1'], 'Room 1')\n",
                "\n",
                "# add shapes\n",
                "room.add_area(area_shape)\n",
                "room.add_volume(volume_shape)"
            ]
        },
        {
            "cell_type": "markdown",
            "metadata": {},
            "source": [
                "### Chiller"
            ]
        },
        {
            "cell_type": "code",
            "execution_count": 6,
            "metadata": {},
            "outputs": [],
            "source": [
                "# entitiy\n",
                "chiller = Brick.Chiller(EX['ch-1'], 'CH-1')\n",
                "\n",
                "# add shapes\n",
                "chiller.add_coolingCapacity(cooling_capacity_shape)\n",
                "chiller.add_operationalStage(stage_shape)"
            ]
        },
        {
            "cell_type": "markdown",
            "metadata": {},
            "source": [
                "### PV Panel"
            ]
        },
        {
            "cell_type": "code",
            "execution_count": 7,
            "metadata": {},
            "outputs": [],
            "source": [
                "# entity\n",
                "pv_panel = Brick.PV_Panel(EX['panel-1'], 'Panel-1')\n",
                "\n",
                "# add shapes\n",
                "pv_panel.add_currentFlowType(current_flow_type_shape)\n",
                "pv_panel.add_electricalPhases(phases_shape)\n",
                "pv_panel.add_electricalPhaseCount(phase_count_shape)\n",
                "pv_panel.add_powerComplexity(power_complexity_shape)\n",
                "pv_panel.add_powerFlow(power_flow_shape)"
            ]
        },
        {
            "cell_type": "markdown",
            "metadata": {},
            "source": [
                "### Point"
            ]
        },
        {
            "cell_type": "code",
            "execution_count": 8,
            "metadata": {},
            "outputs": [],
            "source": [
                "# entity\n",
                "active_power_sensor = Brick.Active_Power_Sensor(EX['active-power-sensor-1'], 'Active Power Sensor 1')\n",
                "\n",
                "# add shapes\n",
                "active_power_sensor.add_aggregate(aggregation_shape)"
            ]
        },
        {
            "cell_type": "code",
            "execution_count": 9,
            "metadata": {},
            "outputs": [
                {
                    "name": "stdout",
                    "output_type": "stream",
                    "text": [
                        "@prefix brick: <https://brickschema.org/schema/Brick#> .\n",
                        "@prefix ex: <urn:example#> .\n",
                        "@prefix unit: <http://qudt.org/vocab/unit/> .\n",
                        "@prefix xsd: <http://www.w3.org/2001/XMLSchema#> .\n",
                        "\n",
                        "ex:active-power-sensor-1 a brick:Active_Power_Sensor ;\n",
                        "    brick:aggregate [ a brick:AggregationShape ;\n",
                        "            brick:aggregationFunction \"max\" ;\n",
                        "            brick:aggregationInterval \"max\"^^xsd:string ] .\n",
                        "\n",
                        "ex:building a brick:Building ;\n",
                        "    brick:buildingPrimaryFunction [ a brick:BuildingPrimaryFunctionShape ;\n",
                        "            brick:value \"Adult Education\"^^xsd:string ] ;\n",
                        "    brick:thermalTransmittence [ a brick:ThermalTransmittenceShape ;\n",
                        "            brick:hasUnit unit:W-PER-M2-K ;\n",
                        "            brick:value 2.021e+03 ] ;\n",
                        "    brick:yearBuilt [ a brick:YearBuiltShape ;\n",
                        "            brick:value 2021 ] .\n",
                        "\n",
                        "ex:ch-1 a brick:Chiller ;\n",
                        "    brick:coolingCapacity [ a brick:CoolingCapacityShape ;\n",
                        "            brick:hasUnit unit:W ;\n",
                        "            brick:value 2.021e+03 ] ;\n",
                        "    brick:operationalStage [ a brick:StageShape ;\n",
                        "            brick:value 2 ] .\n",
                        "\n",
                        "ex:panel-1 a brick:PV_Panel ;\n",
                        "    brick:currentFlowType [ a brick:CurrentFlowTypeShape ;\n",
                        "            brick:value \"AC\"^^xsd:string ] ;\n",
                        "    brick:electricalPhaseCount [ a brick:PhaseCountShape ;\n",
                        "            brick:value \"2\"^^xsd:string ] ;\n",
                        "    brick:electricalPhases [ a brick:PhasesShape ;\n",
                        "            brick:value \"A\"^^xsd:string ] ;\n",
                        "    brick:powerComplexity [ a brick:PowerComplexityShape ;\n",
                        "            brick:value \"real\"^^xsd:string ] ;\n",
                        "    brick:powerFlow [ a brick:PowerFlowShape ;\n",
                        "            brick:value \"import\"^^xsd:string ] .\n",
                        "\n",
                        "ex:room1 a brick:Room ;\n",
                        "    brick:area [ a brick:AreaShape ;\n",
                        "            brick:hasUnit unit:FT2 ;\n",
                        "            brick:value 2.021e+03 ] ;\n",
                        "    brick:volume [ a brick:VolumeShape ;\n",
                        "            brick:hasUnit unit:FT3 ;\n",
                        "            brick:value 2.021e+03 ] .\n",
                        "\n",
                        "\n"
                    ]
                }
            ],
            "source": [
                "# compile data graph, which validates it too\n",
                "data_graph = compile_model([('ex', EX)]) # provide namespaces when compiling\n",
                "\n",
                "# print\n",
                "if print_graphs: tg.print_graph(data_graph)"
            ]
        },
        {
            "cell_type": "markdown",
            "metadata": {},
            "source": [
                "# Shapes Graph (tasty)"
            ]
        },
        {
            "cell_type": "code",
            "execution_count": 10,
            "metadata": {},
            "outputs": [
                {
                    "name": "stdout",
                    "output_type": "stream",
                    "text": [
                        "@prefix brick: <https://brickschema.org/schema/Brick#> .\n",
                        "@prefix owl: <http://www.w3.org/2002/07/owl#> .\n",
                        "@prefix rdf: <http://www.w3.org/1999/02/22-rdf-syntax-ns#> .\n",
                        "@prefix sh: <http://www.w3.org/ns/shacl#> .\n",
                        "@prefix skos: <http://www.w3.org/2004/02/skos/core#> .\n",
                        "@prefix unit: <http://qudt.org/vocab/unit/> .\n",
                        "@prefix xsd: <http://www.w3.org/2001/XMLSchema#> .\n",
                        "\n",
                        "brick:AggregationShape a owl:Class,\n",
                        "        sh:NodeShape ;\n",
                        "    sh:property [ a sh:PropertyShape ;\n",
                        "            skos:definition \"Interval expressed in an ISO 8601 Duration string, e.g. RP1D\" ;\n",
                        "            sh:datatype xsd:string ;\n",
                        "            sh:minCount 1 ;\n",
                        "            sh:path brick:aggregationInterval ],\n",
                        "        [ a sh:PropertyShape ;\n",
                        "            skos:definition \"The aggregation function applied to data in the interval which produces the value\" ;\n",
                        "            sh:in ( \"max\" \"min\" \"count\" \"mean\" \"sum\" \"median\" \"mode\" ) ;\n",
                        "            sh:minCount 1 ;\n",
                        "            sh:path brick:aggregationFunction ] .\n",
                        "\n",
                        "brick:AreaShape a owl:Class,\n",
                        "        sh:NodeShape ;\n",
                        "    sh:property [ a sh:PropertyShape ;\n",
                        "            sh:in ( unit:FT2 unit:M2 ) ;\n",
                        "            sh:minCount 1 ;\n",
                        "            sh:path brick:hasUnit ],\n",
                        "        [ a sh:PropertyShape ;\n",
                        "            sh:datatype xsd:double ;\n",
                        "            sh:minCount 1 ;\n",
                        "            sh:path brick:value ] .\n",
                        "\n",
                        "brick:BuildingPrimaryFunctionShape a owl:Class,\n",
                        "        sh:NodeShape ;\n",
                        "    sh:property [ a sh:PropertyShape ;\n",
                        "            sh:in ( \"Adult Education\"^^xsd:string \"Ambulatory Surgical Center\"^^xsd:string \"Aquarium\"^^xsd:string \"Automobile Dealership\"^^xsd:string \"Bank Branch\"^^xsd:string \"Bar/Nightclub\"^^xsd:string \"Barracks\"^^xsd:string \"Bowling Alley\"^^xsd:string \"Casino\"^^xsd:string \"College/University\"^^xsd:string \"Convenience Store with Gas Station\"^^xsd:string \"Convenience Store without Gas Station\"^^xsd:string \"Convention Center\"^^xsd:string \"Courthouse\"^^xsd:string \"Data Center\"^^xsd:string \"Distribution Center\"^^xsd:string \"Drinking Water Treatment & Distribution\"^^xsd:string \"Enclosed Mall\"^^xsd:string \"Energy/Power Station\"^^xsd:string \"Fast Food Restaurant\"^^xsd:string \"Financial Office\"^^xsd:string \"Fire Station\"^^xsd:string \"Fitness Center/Health Club/Gym\"^^xsd:string \"Food Sales\"^^xsd:string \"Food Service\"^^xsd:string \"Hospital (General Medical & Surgical)\"^^xsd:string \"Hotel\"^^xsd:string \"Ice/Curling Rink\"^^xsd:string \"Indoor Arena\"^^xsd:string \"K-12 School\"^^xsd:string \"Laboratory\"^^xsd:string \"Library\"^^xsd:string \"Lifestyle Center\"^^xsd:string \"Mailing Center/Post Office\"^^xsd:string \"Manufacturing/Industrial Plant\"^^xsd:string \"Medical Office\"^^xsd:string \"Mixed Use Property\"^^xsd:string \"Movie Theater\"^^xsd:string \"Multifamily Housing\"^^xsd:string \"Museum\"^^xsd:string \"Non-Refrigerated Warehouse\"^^xsd:string \"Office\"^^xsd:string \"Other - Education\"^^xsd:string \"Other - Entertainment/Public Assembly\"^^xsd:string \"Other - Lodging/Residential\"^^xsd:string \"Other - Mall\"^^xsd:string \"Other - Public Services\"^^xsd:string \"Other - Recreation\"^^xsd:string \"Other - Restaurant/Bar\"^^xsd:string \"Other - Services\"^^xsd:string \"Other - Stadium\"^^xsd:string \"Other - Technology/Science\"^^xsd:string \"Other - Utility\"^^xsd:string \"Other\"^^xsd:string \"Other/Specialty Hospital\"^^xsd:string \"Outpatient Rehabilitation/Physical Therapy\"^^xsd:string \"Parking\"^^xsd:string \"Performing Arts\"^^xsd:string \"Personal Services (Health/Beauty, Dry Cleaning, etc)\"^^xsd:string \"Police Station\"^^xsd:string \"Pre-school/Daycare\"^^xsd:string \"Prison/Incarceration\"^^xsd:string \"Race Track\"^^xsd:string \"Refrigerated Warehouse\"^^xsd:string \"Repair Services (Vehicle, Shoe, Locksmith, etc)\"^^xsd:string \"Residence Hall/Dormitory\"^^xsd:string \"Restaurant\"^^xsd:string \"Retail Store\"^^xsd:string \"Roller Rink\"^^xsd:string \"Self-Storage Facility\"^^xsd:string \"Senior Care Community\"^^xsd:string \"Single Family Home\"^^xsd:string \"Social/Meeting Hall\"^^xsd:string \"Stadium (Closed)\"^^xsd:string \"Stadium (Open)\"^^xsd:string \"Strip Mall\"^^xsd:string \"Supermarket/Grocery Store\"^^xsd:string \"Swimming Pool\"^^xsd:string \"Transportation Terminal/Station\"^^xsd:string \"Urgent Care/Clinic/Other Outpatient\"^^xsd:string \"Veterinary Office\"^^xsd:string \"Vocational School\"^^xsd:string \"Wastewater Treatment Plant\"^^xsd:string \"Wholesale Club/Supercenter\"^^xsd:string \"Worship Facility\"^^xsd:string \"Zoo\"^^xsd:string ) ;\n",
                        "            sh:minCount 1 ;\n",
                        "            sh:path brick:value ] .\n",
                        "\n",
                        "brick:CoolingCapacityShape a owl:Class,\n",
                        "        sh:NodeShape ;\n",
                        "    sh:property [ a sh:PropertyShape ;\n",
                        "            sh:datatype xsd:double ;\n",
                        "            sh:minCount 1 ;\n",
                        "            sh:path brick:value ],\n",
                        "        [ a sh:PropertyShape ;\n",
                        "            sh:in ( unit:TON_FG unit:BTU_IT-PER-HR unit:BTU_TH-PER-HR unit:W ) ;\n",
                        "            sh:minCount 1 ;\n",
                        "            sh:path brick:hasUnit ] .\n",
                        "\n",
                        "brick:CurrentFlowTypeShape a owl:Class,\n",
                        "        sh:NodeShape ;\n",
                        "    sh:property [ a sh:PropertyShape ;\n",
                        "            sh:in ( \"AC\"^^xsd:string \"DC\"^^xsd:string ) ;\n",
                        "            sh:minCount 1 ;\n",
                        "            sh:path brick:value ] .\n",
                        "\n",
                        "brick:PhaseCountShape a owl:Class,\n",
                        "        sh:NodeShape ;\n",
                        "    sh:property [ a sh:PropertyShape ;\n",
                        "            sh:in ( \"1\"^^xsd:string \"2\"^^xsd:string \"3\"^^xsd:string \"Total\"^^xsd:string ) ;\n",
                        "            sh:minCount 1 ;\n",
                        "            sh:path brick:value ] .\n",
                        "\n",
                        "brick:PhasesShape a owl:Class,\n",
                        "        sh:NodeShape ;\n",
                        "    sh:property [ a sh:PropertyShape ;\n",
                        "            sh:in ( \"A\"^^xsd:string \"B\"^^xsd:string \"C\"^^xsd:string \"AB\"^^xsd:string \"BC\"^^xsd:string \"AC\"^^xsd:string \"ABC\"^^xsd:string ) ;\n",
                        "            sh:minCount 1 ;\n",
                        "            sh:path brick:value ] .\n",
                        "\n",
                        "brick:PowerComplexityShape a owl:Class,\n",
                        "        sh:NodeShape ;\n",
                        "    sh:property [ a sh:PropertyShape ;\n",
                        "            sh:in ( \"real\"^^xsd:string \"reactive\"^^xsd:string \"apparent\"^^xsd:string ) ;\n",
                        "            sh:minCount 1 ;\n",
                        "            sh:path brick:value ] .\n",
                        "\n",
                        "brick:PowerFlowShape a owl:Class,\n",
                        "        sh:NodeShape ;\n",
                        "    sh:property [ a sh:PropertyShape ;\n",
                        "            sh:in ( \"import\"^^xsd:string \"export\"^^xsd:string \"net\"^^xsd:string \"absolute\"^^xsd:string ) ;\n",
                        "            sh:minCount 1 ;\n",
                        "            sh:path brick:value ] .\n",
                        "\n",
                        "brick:StageShape a owl:Class,\n",
                        "        sh:NodeShape ;\n",
                        "    sh:property [ a sh:PropertyShape ;\n",
                        "            sh:in ( 1 2 3 4 ) ;\n",
                        "            sh:minCount 1 ;\n",
                        "            sh:path brick:value ] .\n",
                        "\n",
                        "brick:ThermalTransmittenceShape a owl:Class,\n",
                        "        sh:NodeShape ;\n",
                        "    sh:property [ a sh:PropertyShape ;\n",
                        "            sh:datatype xsd:double ;\n",
                        "            sh:minCount 1 ;\n",
                        "            sh:path brick:value ],\n",
                        "        [ a sh:PropertyShape ;\n",
                        "            sh:in ( unit:BTU_IT unit:W-PER-M2-K ) ;\n",
                        "            sh:minCount 1 ;\n",
                        "            sh:path brick:hasUnit ] .\n",
                        "\n",
                        "brick:VolumeShape a owl:Class,\n",
                        "        sh:NodeShape ;\n",
                        "    sh:property [ a sh:PropertyShape ;\n",
                        "            sh:in ( unit:FT3 unit:M3 ) ;\n",
                        "            sh:minCount 1 ;\n",
                        "            sh:path brick:hasUnit ],\n",
                        "        [ a sh:PropertyShape ;\n",
                        "            sh:datatype xsd:double ;\n",
                        "            sh:minCount 1 ;\n",
                        "            sh:path brick:value ] .\n",
                        "\n",
                        "brick:YearBuiltShape a owl:Class,\n",
                        "        sh:NodeShape ;\n",
                        "    sh:property [ a sh:PropertyShape ;\n",
                        "            sh:datatype xsd:integer ;\n",
                        "            sh:minCount 1 ;\n",
                        "            sh:path brick:value ] .\n",
                        "\n",
                        "\n"
                    ]
                }
            ],
            "source": [
                "schema = tc.BRICK\n",
                "version = tc.V1_2\n",
                "\n",
                "# load ontology\n",
                "brick_ontology = tg.load_ontology(schema, version)\n",
                "\n",
                "# shapes graph\n",
                "sl = ShapesLoader(schema)\n",
                "shapes_graph = sl.load_all_shapes()\n",
                "shapes_graph.bind('ex', EX)\n",
                "\n",
                "# print\n",
                "if print_graphs: tg.print_graph(shapes_graph)"
            ]
        },
        {
            "cell_type": "markdown",
            "metadata": {},
            "source": [
                "# Validate (RDFlib)"
            ]
        },
        {
            "cell_type": "code",
            "execution_count": 11,
            "metadata": {},
            "outputs": [
                {
                    "name": "stdout",
                    "output_type": "stream",
                    "text": [
                        "Validation Report\n",
                        "Conforms: True\n",
                        "\n"
                    ]
                }
            ],
            "source": [
                "conforms, results_graph, results_text = validate(data_graph=data_graph, shacl_graph=shapes_graph, ont_graph=brick_ontology)\n",
                "print(results_text)"
            ]
        }
    ],
    "metadata": {
        "interpreter": {
            "hash": "9973c42ab4eb13cca8e7d6f65ec6c1b358f0cd126030ca3e34b53e7ee31f2cc0"
        },
        "kernelspec": {
            "display_name": "Python 3.8.10 64-bit ('.venv': poetry)",
            "name": "python3"
        },
        "language_info": {
            "codemirror_mode": {
                "name": "ipython",
                "version": 3
            },
            "file_extension": ".py",
            "mimetype": "text/x-python",
            "name": "python",
            "nbconvert_exporter": "python",
            "pygments_lexer": "ipython3",
            "version": "3.8.10"
        },
        "orig_nbformat": 4
    },
    "nbformat": 4,
    "nbformat_minor": 2
}
