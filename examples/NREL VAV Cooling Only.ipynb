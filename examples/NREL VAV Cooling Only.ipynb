{
 "cells": [
  {
   "cell_type": "markdown",
   "metadata": {},
   "source": [
    "## Setup"
   ]
  },
  {
   "cell_type": "code",
   "execution_count": 1,
   "metadata": {},
   "outputs": [],
   "source": [
    "from rdflib import Namespace\n",
    "import tasty.constants as tc\n",
    "import tasty.graphs as tg\n",
    "import tasty.entities as tents\n",
    "\n",
    "# Create a namespace and load in a blank Brick / Haystack graph\n",
    "SAMPLE = Namespace('urn:sample/')\n",
    "hg = tg.get_versioned_graph(tc.HAYSTACK, tc.V3_9_10)\n",
    "hg.bind('sample', SAMPLE)\n",
    "h_ont = tg.load_ontology(tc.HAYSTACK, tc.V3_9_10)\n",
    "\n",
    "\n",
    "# Specify the schema version (tc.V9_9_10, etc.) to use\n",
    "hp = tents.HaystackPointDefs(tc.V3_9_10)\n",
    "he = tents.HaystackEquipDefs(tc.V3_9_10)\n",
    "hrefs = tents.HaystackRefDefs(tc.V3_9_10)\n",
    "\n",
    "\n",
    "# Bind all of the first class types as attributes\n",
    "hp.bind()\n",
    "he.bind()\n",
    "hrefs.bind()\n",
    "\n",
    "# Simple wrapper around all of the shapes\n",
    "shrap = tents.ShapesWrapper(tc.HAYSTACK, tc.V3_9_10)\n",
    "\n",
    "shrap.bind()\n",
    "shrap.bind_composite()"
   ]
  },
  {
   "cell_type": "code",
   "execution_count": 3,
   "metadata": {},
   "outputs": [],
   "source": [
    "def print_graph(g):\n",
    "    print(g.serialize(format='turtle').decode('utf-8'))"
   ]
  },
  {
   "cell_type": "markdown",
   "metadata": {},
   "source": [
    "## Building the Equipment"
   ]
  },
  {
   "cell_type": "code",
   "execution_count": null,
   "metadata": {},
   "outputs": [],
   "source": [
    "# create the VAV equip\n",
    "equip_id = \"NREL-VAV-01\"\n",
    "vav = he.coolingOnly_vav.deep_copy()\n",
    "vav.set_namespace(SAMPLE)\n",
    "vav.set_id(equip_id)"
   ]
  },
  {
   "cell_type": "code",
   "execution_count": null,
   "metadata": {},
   "outputs": [],
   "source": [
    "vav.node"
   ]
  },
  {
   "cell_type": "markdown",
   "metadata": {},
   "source": [
    "## Sensors\n",
    "\n",
    "### ZoneThermalComfortSensors\n",
    "\n",
    "When we have first class types for all of the things that we want, we don't need to add extra tags / custom tags / etc. However, the ShapesWrapper makes this easier when we need to define things from shapes."
   ]
  },
  {
   "cell_type": "code",
   "execution_count": null,
   "metadata": {},
   "outputs": [],
   "source": [
    "# Zone Temp Sensor - not using shapes wrapper\n",
    "zats = hp.air_temp_sensor.deep_copy()\n",
    "zats.set_id(f\"{equip_id}-zone-air-temp-sensor\")\n",
    "zats.add_tags(['zone'], h_ont)\n",
    "\n",
    "\n",
    "# Zone Humidity Sensor - using shapes wrapper\n",
    "zarh = shrap.ZoneRelativeHumidityShape.cast_to_entity(f\"{equip_id}-ZoneRelativeHumiditySensor\")"
   ]
  },
  {
   "cell_type": "markdown",
   "metadata": {},
   "source": [
    "### ZoneOccupancySensorsShape"
   ]
  },
  {
   "cell_type": "code",
   "execution_count": null,
   "metadata": {},
   "outputs": [],
   "source": [
    "# binary occ\n",
    "boc = shrap.BinaryOccupancySensorShape.cast_to_entity(f\"{equip_id}-BinaryOccupancySensor\")\n",
    "\n",
    "# occ override\n",
    "occov = shrap.OccupancyOverrideCommandShape.cast_to_entity(f\"{equip_id}-OccupancyOverrideCommandShape\")"
   ]
  },
  {
   "cell_type": "markdown",
   "metadata": {},
   "source": [
    "### ZoneDemandControlledVentilationShape"
   ]
  },
  {
   "cell_type": "code",
   "execution_count": null,
   "metadata": {},
   "outputs": [],
   "source": [
    "zo2 = shrap.zone_air_co2_sensor_shape.cast_to_entity(f\"{equip_id}-zone-air-co2-sensor\")\n",
    "zo2_sp = shrap.zone_air_co2_sp_shape.cast_to_entity(f\"{equip_id}-zone_air_co2_sp_shape\")"
   ]
  },
  {
   "cell_type": "markdown",
   "metadata": {},
   "source": [
    "### ZoneCoolingSetpointsShape"
   ]
  },
  {
   "cell_type": "code",
   "execution_count": null,
   "metadata": {},
   "outputs": [],
   "source": [
    "# Required\n",
    "cool_eff = shrap.ZoneTemperatureCoolingEffectiveSetpointShape.cast_to_entity(f\"{equip_id}-ZoneTemperatureCoolingEffectiveSetpointShape\")\n",
    "cool_occ_eff = shrap.ZoneTemperatureCoolingOccupiedSetpointShape.cast_to_entity(f\"{equip_id}-ZoneTemperatureCoolingOccupiedSetpointShape\")\n",
    "cool_unocc_eff = shrap.ZoneTemperatureCoolingUnoccupiedSetpointShape.cast_to_entity(f\"{equip_id}-ZoneTemperatureCoolingUnoccupiedSetpointShape\")\n",
    "\n",
    "# Optional\n",
    "cool_stdby = shrap.ZoneTemperatureCoolingStandbySetpointShape.cast_to_entity(f\"{equip_id}-ZoneTemperatureCoolingStandbySetpointShape\")"
   ]
  },
  {
   "cell_type": "markdown",
   "metadata": {},
   "source": [
    "### ZoneHeatingSetpointsShape"
   ]
  },
  {
   "cell_type": "code",
   "execution_count": null,
   "metadata": {},
   "outputs": [],
   "source": [
    "# Required\n",
    "heat_eff = shrap.ZoneTemperatureHeatingEffectiveSetpointShape.cast_to_entity(f\"{equip_id}-ZoneTemperatureHeatingEffectiveSetpointShape\")\n",
    "heat_occ_eff = shrap.ZoneTemperatureHeatingOccupiedSetpointShape.cast_to_entity(f\"{equip_id}-ZoneTemperatureHeatingOccupiedSetpointShape\")\n",
    "heat_unocc_eff = shrap.ZoneTemperatureHeatingUnoccupiedSetpointShape.cast_to_entity(f\"{equip_id}-ZoneTemperatureHeatingUnoccupiedSetpointShape\")\n",
    "\n",
    "# Optional\n",
    "heat_stdby = shrap.ZoneTemperatureHeatingStandbySetpointShape.cast_to_entity(f\"{equip_id}-ZoneTemperatureHeatingStandbySetpointShape\")"
   ]
  },
  {
   "cell_type": "markdown",
   "metadata": {},
   "source": [
    "### ZoneModeControlShape"
   ]
  },
  {
   "cell_type": "code",
   "execution_count": null,
   "metadata": {},
   "outputs": [],
   "source": [
    "# Optional\n",
    "zopss = shrap.ZoneEquipmentOperatingStateShape.cast_to_entity(f\"{equip_id}-ZoneEquipmentOperatingStateShape\")\n",
    "occ_mb = shrap.OccupancyModeBinaryShape.cast_to_entity(f\"{equip_id}-OccupancyModeBinaryShape\")\n",
    "occ_mstdby = shrap.OccupancyModeStandbyShape.cast_to_entity(f\"{equip_id}-OccupancyModeStandbyShape\")"
   ]
  },
  {
   "cell_type": "markdown",
   "metadata": {},
   "source": [
    "### AirTemperatureControlShape"
   ]
  },
  {
   "cell_type": "code",
   "execution_count": null,
   "metadata": {},
   "outputs": [],
   "source": [
    "# Required\n",
    "dats = shrap.DischargeAirTemperatureShape.cast_to_entity(f\"{equip_id}-DischargeAirTemperatureShape\")\n",
    "\n",
    "# Optional\n",
    "cool_rqsts = shrap.CoolingRequestsShape.cast_to_entity(f\"{equip_id}-CoolingRequestsShape\")\n",
    "heat_rqsts = shrap.HeatingRequestsShape.cast_to_entity(f\"{equip_id}-HeatingRequestsShape\")"
   ]
  },
  {
   "cell_type": "markdown",
   "metadata": {},
   "source": [
    "### VAVAirFlowControlShape"
   ]
  },
  {
   "cell_type": "code",
   "execution_count": null,
   "metadata": {},
   "outputs": [],
   "source": [
    "# Required\n",
    "dad = shrap.DischargeAirDamperCommandShape.cast_to_entity(f\"{equip_id}-DischargeAirDamperCommandShape\")\n",
    "feed_dad = shrap.DischargeAirDamperFeedbackShape.cast_to_entity(f\"{equip_id}-DischargeAirDamperFeedbackShape\")\n",
    "dafs = shrap.DischargeAirFlowShape.cast_to_entity(f\"{equip_id}-DischargeAirFlowShape\")\n",
    "\n",
    "# Opts\n",
    "dafsp = shrap.DischargeAirFlowSetpointShape.cast_to_entity(f\"{equip_id}-DischargeAirFlowSetpointShape\")\n",
    "min_heat_dafsp = shrap.MinimumHeatingDischargeAirFlowSetpointShape.cast_to_entity(f\"{equip_id}-MinimumHeatingDischargeAirFlowSetpointShape\")\n",
    "min_cool_dafsp = shrap.MinimumCoolingDischargeAirFlowSetpointShape.cast_to_entity(f\"{equip_id}-MinimumCoolingDischargeAirFlowSetpointShape\")\n",
    "max_heat_dafsp = shrap.MaximumHeatingDischargeAirFlowSetpointShape.cast_to_entity(f\"{equip_id}-MaximumHeatingDischargeAirFlowSetpointShape\")\n",
    "max_cool_dafsp = shrap.MaximumCoolingDischargeAirFlowSetpointShape.cast_to_entity(f\"{equip_id}-MaximumCoolingDischargeAirFlowSetpointShape\")"
   ]
  },
  {
   "cell_type": "code",
   "execution_count": null,
   "metadata": {},
   "outputs": [],
   "source": [
    "sensors = []\n",
    "# add them to the list\n",
    "sensors += [\n",
    "    zats, zarh, # ZoneThermalComfortSensors\n",
    "    boc, occov, # ZoneOccupancySensors\n",
    "    zo2, zo2_sp, # ZoneDCV\n",
    "    cool_eff, cool_occ_eff, cool_unocc_eff, cool_stdby, # ZoneCooling\n",
    "    heat_eff, heat_occ_eff, heat_unocc_eff, heat_stdby, # ZoneHeating\n",
    "    zopss, occ_mb, occ_mstdby, # ZoneModeControl\n",
    "    dats, cool_rqsts, heat_rqsts, # AirTemperatureControl\n",
    "    dad, feed_dad, dafs, dafsp, min_heat_dafsp, min_cool_dafsp, max_heat_dafsp, max_cool_dafsp # VAVAirFlowControlShape\n",
    "]"
   ]
  },
  {
   "cell_type": "markdown",
   "metadata": {},
   "source": [
    "## Sync with the Graph\n",
    "\n",
    "To utilize the sync method, at least one of the things needs to be bound to a graph. We will only explicitly bind the VAV, the other things will get brought in."
   ]
  },
  {
   "cell_type": "code",
   "execution_count": null,
   "metadata": {},
   "outputs": [],
   "source": [
    "vav.bind_to_graph(hg)"
   ]
  },
  {
   "cell_type": "code",
   "execution_count": null,
   "metadata": {},
   "outputs": [],
   "source": [
    "# Loop through em\n",
    "for sensor in sensors:\n",
    "    sensor.set_namespace(SAMPLE)\n",
    "    sensor.add_relationship(hrefs.equipRef, vav)\n",
    "    sensor.sync()"
   ]
  },
  {
   "cell_type": "code",
   "execution_count": null,
   "metadata": {},
   "outputs": [],
   "source": [
    "hg.bind('phCustom', tc.PH_CUSTOM)"
   ]
  },
  {
   "cell_type": "markdown",
   "metadata": {},
   "source": [
    "# Build From Composite Shapes"
   ]
  },
  {
   "cell_type": "code",
   "execution_count": 2,
   "metadata": {},
   "outputs": [
    {
     "name": "stdout",
     "output_type": "stream",
     "text": [
      "Bound urn:sample/NREL-VAV-01-zone-air-temp-sensor-shape to graph\n",
      "Bound urn:sample/NREL-VAV-01-ZoneRelativeHumidityShape to graph\n"
     ]
    },
    {
     "name": "stderr",
     "output_type": "stream",
     "text": [
      "WARNING:root:occupancyIndicator not found. adding under custom namespace as: https://project-haystack.org/def/custom#occupancyIndicator\n"
     ]
    },
    {
     "name": "stdout",
     "output_type": "stream",
     "text": [
      "Bound urn:sample/NREL-VAV-01-BinaryOccupancySensorShape to graph\n",
      "Bound urn:sample/NREL-VAV-01-OccupancyOverrideCommandShape to graph\n",
      "Bound urn:sample/NREL-VAV-01-zone-air-co2-sensor-shape to graph\n",
      "Bound urn:sample/NREL-VAV-01-zone-air-co2-sp-shape to graph\n",
      "Bound urn:sample/NREL-VAV-01-ZoneTemperatureCoolingEffectiveSetpointShape to graph\n",
      "Bound urn:sample/NREL-VAV-01-ZoneTemperatureCoolingOccupiedSetpointShape to graph\n",
      "Bound urn:sample/NREL-VAV-01-ZoneTemperatureCoolingUnoccupiedSetpointShape to graph\n",
      "Bound urn:sample/NREL-VAV-01-ZoneTemperatureCoolingStandbySetpointShape to graph\n",
      "Bound urn:sample/NREL-VAV-01-ZoneTemperatureHeatingEffectiveSetpointShape to graph\n",
      "Bound urn:sample/NREL-VAV-01-ZoneTemperatureHeatingOccupiedSetpointShape to graph\n",
      "Bound urn:sample/NREL-VAV-01-ZoneTemperatureHeatingUnoccupiedSetpointShape to graph\n",
      "Bound urn:sample/NREL-VAV-01-ZoneTemperatureHeatingStandbySetpointShape to graph\n"
     ]
    },
    {
     "name": "stderr",
     "output_type": "stream",
     "text": [
      "WARNING:root:operating not found. adding under custom namespace as: https://project-haystack.org/def/custom#operating\n",
      "WARNING:root:mode not found. adding under custom namespace as: https://project-haystack.org/def/custom#mode\n"
     ]
    },
    {
     "name": "stdout",
     "output_type": "stream",
     "text": [
      "Bound urn:sample/NREL-VAV-01-ZoneEquipmentOperatingStateShape to graph\n",
      "Bound urn:sample/NREL-VAV-01-OccupancyModeBinaryShape to graph\n"
     ]
    },
    {
     "name": "stderr",
     "output_type": "stream",
     "text": [
      "WARNING:root:mode not found. adding under custom namespace as: https://project-haystack.org/def/custom#mode\n"
     ]
    },
    {
     "name": "stdout",
     "output_type": "stream",
     "text": [
      "Bound urn:sample/NREL-VAV-01-OccupancyModeStandbyShape to graph\n",
      "Bound urn:sample/NREL-VAV-01-DischargeAirTemperatureShape to graph\n"
     ]
    },
    {
     "name": "stderr",
     "output_type": "stream",
     "text": [
      "WARNING:root:request not found. adding under custom namespace as: https://project-haystack.org/def/custom#request\n"
     ]
    },
    {
     "name": "stdout",
     "output_type": "stream",
     "text": [
      "Bound urn:sample/NREL-VAV-01-CoolingRequestsShape to graph\n"
     ]
    },
    {
     "name": "stderr",
     "output_type": "stream",
     "text": [
      "WARNING:root:request not found. adding under custom namespace as: https://project-haystack.org/def/custom#request\n"
     ]
    },
    {
     "name": "stdout",
     "output_type": "stream",
     "text": [
      "Bound urn:sample/NREL-VAV-01-HeatingRequestsShape to graph\n",
      "Bound urn:sample/NREL-VAV-01-DischargeAirDamperCommandShape to graph\n",
      "Bound urn:sample/NREL-VAV-01-DischargeAirDamperFeedbackShape to graph\n",
      "Bound urn:sample/NREL-VAV-01-DischargeAirFlowShape to graph\n",
      "Bound urn:sample/NREL-VAV-01-DischargeAirFlowSetpointShape to graph\n"
     ]
    },
    {
     "name": "stderr",
     "output_type": "stream",
     "text": [
      "WARNING:root:min not found. adding under custom namespace as: https://project-haystack.org/def/custom#min\n"
     ]
    },
    {
     "name": "stdout",
     "output_type": "stream",
     "text": [
      "Bound urn:sample/NREL-VAV-01-MinimumHeatingDischargeAirFlowSetpointShape to graph\n"
     ]
    },
    {
     "name": "stderr",
     "output_type": "stream",
     "text": [
      "WARNING:root:min not found. adding under custom namespace as: https://project-haystack.org/def/custom#min\n"
     ]
    },
    {
     "name": "stdout",
     "output_type": "stream",
     "text": [
      "Bound urn:sample/NREL-VAV-01-MinimumCoolingDischargeAirFlowSetpointShape to graph\n"
     ]
    },
    {
     "name": "stderr",
     "output_type": "stream",
     "text": [
      "WARNING:root:max not found. adding under custom namespace as: https://project-haystack.org/def/custom#max\n"
     ]
    },
    {
     "name": "stdout",
     "output_type": "stream",
     "text": [
      "Bound urn:sample/NREL-VAV-01-MaximumHeatingDischargeAirFlowSetpointShape to graph\n"
     ]
    },
    {
     "name": "stderr",
     "output_type": "stream",
     "text": [
      "WARNING:root:max not found. adding under custom namespace as: https://project-haystack.org/def/custom#max\n"
     ]
    },
    {
     "name": "stdout",
     "output_type": "stream",
     "text": [
      "Bound urn:sample/NREL-VAV-01-MaximumCoolingDischargeAirFlowSetpointShape to graph\n"
     ]
    },
    {
     "ename": "NameError",
     "evalue": "name 'print_graph' is not defined",
     "output_type": "error",
     "traceback": [
      "\u001b[0;31m---------------------------------------------------------------------------\u001b[0m",
      "\u001b[0;31mNameError\u001b[0m                                 Traceback (most recent call last)",
      "\u001b[0;32m<ipython-input-2-1b0536bfccda>\u001b[0m in \u001b[0;36m<module>\u001b[0;34m\u001b[0m\n\u001b[1;32m     25\u001b[0m \u001b[0;34m\u001b[0m\u001b[0m\n\u001b[1;32m     26\u001b[0m \u001b[0mhg\u001b[0m\u001b[0;34m.\u001b[0m\u001b[0mbind\u001b[0m\u001b[0;34m(\u001b[0m\u001b[0;34m'phCustom'\u001b[0m\u001b[0;34m,\u001b[0m \u001b[0mtc\u001b[0m\u001b[0;34m.\u001b[0m\u001b[0mPH_CUSTOM\u001b[0m\u001b[0;34m)\u001b[0m\u001b[0;34m\u001b[0m\u001b[0;34m\u001b[0m\u001b[0m\n\u001b[0;32m---> 27\u001b[0;31m \u001b[0mprint_graph\u001b[0m\u001b[0;34m(\u001b[0m\u001b[0mhg\u001b[0m\u001b[0;34m)\u001b[0m\u001b[0;34m\u001b[0m\u001b[0;34m\u001b[0m\u001b[0m\n\u001b[0m",
      "\u001b[0;31mNameError\u001b[0m: name 'print_graph' is not defined"
     ]
    }
   ],
   "source": [
    "vav_shape = shrap.NREL_VAV_SD_Cooling_Only_Shape\n",
    "\n",
    "# Add the vav equip\n",
    "equip_id = \"NREL-VAV-01\"\n",
    "vav = vav_shape.cast_to_entity()\n",
    "vav.set_namespace(SAMPLE)\n",
    "vav.set_id(equip_id)\n",
    "vav.bind_to_graph(hg)\n",
    "\n",
    "# function to add points to graph\n",
    "def add_point(point, equip_id):\n",
    "    point = point.cast_to_entity(f\"{equip_id}-{point.name}\")\n",
    "    point.set_namespace(SAMPLE)\n",
    "    point.add_relationship(hrefs.equipRef, vav)\n",
    "    point.sync()\n",
    "    \n",
    "#Loop over the shape mixins to bring in all points optional and required for this equip \n",
    "for composite_shape in vav_shape.shape_mixins:\n",
    "    if composite_shape.required_shapes:\n",
    "        for point in composite_shape.required_shapes:\n",
    "            add_point(point, equip_id)\n",
    "    if composite_shape.optional_shapes:\n",
    "        for point in composite_shape.optional_shapes:\n",
    "            add_point(point, equip_id)\n",
    "\n",
    "hg.bind('phCustom', tc.PH_CUSTOM)\n",
    "print_graph(hg)\n",
    "\n"
   ]
  },
  {
   "cell_type": "code",
   "execution_count": 7,
   "metadata": {},
   "outputs": [
    {
     "name": "stdout",
     "output_type": "stream",
     "text": [
      "None\n"
     ]
    }
   ],
   "source": [
    "print(shrap.G36_HotWaterReheat_VAV_Shape.optional_shapes)"
   ]
  },
  {
   "cell_type": "markdown",
   "metadata": {},
   "source": [
    "# Shapes Based Data Validation"
   ]
  },
  {
   "cell_type": "code",
   "execution_count": 5,
   "metadata": {},
   "outputs": [],
   "source": [
    "from tasty.shapes_loader import ShapesLoader\n",
    "import os\n",
    "from rdflib import Graph, SH\n",
    "from rdflib.util import guess_format\n",
    "from pyshacl import validate"
   ]
  },
  {
   "cell_type": "markdown",
   "metadata": {},
   "source": [
    "### Import All Shapes\n",
    "\n",
    "The ShapesLoader gives us a wrapper around loading in the shapes graphs"
   ]
  },
  {
   "cell_type": "code",
   "execution_count": 6,
   "metadata": {},
   "outputs": [],
   "source": [
    "sl = ShapesLoader(tc.HAYSTACK)\n",
    "shapes_graph = sl.load_all_shapes()\n",
    "shapes_graph.bind('sample', SAMPLE)"
   ]
  },
  {
   "cell_type": "markdown",
   "metadata": {},
   "source": [
    "### Load in a Data Graph and Validate\n",
    "\n",
    "Here we validate the newly constructed data graph against the:\n",
    "- `NREL-VAV-SD-Cooling-Only-Shape`, and it passes!"
   ]
  },
  {
   "cell_type": "code",
   "execution_count": 7,
   "metadata": {},
   "outputs": [],
   "source": [
    "shapes_graph.add((tc.PH_SHAPES_NREL['NREL-VAV-SD-Cooling-Only-Shape'], SH.targetNode, vav.node))\n",
    "conforms, results_graph, results = validate(hg, shacl_graph=shapes_graph, ont_graph=h_ont)"
   ]
  },
  {
   "cell_type": "code",
   "execution_count": 8,
   "metadata": {},
   "outputs": [
    {
     "data": {
      "text/plain": [
       "True"
      ]
     },
     "execution_count": 8,
     "metadata": {},
     "output_type": "execute_result"
    }
   ],
   "source": [
    "conforms"
   ]
  },
  {
   "cell_type": "code",
   "execution_count": null,
   "metadata": {},
   "outputs": [],
   "source": []
  }
 ],
 "metadata": {
  "kernelspec": {
   "display_name": "Python 3",
   "language": "python",
   "name": "python3"
  },
  "language_info": {
   "codemirror_mode": {
    "name": "ipython",
    "version": 3
   },
   "file_extension": ".py",
   "mimetype": "text/x-python",
   "name": "python",
   "nbconvert_exporter": "python",
   "pygments_lexer": "ipython3",
   "version": "3.7.4"
  }
 },
 "nbformat": 4,
 "nbformat_minor": 4
}
