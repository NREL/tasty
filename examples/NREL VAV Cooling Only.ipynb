{
 "cells": [
  {
   "cell_type": "markdown",
   "metadata": {},
   "source": [
    "## Setup"
   ]
  },
  {
   "cell_type": "code",
   "execution_count": 1,
   "metadata": {},
   "outputs": [
    {
     "name": "stderr",
     "output_type": "stream",
     "text": [
      "WARNING:root:ZoneEquipmentOperatingStateShape exists in multiple namespaces\n"
     ]
    }
   ],
   "source": [
    "from rdflib import Namespace\n",
    "import tasty.constants as tc\n",
    "import tasty.graphs as tg\n",
    "import tasty.entities as tents\n",
    "\n",
    "# Create a namespace and load in a blank Brick / Haystack graph\n",
    "SAMPLE = Namespace('urn:sample#')\n",
    "hg = tg.get_versioned_graph(tc.HAYSTACK, tc.V3_9_10)\n",
    "hg.bind('sample', SAMPLE)\n",
    "h_ont = tg.load_ontology(tc.HAYSTACK, tc.V3_9_10)\n",
    "\n",
    "# Specify the schema version (tc.V9_9_10, etc.) to use\n",
    "hp = tents.HaystackPointDefs(tc.V3_9_10)\n",
    "he = tents.HaystackEquipDefs(tc.V3_9_10)\n",
    "hrefs = tents.HaystackRefDefs(tc.V3_9_10)\n",
    "\n",
    "# Bind all of the first class types as attributes\n",
    "hp.bind()\n",
    "he.bind()\n",
    "hrefs.bind()\n",
    "\n",
    "# Simple wrapper around all of the shapes\n",
    "shrap = tents.ShapesWrapper(tc.HAYSTACK, tc.V3_9_10)\n",
    "shrap.bind()"
   ]
  },
  {
   "cell_type": "code",
   "execution_count": 2,
   "metadata": {},
   "outputs": [],
   "source": [
    "def print_graph(g):\n",
    "    print(g.serialize(format='turtle').decode('utf-8'))"
   ]
  },
  {
   "cell_type": "markdown",
   "metadata": {},
   "source": [
    "## Building the Equipment"
   ]
  },
  {
   "cell_type": "code",
   "execution_count": 3,
   "metadata": {},
   "outputs": [
    {
     "data": {
      "text/plain": [
       "'NREL-VAV-01'"
      ]
     },
     "execution_count": 3,
     "metadata": {},
     "output_type": "execute_result"
    }
   ],
   "source": [
    "# create the VAV equip\n",
    "equip_id = \"NREL-VAV-01\"\n",
    "vav = he.coolingOnly_vav.deep_copy()\n",
    "vav.set_namespace(SAMPLE)\n",
    "vav.set_id(equip_id)"
   ]
  },
  {
   "cell_type": "markdown",
   "metadata": {},
   "source": [
    "## Sensors\n",
    "\n",
    "### VAVZoneThermalComfortSensors\n",
    "\n",
    "When we have first class types for all of the things that we want, we don't need to add extra tags / custom tags / etc. However, the ShapesWrapper makes this easier when we need to define things from shapes."
   ]
  },
  {
   "cell_type": "code",
   "execution_count": 4,
   "metadata": {},
   "outputs": [
    {
     "name": "stderr",
     "output_type": "stream",
     "text": [
      "WARNING:root:occupancyIndicator not found. adding under custom namespace as: https://project-haystack.org/def/custom#occupancyIndicator\n"
     ]
    },
    {
     "data": {
      "text/plain": [
       "'NREL-VAV-01-OccupancyOverrideCommandShape'"
      ]
     },
     "execution_count": 4,
     "metadata": {},
     "output_type": "execute_result"
    }
   ],
   "source": [
    "# Zone Temp Sensor - not using shapes wrapper\n",
    "zats = hp.air_temp_sensor.deep_copy()\n",
    "zats.set_id(f\"{equip_id}-zone-air-temp-sensor\")\n",
    "zats.add_tags(['zone'], h_ont)\n",
    "\n",
    "\n",
    "# Zone Humidity Sensor - using shapes wrapper\n",
    "zarh = shrap.ZoneRelativeHumidityShape.cast_to_entity()\n",
    "zarh.set_id(f\"{equip_id}-ZoneRelativeHumiditySensor\")\n",
    "\n",
    "# Zone CO2 Sensor\n",
    "zo2 = shrap.zone_air_co2_sensor_shape.cast_to_entity()\n",
    "zo2.set_id(f\"{equip_id}-zone-air-co2-sensor\")\n",
    "\n",
    "# binary occ\n",
    "boc = shrap.BinaryOccupancySensorShape.cast_to_entity()\n",
    "boc.set_id(f\"{equip_id}-BinaryOccupancySensor\")\n",
    "\n",
    "# occ override\n",
    "occov = shrap.OccupancyOverrideCommandShape.cast_to_entity()\n",
    "occov.set_id(f\"{equip_id}-OccupancyOverrideCommandShape\")"
   ]
  },
  {
   "cell_type": "markdown",
   "metadata": {},
   "source": [
    "### VAVZoneThermalComfortSetpoints"
   ]
  },
  {
   "cell_type": "code",
   "execution_count": 5,
   "metadata": {},
   "outputs": [
    {
     "data": {
      "text/plain": [
       "'NREL-VAV-01-zone_air_co2_sp_shape'"
      ]
     },
     "execution_count": 5,
     "metadata": {},
     "output_type": "execute_result"
    }
   ],
   "source": [
    "# Required\n",
    "cool_eff = shrap.ZoneTemperatureCoolingEffectiveSetpointShape.cast_to_entity()\n",
    "cool_eff.set_id(f\"{equip_id}-ZoneTemperatureCoolingEffectiveSetpointShape\")\n",
    "\n",
    "heat_eff = shrap.ZoneTemperatureHeatingEffectiveSetpointShape.cast_to_entity()\n",
    "heat_eff.set_id(f\"{equip_id}-ZoneTemperatureHeatingEffectiveSetpointShape\")\n",
    "\n",
    "cool_occ_eff = shrap.ZoneTemperatureCoolingOccupiedSetpointShape.cast_to_entity()\n",
    "cool_occ_eff.set_id(f\"{equip_id}-ZoneTemperatureCoolingOccupiedSetpointShape\")\n",
    "\n",
    "heat_occ_eff = shrap.ZoneTemperatureHeatingOccupiedSetpointShape.cast_to_entity()\n",
    "heat_occ_eff.set_id(f\"{equip_id}-ZoneTemperatureHeatingOccupiedSetpointShape\")\n",
    "\n",
    "cool_unocc_eff = shrap.ZoneTemperatureCoolingUnoccupiedSetpointShape.cast_to_entity()\n",
    "cool_unocc_eff.set_id(f\"{equip_id}-ZoneTemperatureCoolingUnoccupiedSetpointShape\")\n",
    "\n",
    "heat_unocc_eff = shrap.ZoneTemperatureHeatingUnoccupiedSetpointShape.cast_to_entity()\n",
    "heat_unocc_eff.set_id(f\"{equip_id}-ZoneTemperatureHeatingUnoccupiedSetpointShape\")\n",
    "\n",
    "# Optional\n",
    "cool_stdby = shrap.ZoneTemperatureCoolingStandbySetpointShape.cast_to_entity()\n",
    "cool_stdby.set_id(f\"{equip_id}-ZoneTemperatureCoolingStandbySetpointShape\")\n",
    "\n",
    "heat_stdby = shrap.ZoneTemperatureHeatingStandbySetpointShape.cast_to_entity()\n",
    "heat_stdby.set_id(f\"{equip_id}-ZoneTemperatureHeatingStandbySetpointShape\")\n",
    "\n",
    "zo2_sp = shrap.zone_air_co2_sp_shape.cast_to_entity()\n",
    "zo2_sp.set_id(f\"{equip_id}-zone_air_co2_sp_shape\")"
   ]
  },
  {
   "cell_type": "markdown",
   "metadata": {},
   "source": [
    "### VAVModeControlShape"
   ]
  },
  {
   "cell_type": "code",
   "execution_count": 6,
   "metadata": {},
   "outputs": [
    {
     "name": "stderr",
     "output_type": "stream",
     "text": [
      "WARNING:root:operating not found. adding under custom namespace as: https://project-haystack.org/def/custom#operating\n",
      "WARNING:root:mode not found. adding under custom namespace as: https://project-haystack.org/def/custom#mode\n",
      "WARNING:root:mode not found. adding under custom namespace as: https://project-haystack.org/def/custom#mode\n"
     ]
    },
    {
     "data": {
      "text/plain": [
       "'NREL-VAV-01-OccupancyModeStandbyShape'"
      ]
     },
     "execution_count": 6,
     "metadata": {},
     "output_type": "execute_result"
    }
   ],
   "source": [
    "# Required\n",
    "zopss = shrap.ZoneEquipmentOperatingStateShape.cast_to_entity()\n",
    "zopss.set_id(f\"{equip_id}-ZoneEquipmentOperatingStateShape\")\n",
    "\n",
    "occ_mb = shrap.OccupancyModeBinaryShape.cast_to_entity()\n",
    "occ_mb.set_id(f\"{equip_id}-OccupancyModeBinaryShape\")\n",
    "\n",
    "occ_mstdby = shrap.OccupancyModeStandbyShape.cast_to_entity()\n",
    "occ_mstdby.set_id(f\"{equip_id}-OccupancyModeStandbyShape\")"
   ]
  },
  {
   "cell_type": "markdown",
   "metadata": {},
   "source": [
    "### VAVAirFlowControlShape"
   ]
  },
  {
   "cell_type": "code",
   "execution_count": 7,
   "metadata": {},
   "outputs": [
    {
     "name": "stderr",
     "output_type": "stream",
     "text": [
      "WARNING:root:min not found. adding under custom namespace as: https://project-haystack.org/def/custom#min\n",
      "WARNING:root:min not found. adding under custom namespace as: https://project-haystack.org/def/custom#min\n",
      "WARNING:root:max not found. adding under custom namespace as: https://project-haystack.org/def/custom#max\n",
      "WARNING:root:max not found. adding under custom namespace as: https://project-haystack.org/def/custom#max\n"
     ]
    },
    {
     "data": {
      "text/plain": [
       "'NREL-VAV-01-MaximumCoolingDischargeAirFlowSetpointShape'"
      ]
     },
     "execution_count": 7,
     "metadata": {},
     "output_type": "execute_result"
    }
   ],
   "source": [
    "# Required\n",
    "dad = shrap.DischargeAirDamperCommandShape.cast_to_entity()\n",
    "dad.set_id(f\"{equip_id}-DischargeAirDamperCommandShape\")\n",
    "\n",
    "feed_dad = shrap.DischargeAirDamperFeedbackShape.cast_to_entity()\n",
    "feed_dad.set_id(f\"{equip_id}-DischargeAirDamperFeedbackShape\")\n",
    "\n",
    "dafs = shrap.DischargeAirFlowShape.cast_to_entity()\n",
    "dafs.set_id(f\"{equip_id}-DischargeAirFlowShape\")\n",
    "\n",
    "# Opts\n",
    "dafsp = shrap.DischargeAirFlowSetpointShape.cast_to_entity()\n",
    "dafsp.set_id(f\"{equip_id}-DischargeAirFlowSetpointShape\")\n",
    "\n",
    "min_heat_dafsp = shrap.MinimumHeatingDischargeAirFlowSetpointShape.cast_to_entity()\n",
    "min_heat_dafsp.set_id(f\"{equip_id}-MinimumHeatingDischargeAirFlowSetpointShape\")\n",
    "\n",
    "min_cool_dafsp = shrap.MinimumCoolingDischargeAirFlowSetpointShape.cast_to_entity()\n",
    "min_cool_dafsp.set_id(f\"{equip_id}-MinimumCoolingDischargeAirFlowSetpointShape\")\n",
    "\n",
    "max_heat_dafsp = shrap.MaximumHeatingDischargeAirFlowSetpointShape.cast_to_entity()\n",
    "max_heat_dafsp.set_id(f\"{equip_id}-MaximumHeatingDischargeAirFlowSetpointShape\")\n",
    "\n",
    "max_cool_dafsp = shrap.MaximumCoolingDischargeAirFlowSetpointShape.cast_to_entity()\n",
    "max_cool_dafsp.set_id(f\"{equip_id}-MaximumCoolingDischargeAirFlowSetpointShape\")"
   ]
  },
  {
   "cell_type": "markdown",
   "metadata": {},
   "source": [
    "### Misc"
   ]
  },
  {
   "cell_type": "code",
   "execution_count": 8,
   "metadata": {},
   "outputs": [
    {
     "data": {
      "text/plain": [
       "'NREL-VAV-01-DischargeAirTemperatureShape'"
      ]
     },
     "execution_count": 8,
     "metadata": {},
     "output_type": "execute_result"
    }
   ],
   "source": [
    "# the lone wolf\n",
    "dats = shrap.DischargeAirTemperatureShape.cast_to_entity()\n",
    "dats.set_id(f\"{equip_id}-DischargeAirTemperatureShape\")"
   ]
  },
  {
   "cell_type": "code",
   "execution_count": 9,
   "metadata": {},
   "outputs": [],
   "source": [
    "sensors = []\n",
    "# add them to the list\n",
    "sensors += [zats, zarh, zo2, boc, occov]\n",
    "sensors += [cool_eff, heat_eff, cool_occ_eff, heat_occ_eff, cool_unocc_eff, heat_unocc_eff, cool_stdby, heat_stdby, zo2_sp]\n",
    "sensors += [zopss, occ_mb, occ_mstdby]\n",
    "sensors += [dad, feed_dad, dafs, dafsp, min_heat_dafsp, min_cool_dafsp, max_heat_dafsp, max_cool_dafsp]"
   ]
  },
  {
   "cell_type": "markdown",
   "metadata": {},
   "source": [
    "## Sync with the Graph\n",
    "\n",
    "To utilize the sync method, at least one of the things needs to be bound to a graph. We will only explicitly bind the VAV, the other things will get brought in."
   ]
  },
  {
   "cell_type": "code",
   "execution_count": 10,
   "metadata": {},
   "outputs": [
    {
     "data": {
      "text/plain": [
       "True"
      ]
     },
     "execution_count": 10,
     "metadata": {},
     "output_type": "execute_result"
    }
   ],
   "source": [
    "vav.bind_to_graph(hg)"
   ]
  },
  {
   "cell_type": "code",
   "execution_count": 15,
   "metadata": {},
   "outputs": [],
   "source": [
    "# Loop through em\n",
    "for sensor in sensors:\n",
    "    sensor.set_namespace(SAMPLE)\n",
    "    sensor.add_relationship(hrefs.equipRef, vav)\n",
    "    sensor.sync()"
   ]
  },
  {
   "cell_type": "code",
   "execution_count": 17,
   "metadata": {},
   "outputs": [],
   "source": [
    "hg.bind('phCustom', tc.PH_CUSTOM)"
   ]
  },
  {
   "cell_type": "code",
   "execution_count": 18,
   "metadata": {},
   "outputs": [
    {
     "name": "stdout",
     "output_type": "stream",
     "text": [
      "@prefix ph: <https://project-haystack.org/def/ph/3.9.10#> .\n",
      "@prefix phCustom: <https://project-haystack.org/def/custom#> .\n",
      "@prefix phIoT: <https://project-haystack.org/def/phIoT/3.9.10#> .\n",
      "@prefix phScience: <https://project-haystack.org/def/phScience/3.9.10#> .\n",
      "@prefix sample: <urn:sample#> .\n",
      "\n",
      "sample:NREL-VAV-01-BinaryOccupancySensor a phIoT:point ;\n",
      "    ph:hasTag phCustom:occupancyIndicator,\n",
      "        phIoT:occupied,\n",
      "        phIoT:sensor ;\n",
      "    phIoT:equipRef sample:NREL-VAV-01 .\n",
      "\n",
      "sample:NREL-VAV-01-DischargeAirDamperCommandShape a phIoT:point ;\n",
      "    ph:hasTag phIoT:cmd,\n",
      "        phIoT:damper,\n",
      "        phIoT:discharge,\n",
      "        phScience:air ;\n",
      "    phIoT:equipRef sample:NREL-VAV-01 .\n",
      "\n",
      "sample:NREL-VAV-01-DischargeAirDamperFeedbackShape a phIoT:air-sensor ;\n",
      "    ph:hasTag phIoT:damper,\n",
      "        phIoT:discharge ;\n",
      "    phIoT:equipRef sample:NREL-VAV-01 .\n",
      "\n",
      "sample:NREL-VAV-01-DischargeAirFlowSetpointShape a phIoT:discharge-air-flow-sp ;\n",
      "    ph:hasTag phIoT:effective ;\n",
      "    phIoT:equipRef sample:NREL-VAV-01 .\n",
      "\n",
      "sample:NREL-VAV-01-DischargeAirFlowShape a phIoT:discharge-air-flow-sensor ;\n",
      "    ph:hasTag phIoT:leaving ;\n",
      "    phIoT:equipRef sample:NREL-VAV-01 .\n",
      "\n",
      "sample:NREL-VAV-01-MaximumCoolingDischargeAirFlowSetpointShape a phIoT:discharge-air-flow-sp ;\n",
      "    ph:hasTag phCustom:max,\n",
      "        phIoT:cooling ;\n",
      "    phIoT:equipRef sample:NREL-VAV-01 .\n",
      "\n",
      "sample:NREL-VAV-01-MaximumHeatingDischargeAirFlowSetpointShape a phIoT:discharge-air-flow-sp ;\n",
      "    ph:hasTag phCustom:max,\n",
      "        phIoT:heating ;\n",
      "    phIoT:equipRef sample:NREL-VAV-01 .\n",
      "\n",
      "sample:NREL-VAV-01-MinimumCoolingDischargeAirFlowSetpointShape a phIoT:discharge-air-flow-sp ;\n",
      "    ph:hasTag phCustom:min,\n",
      "        phIoT:cooling ;\n",
      "    phIoT:equipRef sample:NREL-VAV-01 .\n",
      "\n",
      "sample:NREL-VAV-01-MinimumHeatingDischargeAirFlowSetpointShape a phIoT:discharge-air-flow-sp ;\n",
      "    ph:hasTag phCustom:min,\n",
      "        phIoT:heating ;\n",
      "    phIoT:equipRef sample:NREL-VAV-01 .\n",
      "\n",
      "sample:NREL-VAV-01-OccupancyModeBinaryShape a phIoT:point ;\n",
      "    ph:hasTag phIoT:occupied,\n",
      "        phIoT:sp ;\n",
      "    phIoT:equipRef sample:NREL-VAV-01 .\n",
      "\n",
      "sample:NREL-VAV-01-OccupancyModeStandbyShape a phIoT:point ;\n",
      "    ph:hasTag phCustom:mode,\n",
      "        phIoT:occ,\n",
      "        phIoT:sp ;\n",
      "    phIoT:equipRef sample:NREL-VAV-01 .\n",
      "\n",
      "sample:NREL-VAV-01-OccupancyOverrideCommandShape a phIoT:point ;\n",
      "    ph:hasTag phIoT:cmd,\n",
      "        phIoT:occupied ;\n",
      "    phIoT:equipRef sample:NREL-VAV-01 .\n",
      "\n",
      "sample:NREL-VAV-01-ZoneEquipmentOperatingStateShape a phIoT:point ;\n",
      "    ph:hasTag phCustom:mode,\n",
      "        phCustom:operating,\n",
      "        phIoT:sp ;\n",
      "    phIoT:equipRef sample:NREL-VAV-01 .\n",
      "\n",
      "sample:NREL-VAV-01-ZoneRelativeHumiditySensor a phIoT:air-humidity-sensor ;\n",
      "    ph:hasTag phIoT:zone ;\n",
      "    phIoT:equipRef sample:NREL-VAV-01 .\n",
      "\n",
      "sample:NREL-VAV-01-ZoneTemperatureCoolingEffectiveSetpointShape a phIoT:air-temp-sp ;\n",
      "    ph:hasTag phIoT:cooling,\n",
      "        phIoT:effective,\n",
      "        phIoT:zone ;\n",
      "    phIoT:equipRef sample:NREL-VAV-01 .\n",
      "\n",
      "sample:NREL-VAV-01-ZoneTemperatureCoolingOccupiedSetpointShape a phIoT:air-temp-sp ;\n",
      "    ph:hasTag phIoT:cooling,\n",
      "        phIoT:occ,\n",
      "        phIoT:zone ;\n",
      "    phIoT:equipRef sample:NREL-VAV-01 .\n",
      "\n",
      "sample:NREL-VAV-01-ZoneTemperatureCoolingStandbySetpointShape a phIoT:air-temp-sp ;\n",
      "    ph:hasTag phIoT:cooling,\n",
      "        phIoT:standby,\n",
      "        phIoT:zone ;\n",
      "    phIoT:equipRef sample:NREL-VAV-01 .\n",
      "\n",
      "sample:NREL-VAV-01-ZoneTemperatureCoolingUnoccupiedSetpointShape a phIoT:air-temp-sp ;\n",
      "    ph:hasTag phIoT:cooling,\n",
      "        phIoT:unocc,\n",
      "        phIoT:zone ;\n",
      "    phIoT:equipRef sample:NREL-VAV-01 .\n",
      "\n",
      "sample:NREL-VAV-01-ZoneTemperatureHeatingEffectiveSetpointShape a phIoT:air-temp-sp ;\n",
      "    ph:hasTag phIoT:effective,\n",
      "        phIoT:heating,\n",
      "        phIoT:zone ;\n",
      "    phIoT:equipRef sample:NREL-VAV-01 .\n",
      "\n",
      "sample:NREL-VAV-01-ZoneTemperatureHeatingOccupiedSetpointShape a phIoT:air-temp-sp ;\n",
      "    ph:hasTag phIoT:heating,\n",
      "        phIoT:occ,\n",
      "        phIoT:zone ;\n",
      "    phIoT:equipRef sample:NREL-VAV-01 .\n",
      "\n",
      "sample:NREL-VAV-01-ZoneTemperatureHeatingStandbySetpointShape a phIoT:air-temp-sp ;\n",
      "    ph:hasTag phIoT:heating,\n",
      "        phIoT:standby,\n",
      "        phIoT:zone ;\n",
      "    phIoT:equipRef sample:NREL-VAV-01 .\n",
      "\n",
      "sample:NREL-VAV-01-ZoneTemperatureHeatingUnoccupiedSetpointShape a phIoT:air-temp-sp ;\n",
      "    ph:hasTag phIoT:heating,\n",
      "        phIoT:unocc,\n",
      "        phIoT:zone ;\n",
      "    phIoT:equipRef sample:NREL-VAV-01 .\n",
      "\n",
      "sample:NREL-VAV-01-zone-air-co2-sensor a phIoT:point ;\n",
      "    ph:hasTag phIoT:sensor,\n",
      "        phIoT:zone,\n",
      "        phScience:air,\n",
      "        phScience:co2 ;\n",
      "    phIoT:equipRef sample:NREL-VAV-01 .\n",
      "\n",
      "sample:NREL-VAV-01-zone-air-temp-sensor a phIoT:air-temp-sensor ;\n",
      "    ph:hasTag phIoT:zone ;\n",
      "    phIoT:equipRef sample:NREL-VAV-01 .\n",
      "\n",
      "sample:NREL-VAV-01-zone_air_co2_sp_shape a phIoT:point ;\n",
      "    ph:hasTag phIoT:sp,\n",
      "        phIoT:zone,\n",
      "        phScience:air,\n",
      "        phScience:co2 ;\n",
      "    phIoT:equipRef sample:NREL-VAV-01 .\n",
      "\n",
      "sample:NREL-VAV-01 a phIoT:coolingOnly-vav .\n",
      "\n",
      "\n"
     ]
    }
   ],
   "source": [
    "print_graph(hg)"
   ]
  },
  {
   "cell_type": "code",
   "execution_count": 19,
   "metadata": {},
   "outputs": [],
   "source": [
    "hg.serialize('nrel-vav-cooling-only.ttl', format='turtle')"
   ]
  },
  {
   "cell_type": "code",
   "execution_count": null,
   "metadata": {},
   "outputs": [],
   "source": []
  }
 ],
 "metadata": {
  "kernelspec": {
   "display_name": "Python 3",
   "language": "python",
   "name": "python3"
  },
  "language_info": {
   "codemirror_mode": {
    "name": "ipython",
    "version": 3
   },
   "file_extension": ".py",
   "mimetype": "text/x-python",
   "name": "python",
   "nbconvert_exporter": "python",
   "pygments_lexer": "ipython3",
   "version": "3.7.4"
  }
 },
 "nbformat": 4,
 "nbformat_minor": 4
}
