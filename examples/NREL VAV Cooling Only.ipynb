{
 "cells": [
  {
   "cell_type": "markdown",
   "metadata": {},
   "source": [
    "# Setup"
   ]
  },
  {
   "cell_type": "code",
   "execution_count": 1,
   "metadata": {},
   "outputs": [],
   "source": [
    "from rdflib import Namespace\n",
    "\n",
    "import tasty.constants as tc\n",
    "import tasty.graphs as tg\n",
    "import tasty.entities as te\n",
    "\n",
    "# Create a namespace and load in a blank Brick / Haystack graph\n",
    "SAMPLE = Namespace('urn:sample/')\n",
    "hg = tg.get_versioned_graph(tc.HAYSTACK, tc.V3_9_10)\n",
    "hg.bind('sample', SAMPLE)\n",
    "h_ont = tg.load_ontology(tc.HAYSTACK, tc.V3_9_10)\n",
    "\n",
    "# Specify the schema version (tc.V9_9_10, etc.) to use\n",
    "hp = te.HaystackPointDefs(tc.V3_9_10)\n",
    "he = te.HaystackEquipDefs(tc.V3_9_10)\n",
    "hrefs = te.HaystackRefDefs(tc.V3_9_10)\n",
    "\n",
    "# Bind all of the first class types as attributes\n",
    "hp.bind()\n",
    "he.bind()\n",
    "hrefs.bind()\n",
    "\n",
    "# Simple wrapper around all of the shapes\n",
    "shrap = te.ShapesWrapper(tc.HAYSTACK, tc.V3_9_10)\n",
    "\n",
    "shrap.bind()\n",
    "shrap.bind_composite()"
   ]
  },
  {
   "cell_type": "code",
   "execution_count": 2,
   "metadata": {},
   "outputs": [],
   "source": [
    "def print_graph(g):\n",
    "    print(g.serialize(format='turtle').decode('utf-8'))"
   ]
  },
  {
   "cell_type": "markdown",
   "metadata": {},
   "source": [
    "# Building the Equipment"
   ]
  },
  {
   "cell_type": "code",
   "execution_count": 3,
   "metadata": {},
   "outputs": [
    {
     "output_type": "execute_result",
     "data": {
      "text/plain": [
       "'NREL-VAV-01'"
      ]
     },
     "metadata": {},
     "execution_count": 3
    }
   ],
   "source": [
    "# create the VAV equip\n",
    "equip_id = \"NREL-VAV-01\"\n",
    "vav = he.coolingOnly_vav.deep_copy()\n",
    "vav.set_namespace(SAMPLE)\n",
    "vav.set_id(equip_id)"
   ]
  },
  {
   "cell_type": "code",
   "execution_count": 4,
   "metadata": {},
   "outputs": [],
   "source": [
    "vav.node"
   ]
  },
  {
   "cell_type": "markdown",
   "metadata": {},
   "source": [
    "## Sensors\n",
    "\n",
    "### ZoneThermalComfortSensors\n",
    "\n",
    "When we have first class types for all of the things that we want, we don't need to add extra tags / custom tags / etc. However, the ShapesWrapper makes this easier when we need to define things from shapes."
   ]
  },
  {
   "cell_type": "code",
   "execution_count": 5,
   "metadata": {},
   "outputs": [],
   "source": [
    "# Zone Temp Sensor - not using shapes wrapper\n",
    "zats = hp.air_temp_sensor.deep_copy()\n",
    "zats.set_id(f\"{equip_id}-zone-air-temp-sensor\")\n",
    "zats.add_tags(['zone'], h_ont)\n",
    "\n",
    "\n",
    "# Zone Humidity Sensor - using shapes wrapper\n",
    "zarh = shrap.ZoneRelativeHumidityShape.cast_to_entity(f\"{equip_id}-ZoneRelativeHumiditySensor\")"
   ]
  },
  {
   "cell_type": "markdown",
   "metadata": {},
   "source": [
    "### ZoneOccupancySensorsShape"
   ]
  },
  {
   "cell_type": "code",
   "execution_count": 6,
   "metadata": {},
   "outputs": [
    {
     "output_type": "stream",
     "name": "stderr",
     "text": [
      "WARNING:root:occupancyIndicator not found. adding under custom namespace as: https://project-haystack.org/def/custom#occupancyIndicator\n"
     ]
    }
   ],
   "source": [
    "# binary occ\n",
    "boc = shrap.BinaryOccupancySensorShape.cast_to_entity(f\"{equip_id}-BinaryOccupancySensor\")\n",
    "\n",
    "# occ override\n",
    "occov = shrap.OccupancyOverrideCommandShape.cast_to_entity(f\"{equip_id}-OccupancyOverrideCommandShape\")"
   ]
  },
  {
   "cell_type": "markdown",
   "metadata": {},
   "source": [
    "### ZoneDemandControlledVentilationShape"
   ]
  },
  {
   "cell_type": "code",
   "execution_count": 7,
   "metadata": {},
   "outputs": [],
   "source": [
    "zo2 = shrap.zone_air_co2_sensor_shape.cast_to_entity(f\"{equip_id}-zone-air-co2-sensor\")\n",
    "zo2_sp = shrap.zone_air_co2_sp_shape.cast_to_entity(f\"{equip_id}-zone_air_co2_sp_shape\")"
   ]
  },
  {
   "cell_type": "markdown",
   "metadata": {},
   "source": [
    "### ZoneCoolingSetpointsShape"
   ]
  },
  {
   "cell_type": "code",
   "execution_count": 8,
   "metadata": {},
   "outputs": [],
   "source": [
    "# Required\n",
    "cool_eff = shrap.ZoneTemperatureCoolingEffectiveSetpointShape.cast_to_entity(f\"{equip_id}-ZoneTemperatureCoolingEffectiveSetpointShape\")\n",
    "cool_occ_eff = shrap.ZoneTemperatureCoolingOccupiedSetpointShape.cast_to_entity(f\"{equip_id}-ZoneTemperatureCoolingOccupiedSetpointShape\")\n",
    "cool_unocc_eff = shrap.ZoneTemperatureCoolingUnoccupiedSetpointShape.cast_to_entity(f\"{equip_id}-ZoneTemperatureCoolingUnoccupiedSetpointShape\")\n",
    "\n",
    "# Optional\n",
    "cool_stdby = shrap.ZoneTemperatureCoolingStandbySetpointShape.cast_to_entity(f\"{equip_id}-ZoneTemperatureCoolingStandbySetpointShape\")"
   ]
  },
  {
   "cell_type": "markdown",
   "metadata": {},
   "source": [
    "### ZoneHeatingSetpointsShape"
   ]
  },
  {
   "cell_type": "code",
   "execution_count": 9,
   "metadata": {},
   "outputs": [],
   "source": [
    "# Required\n",
    "heat_eff = shrap.ZoneTemperatureHeatingEffectiveSetpointShape.cast_to_entity(f\"{equip_id}-ZoneTemperatureHeatingEffectiveSetpointShape\")\n",
    "heat_occ_eff = shrap.ZoneTemperatureHeatingOccupiedSetpointShape.cast_to_entity(f\"{equip_id}-ZoneTemperatureHeatingOccupiedSetpointShape\")\n",
    "heat_unocc_eff = shrap.ZoneTemperatureHeatingUnoccupiedSetpointShape.cast_to_entity(f\"{equip_id}-ZoneTemperatureHeatingUnoccupiedSetpointShape\")\n",
    "\n",
    "# Optional\n",
    "heat_stdby = shrap.ZoneTemperatureHeatingStandbySetpointShape.cast_to_entity(f\"{equip_id}-ZoneTemperatureHeatingStandbySetpointShape\")"
   ]
  },
  {
   "cell_type": "markdown",
   "metadata": {},
   "source": [
    "### ZoneModeControlShape"
   ]
  },
  {
   "cell_type": "code",
   "execution_count": 10,
   "metadata": {},
   "outputs": [
    {
     "output_type": "stream",
     "name": "stderr",
     "text": [
      "WARNING:root:operating not found. adding under custom namespace as: https://project-haystack.org/def/custom#operating\n",
      "WARNING:root:mode not found. adding under custom namespace as: https://project-haystack.org/def/custom#mode\n",
      "WARNING:root:mode not found. adding under custom namespace as: https://project-haystack.org/def/custom#mode\n"
     ]
    }
   ],
   "source": [
    "# Optional\n",
    "zopss = shrap.ZoneEquipmentOperatingStateShape.cast_to_entity(f\"{equip_id}-ZoneEquipmentOperatingStateShape\")\n",
    "occ_mb = shrap.OccupancyModeBinaryShape.cast_to_entity(f\"{equip_id}-OccupancyModeBinaryShape\")\n",
    "occ_mstdby = shrap.OccupancyModeStandbyShape.cast_to_entity(f\"{equip_id}-OccupancyModeStandbyShape\")"
   ]
  },
  {
   "cell_type": "markdown",
   "metadata": {},
   "source": [
    "### AirTemperatureControlShape"
   ]
  },
  {
   "cell_type": "code",
   "execution_count": 11,
   "metadata": {},
   "outputs": [
    {
     "output_type": "stream",
     "name": "stderr",
     "text": [
      "WARNING:root:request not found. adding under custom namespace as: https://project-haystack.org/def/custom#request\n",
      "WARNING:root:request not found. adding under custom namespace as: https://project-haystack.org/def/custom#request\n"
     ]
    }
   ],
   "source": [
    "# Required\n",
    "dats = shrap.DischargeAirTemperatureShape.cast_to_entity(f\"{equip_id}-DischargeAirTemperatureShape\")\n",
    "\n",
    "# Optional\n",
    "cool_rqsts = shrap.CoolingRequestsShape.cast_to_entity(f\"{equip_id}-CoolingRequestsShape\")\n",
    "heat_rqsts = shrap.HeatingRequestsShape.cast_to_entity(f\"{equip_id}-HeatingRequestsShape\")"
   ]
  },
  {
   "cell_type": "markdown",
   "metadata": {},
   "source": [
    "### VAVAirFlowControlShape"
   ]
  },
  {
   "cell_type": "code",
   "execution_count": 12,
   "metadata": {},
   "outputs": [
    {
     "output_type": "stream",
     "name": "stderr",
     "text": [
      "WARNING:root:min not found. adding under custom namespace as: https://project-haystack.org/def/custom#min\n",
      "WARNING:root:min not found. adding under custom namespace as: https://project-haystack.org/def/custom#min\n",
      "WARNING:root:max not found. adding under custom namespace as: https://project-haystack.org/def/custom#max\n",
      "WARNING:root:max not found. adding under custom namespace as: https://project-haystack.org/def/custom#max\n"
     ]
    }
   ],
   "source": [
    "# Required\n",
    "dad = shrap.DischargeAirDamperCommandShape.cast_to_entity(f\"{equip_id}-DischargeAirDamperCommandShape\")\n",
    "feed_dad = shrap.DischargeAirDamperFeedbackShape.cast_to_entity(f\"{equip_id}-DischargeAirDamperFeedbackShape\")\n",
    "dafs = shrap.DischargeAirFlowShape.cast_to_entity(f\"{equip_id}-DischargeAirFlowShape\")\n",
    "\n",
    "# Opts\n",
    "dafsp = shrap.DischargeAirFlowSetpointShape.cast_to_entity(f\"{equip_id}-DischargeAirFlowSetpointShape\")\n",
    "min_heat_dafsp = shrap.MinimumHeatingDischargeAirFlowSetpointShape.cast_to_entity(f\"{equip_id}-MinimumHeatingDischargeAirFlowSetpointShape\")\n",
    "min_cool_dafsp = shrap.MinimumCoolingDischargeAirFlowSetpointShape.cast_to_entity(f\"{equip_id}-MinimumCoolingDischargeAirFlowSetpointShape\")\n",
    "max_heat_dafsp = shrap.MaximumHeatingDischargeAirFlowSetpointShape.cast_to_entity(f\"{equip_id}-MaximumHeatingDischargeAirFlowSetpointShape\")\n",
    "max_cool_dafsp = shrap.MaximumCoolingDischargeAirFlowSetpointShape.cast_to_entity(f\"{equip_id}-MaximumCoolingDischargeAirFlowSetpointShape\")"
   ]
  },
  {
   "cell_type": "code",
   "execution_count": 13,
   "metadata": {},
   "outputs": [],
   "source": [
    "sensors = []\n",
    "# add them to the list\n",
    "sensors += [\n",
    "    zats, zarh, # ZoneThermalComfortSensors\n",
    "    boc, occov, # ZoneOccupancySensors\n",
    "    zo2, zo2_sp, # ZoneDCV\n",
    "    cool_eff, cool_occ_eff, cool_unocc_eff, cool_stdby, # ZoneCooling\n",
    "    heat_eff, heat_occ_eff, heat_unocc_eff, heat_stdby, # ZoneHeating\n",
    "    zopss, occ_mb, occ_mstdby, # ZoneModeControl\n",
    "    dats, cool_rqsts, heat_rqsts, # AirTemperatureControl\n",
    "    dad, feed_dad, dafs, dafsp, min_heat_dafsp, min_cool_dafsp, max_heat_dafsp, max_cool_dafsp # VAVAirFlowControlShape\n",
    "]"
   ]
  },
  {
   "cell_type": "markdown",
   "metadata": {},
   "source": [
    "## Sync with the Graph\n",
    "\n",
    "To utilize the sync method, at least one of the things needs to be bound to a graph. We will only explicitly bind the VAV, the other things will get brought in."
   ]
  },
  {
   "cell_type": "code",
   "execution_count": 14,
   "metadata": {},
   "outputs": [
    {
     "output_type": "execute_result",
     "data": {
      "text/plain": [
       "True"
      ]
     },
     "metadata": {},
     "execution_count": 14
    }
   ],
   "source": [
    "vav.bind_to_graph(hg)"
   ]
  },
  {
   "cell_type": "code",
   "execution_count": 15,
   "metadata": {},
   "outputs": [
    {
     "output_type": "stream",
     "name": "stdout",
     "text": [
      "Bound urn:sample/NREL-VAV-01-zone-air-temp-sensor to graph\nBound urn:sample/NREL-VAV-01-ZoneRelativeHumiditySensor to graph\nBound urn:sample/NREL-VAV-01-BinaryOccupancySensor to graph\nBound urn:sample/NREL-VAV-01-OccupancyOverrideCommandShape to graph\nBound urn:sample/NREL-VAV-01-zone-air-co2-sensor to graph\nBound urn:sample/NREL-VAV-01-zone_air_co2_sp_shape to graph\nBound urn:sample/NREL-VAV-01-ZoneTemperatureCoolingEffectiveSetpointShape to graph\nBound urn:sample/NREL-VAV-01-ZoneTemperatureCoolingOccupiedSetpointShape to graph\nBound urn:sample/NREL-VAV-01-ZoneTemperatureCoolingUnoccupiedSetpointShape to graph\nBound urn:sample/NREL-VAV-01-ZoneTemperatureCoolingStandbySetpointShape to graph\nBound urn:sample/NREL-VAV-01-ZoneTemperatureHeatingEffectiveSetpointShape to graph\nBound urn:sample/NREL-VAV-01-ZoneTemperatureHeatingOccupiedSetpointShape to graph\nBound urn:sample/NREL-VAV-01-ZoneTemperatureHeatingUnoccupiedSetpointShape to graph\nBound urn:sample/NREL-VAV-01-ZoneTemperatureHeatingStandbySetpointShape to graph\nBound urn:sample/NREL-VAV-01-ZoneEquipmentOperatingStateShape to graph\nBound urn:sample/NREL-VAV-01-OccupancyModeBinaryShape to graph\nBound urn:sample/NREL-VAV-01-OccupancyModeStandbyShape to graph\nBound urn:sample/NREL-VAV-01-DischargeAirTemperatureShape to graph\nBound urn:sample/NREL-VAV-01-CoolingRequestsShape to graph\nBound urn:sample/NREL-VAV-01-HeatingRequestsShape to graph\nBound urn:sample/NREL-VAV-01-DischargeAirDamperCommandShape to graph\nBound urn:sample/NREL-VAV-01-DischargeAirDamperFeedbackShape to graph\nBound urn:sample/NREL-VAV-01-DischargeAirFlowShape to graph\nBound urn:sample/NREL-VAV-01-DischargeAirFlowSetpointShape to graph\nBound urn:sample/NREL-VAV-01-MinimumHeatingDischargeAirFlowSetpointShape to graph\nBound urn:sample/NREL-VAV-01-MinimumCoolingDischargeAirFlowSetpointShape to graph\nBound urn:sample/NREL-VAV-01-MaximumHeatingDischargeAirFlowSetpointShape to graph\nBound urn:sample/NREL-VAV-01-MaximumCoolingDischargeAirFlowSetpointShape to graph\n"
     ]
    }
   ],
   "source": [
    "# Loop through em\n",
    "for sensor in sensors:\n",
    "    sensor.set_namespace(SAMPLE)\n",
    "    sensor.add_relationship(hrefs.equipRef, vav)\n",
    "    sensor.sync()"
   ]
  },
  {
   "cell_type": "code",
   "execution_count": 16,
   "metadata": {},
   "outputs": [],
   "source": [
    "hg.bind('phCustom', tc.PH_CUSTOM)"
   ]
  },
  {
   "cell_type": "markdown",
   "metadata": {},
   "source": [
    "# Build From Composite Shapes\n",
    "\n",
    "Shapes come in two distinct flavors:\n",
    "1. Shapes built from sets of Haystack tags / protos.\n",
    "2. Shapes which have relations to other shapes (composite shapes). Think of a VAV box with a particular set of points, where the points themselves are shapes, as in the example above.\n",
    "\n",
    "While users can build up instances of equipment to conform to composite shapes, the `ShapesWrapper` additionally allows users to build out composite shapes very quickly & easily. This is demonstrated below."
   ]
  },
  {
   "cell_type": "code",
   "execution_count": 17,
   "metadata": {},
   "outputs": [
    {
     "name": "stdout",
     "output_type": "stream",
     "text": [
      "Bound urn:sample/NREL-VAV-02-zone-air-temp-sensor-shape to graph\n",
      "Bound urn:sample/NREL-VAV-02-ZoneRelativeHumidityShape to graph\n"
     ]
    },
    {
     "name": "stderr",
     "output_type": "stream",
     "text": [
      "WARNING:root:occupancyIndicator not found. adding under custom namespace as: https://project-haystack.org/def/custom#occupancyIndicator\n"
     ]
    },
    {
     "name": "stdout",
     "output_type": "stream",
     "text": [
      "Bound urn:sample/NREL-VAV-02-BinaryOccupancySensorShape to graph\n",
      "Bound urn:sample/NREL-VAV-02-OccupancyOverrideCommandShape to graph\n",
      "Bound urn:sample/NREL-VAV-02-zone-air-co2-sensor-shape to graph\n",
      "Bound urn:sample/NREL-VAV-02-zone-air-co2-sp-shape to graph\n",
      "Bound urn:sample/NREL-VAV-02-ZoneTemperatureCoolingEffectiveSetpointShape to graph\n",
      "Bound urn:sample/NREL-VAV-02-ZoneTemperatureCoolingOccupiedSetpointShape to graph\n",
      "Bound urn:sample/NREL-VAV-02-ZoneTemperatureCoolingUnoccupiedSetpointShape to graph\n",
      "Bound urn:sample/NREL-VAV-02-ZoneTemperatureCoolingStandbySetpointShape to graph\n",
      "Bound urn:sample/NREL-VAV-02-ZoneTemperatureHeatingEffectiveSetpointShape to graph\n",
      "Bound urn:sample/NREL-VAV-02-ZoneTemperatureHeatingOccupiedSetpointShape to graph\n",
      "Bound urn:sample/NREL-VAV-02-ZoneTemperatureHeatingUnoccupiedSetpointShape to graph\n",
      "Bound urn:sample/NREL-VAV-02-ZoneTemperatureHeatingStandbySetpointShape to graph\n"
     ]
    },
    {
     "name": "stderr",
     "output_type": "stream",
     "text": [
      "WARNING:root:operating not found. adding under custom namespace as: https://project-haystack.org/def/custom#operating\n",
      "WARNING:root:mode not found. adding under custom namespace as: https://project-haystack.org/def/custom#mode\n"
     ]
    },
    {
     "name": "stdout",
     "output_type": "stream",
     "text": [
      "Bound urn:sample/NREL-VAV-02-ZoneEquipmentOperatingStateShape to graph\n",
      "Bound urn:sample/NREL-VAV-02-OccupancyModeBinaryShape to graph\n"
     ]
    },
    {
     "name": "stderr",
     "output_type": "stream",
     "text": [
      "WARNING:root:mode not found. adding under custom namespace as: https://project-haystack.org/def/custom#mode\n"
     ]
    },
    {
     "name": "stdout",
     "output_type": "stream",
     "text": [
      "Bound urn:sample/NREL-VAV-02-OccupancyModeStandbyShape to graph\n",
      "Bound urn:sample/NREL-VAV-02-DischargeAirTemperatureShape to graph\n"
     ]
    },
    {
     "name": "stderr",
     "output_type": "stream",
     "text": [
      "WARNING:root:request not found. adding under custom namespace as: https://project-haystack.org/def/custom#request\n"
     ]
    },
    {
     "name": "stdout",
     "output_type": "stream",
     "text": [
      "Bound urn:sample/NREL-VAV-02-CoolingRequestsShape to graph\n"
     ]
    },
    {
     "name": "stderr",
     "output_type": "stream",
     "text": [
      "WARNING:root:request not found. adding under custom namespace as: https://project-haystack.org/def/custom#request\n"
     ]
    },
    {
     "name": "stdout",
     "output_type": "stream",
     "text": [
      "Bound urn:sample/NREL-VAV-02-HeatingRequestsShape to graph\n",
      "Bound urn:sample/NREL-VAV-02-DischargeAirDamperCommandShape to graph\n",
      "Bound urn:sample/NREL-VAV-02-DischargeAirDamperFeedbackShape to graph\n",
      "Bound urn:sample/NREL-VAV-02-DischargeAirFlowShape to graph\n",
      "Bound urn:sample/NREL-VAV-02-DischargeAirFlowSetpointShape to graph\n"
     ]
    },
    {
     "name": "stderr",
     "output_type": "stream",
     "text": [
      "WARNING:root:min not found. adding under custom namespace as: https://project-haystack.org/def/custom#min\n"
     ]
    },
    {
     "name": "stdout",
     "output_type": "stream",
     "text": [
      "Bound urn:sample/NREL-VAV-02-MinimumHeatingDischargeAirFlowSetpointShape to graph\n"
     ]
    },
    {
     "name": "stderr",
     "output_type": "stream",
     "text": [
      "WARNING:root:min not found. adding under custom namespace as: https://project-haystack.org/def/custom#min\n"
     ]
    },
    {
     "name": "stdout",
     "output_type": "stream",
     "text": [
      "Bound urn:sample/NREL-VAV-02-MinimumCoolingDischargeAirFlowSetpointShape to graph\n"
     ]
    },
    {
     "name": "stderr",
     "output_type": "stream",
     "text": [
      "WARNING:root:max not found. adding under custom namespace as: https://project-haystack.org/def/custom#max\n"
     ]
    },
    {
     "name": "stdout",
     "output_type": "stream",
     "text": [
      "Bound urn:sample/NREL-VAV-02-MaximumHeatingDischargeAirFlowSetpointShape to graph\n"
     ]
    },
    {
     "name": "stderr",
     "output_type": "stream",
     "text": [
      "WARNING:root:max not found. adding under custom namespace as: https://project-haystack.org/def/custom#max\n"
     ]
    },
    {
     "name": "stdout",
     "output_type": "stream",
     "text": [
      "Bound urn:sample/NREL-VAV-02-MaximumCoolingDischargeAirFlowSetpointShape to graph\n",
      "@prefix ph: <https://project-haystack.org/def/ph/3.9.10#> .\n",
      "@prefix phCustom: <https://project-haystack.org/def/custom#> .\n",
      "@prefix phIoT: <https://project-haystack.org/def/phIoT/3.9.10#> .\n",
      "@prefix phScience: <https://project-haystack.org/def/phScience/3.9.10#> .\n",
      "@prefix sample: <urn:sample/> .\n",
      "\n",
      "sample:NREL-VAV-01-BinaryOccupancySensor a phIoT:point ;\n",
      "    ph:hasTag phCustom:occupancyIndicator,\n",
      "        phIoT:occupied,\n",
      "        phIoT:sensor ;\n",
      "    phIoT:equipRef sample:NREL-VAV-01 .\n",
      "\n",
      "sample:NREL-VAV-01-CoolingRequestsShape a phIoT:point ;\n",
      "    ph:hasTag phCustom:request,\n",
      "        phIoT:cmd,\n",
      "        phIoT:cooling ;\n",
      "    phIoT:equipRef sample:NREL-VAV-01 .\n",
      "\n",
      "sample:NREL-VAV-01-DischargeAirDamperCommandShape a phIoT:point ;\n",
      "    ph:hasTag phIoT:cmd,\n",
      "        phIoT:damper,\n",
      "        phIoT:discharge,\n",
      "        phScience:air ;\n",
      "    phIoT:equipRef sample:NREL-VAV-01 .\n",
      "\n",
      "sample:NREL-VAV-01-DischargeAirDamperFeedbackShape a phIoT:air-sensor ;\n",
      "    ph:hasTag phIoT:damper,\n",
      "        phIoT:discharge ;\n",
      "    phIoT:equipRef sample:NREL-VAV-01 .\n",
      "\n",
      "sample:NREL-VAV-01-DischargeAirFlowSetpointShape a phIoT:discharge-air-flow-sp ;\n",
      "    ph:hasTag phIoT:effective ;\n",
      "    phIoT:equipRef sample:NREL-VAV-01 .\n",
      "\n",
      "sample:NREL-VAV-01-DischargeAirFlowShape a phIoT:discharge-air-flow-sensor ;\n",
      "    ph:hasTag phIoT:leaving ;\n",
      "    phIoT:equipRef sample:NREL-VAV-01 .\n",
      "\n",
      "sample:NREL-VAV-01-DischargeAirTemperatureShape a phIoT:discharge-air-temp-sensor ;\n",
      "    ph:hasTag phIoT:leaving ;\n",
      "    phIoT:equipRef sample:NREL-VAV-01 .\n",
      "\n",
      "sample:NREL-VAV-01-HeatingRequestsShape a phIoT:point ;\n",
      "    ph:hasTag phCustom:request,\n",
      "        phIoT:cmd,\n",
      "        phIoT:heating ;\n",
      "    phIoT:equipRef sample:NREL-VAV-01 .\n",
      "\n",
      "sample:NREL-VAV-01-MaximumCoolingDischargeAirFlowSetpointShape a phIoT:discharge-air-flow-sp ;\n",
      "    ph:hasTag phCustom:max,\n",
      "        phIoT:cooling ;\n",
      "    phIoT:equipRef sample:NREL-VAV-01 .\n",
      "\n",
      "sample:NREL-VAV-01-MaximumHeatingDischargeAirFlowSetpointShape a phIoT:discharge-air-flow-sp ;\n",
      "    ph:hasTag phCustom:max,\n",
      "        phIoT:heating ;\n",
      "    phIoT:equipRef sample:NREL-VAV-01 .\n",
      "\n",
      "sample:NREL-VAV-01-MinimumCoolingDischargeAirFlowSetpointShape a phIoT:discharge-air-flow-sp ;\n",
      "    ph:hasTag phCustom:min,\n",
      "        phIoT:cooling ;\n",
      "    phIoT:equipRef sample:NREL-VAV-01 .\n",
      "\n",
      "sample:NREL-VAV-01-MinimumHeatingDischargeAirFlowSetpointShape a phIoT:discharge-air-flow-sp ;\n",
      "    ph:hasTag phCustom:min,\n",
      "        phIoT:heating ;\n",
      "    phIoT:equipRef sample:NREL-VAV-01 .\n",
      "\n",
      "sample:NREL-VAV-01-OccupancyModeBinaryShape a phIoT:point ;\n",
      "    ph:hasTag phIoT:occupied,\n",
      "        phIoT:sp ;\n",
      "    phIoT:equipRef sample:NREL-VAV-01 .\n",
      "\n",
      "sample:NREL-VAV-01-OccupancyModeStandbyShape a phIoT:point ;\n",
      "    ph:hasTag phCustom:mode,\n",
      "        phIoT:occ,\n",
      "        phIoT:sp ;\n",
      "    phIoT:equipRef sample:NREL-VAV-01 .\n",
      "\n",
      "sample:NREL-VAV-01-OccupancyOverrideCommandShape a phIoT:point ;\n",
      "    ph:hasTag phIoT:cmd,\n",
      "        phIoT:occupied ;\n",
      "    phIoT:equipRef sample:NREL-VAV-01 .\n",
      "\n",
      "sample:NREL-VAV-01-ZoneEquipmentOperatingStateShape a phIoT:point ;\n",
      "    ph:hasTag phCustom:mode,\n",
      "        phCustom:operating,\n",
      "        phIoT:sp ;\n",
      "    phIoT:equipRef sample:NREL-VAV-01 .\n",
      "\n",
      "sample:NREL-VAV-01-ZoneRelativeHumiditySensor a phIoT:air-humidity-sensor ;\n",
      "    ph:hasTag phIoT:zone ;\n",
      "    phIoT:equipRef sample:NREL-VAV-01 .\n",
      "\n",
      "sample:NREL-VAV-01-ZoneTemperatureCoolingEffectiveSetpointShape a phIoT:air-temp-sp ;\n",
      "    ph:hasTag phIoT:cooling,\n",
      "        phIoT:effective,\n",
      "        phIoT:zone ;\n",
      "    phIoT:equipRef sample:NREL-VAV-01 .\n",
      "\n",
      "sample:NREL-VAV-01-ZoneTemperatureCoolingOccupiedSetpointShape a phIoT:air-temp-sp ;\n",
      "    ph:hasTag phIoT:cooling,\n",
      "        phIoT:occ,\n",
      "        phIoT:zone ;\n",
      "    phIoT:equipRef sample:NREL-VAV-01 .\n",
      "\n",
      "sample:NREL-VAV-01-ZoneTemperatureCoolingStandbySetpointShape a phIoT:air-temp-sp ;\n",
      "    ph:hasTag phIoT:cooling,\n",
      "        phIoT:standby,\n",
      "        phIoT:zone ;\n",
      "    phIoT:equipRef sample:NREL-VAV-01 .\n",
      "\n",
      "sample:NREL-VAV-01-ZoneTemperatureCoolingUnoccupiedSetpointShape a phIoT:air-temp-sp ;\n",
      "    ph:hasTag phIoT:cooling,\n",
      "        phIoT:unocc,\n",
      "        phIoT:zone ;\n",
      "    phIoT:equipRef sample:NREL-VAV-01 .\n",
      "\n",
      "sample:NREL-VAV-01-ZoneTemperatureHeatingEffectiveSetpointShape a phIoT:air-temp-sp ;\n",
      "    ph:hasTag phIoT:effective,\n",
      "        phIoT:heating,\n",
      "        phIoT:zone ;\n",
      "    phIoT:equipRef sample:NREL-VAV-01 .\n",
      "\n",
      "sample:NREL-VAV-01-ZoneTemperatureHeatingOccupiedSetpointShape a phIoT:air-temp-sp ;\n",
      "    ph:hasTag phIoT:heating,\n",
      "        phIoT:occ,\n",
      "        phIoT:zone ;\n",
      "    phIoT:equipRef sample:NREL-VAV-01 .\n",
      "\n",
      "sample:NREL-VAV-01-ZoneTemperatureHeatingStandbySetpointShape a phIoT:air-temp-sp ;\n",
      "    ph:hasTag phIoT:heating,\n",
      "        phIoT:standby,\n",
      "        phIoT:zone ;\n",
      "    phIoT:equipRef sample:NREL-VAV-01 .\n",
      "\n",
      "sample:NREL-VAV-01-ZoneTemperatureHeatingUnoccupiedSetpointShape a phIoT:air-temp-sp ;\n",
      "    ph:hasTag phIoT:heating,\n",
      "        phIoT:unocc,\n",
      "        phIoT:zone ;\n",
      "    phIoT:equipRef sample:NREL-VAV-01 .\n",
      "\n",
      "sample:NREL-VAV-01-zone-air-co2-sensor a phIoT:point ;\n",
      "    ph:hasTag phIoT:sensor,\n",
      "        phIoT:zone,\n",
      "        phScience:air,\n",
      "        phScience:co2 ;\n",
      "    phIoT:equipRef sample:NREL-VAV-01 .\n",
      "\n",
      "sample:NREL-VAV-01-zone-air-temp-sensor a phIoT:air-temp-sensor ;\n",
      "    ph:hasTag phIoT:zone ;\n",
      "    phIoT:equipRef sample:NREL-VAV-01 .\n",
      "\n",
      "sample:NREL-VAV-01-zone_air_co2_sp_shape a phIoT:point ;\n",
      "    ph:hasTag phIoT:sp,\n",
      "        phIoT:zone,\n",
      "        phScience:air,\n",
      "        phScience:co2 ;\n",
      "    phIoT:equipRef sample:NREL-VAV-01 .\n",
      "\n",
      "sample:NREL-VAV-02-BinaryOccupancySensorShape a phIoT:point ;\n",
      "    ph:hasTag phCustom:occupancyIndicator,\n",
      "        phIoT:occupied,\n",
      "        phIoT:sensor ;\n",
      "    phIoT:equipRef sample:NREL-VAV-02 .\n",
      "\n",
      "sample:NREL-VAV-02-CoolingRequestsShape a phIoT:point ;\n",
      "    ph:hasTag phCustom:request,\n",
      "        phIoT:cmd,\n",
      "        phIoT:cooling ;\n",
      "    phIoT:equipRef sample:NREL-VAV-02 .\n",
      "\n",
      "sample:NREL-VAV-02-DischargeAirDamperCommandShape a phIoT:point ;\n",
      "    ph:hasTag phIoT:cmd,\n",
      "        phIoT:damper,\n",
      "        phIoT:discharge,\n",
      "        phScience:air ;\n",
      "    phIoT:equipRef sample:NREL-VAV-02 .\n",
      "\n",
      "sample:NREL-VAV-02-DischargeAirDamperFeedbackShape a phIoT:air-sensor ;\n",
      "    ph:hasTag phIoT:damper,\n",
      "        phIoT:discharge ;\n",
      "    phIoT:equipRef sample:NREL-VAV-02 .\n",
      "\n",
      "sample:NREL-VAV-02-DischargeAirFlowSetpointShape a phIoT:discharge-air-flow-sp ;\n",
      "    ph:hasTag phIoT:effective ;\n",
      "    phIoT:equipRef sample:NREL-VAV-02 .\n",
      "\n",
      "sample:NREL-VAV-02-DischargeAirFlowShape a phIoT:discharge-air-flow-sensor ;\n",
      "    ph:hasTag phIoT:leaving ;\n",
      "    phIoT:equipRef sample:NREL-VAV-02 .\n",
      "\n",
      "sample:NREL-VAV-02-DischargeAirTemperatureShape a phIoT:discharge-air-temp-sensor ;\n",
      "    ph:hasTag phIoT:leaving ;\n",
      "    phIoT:equipRef sample:NREL-VAV-02 .\n",
      "\n",
      "sample:NREL-VAV-02-HeatingRequestsShape a phIoT:point ;\n",
      "    ph:hasTag phCustom:request,\n",
      "        phIoT:cmd,\n",
      "        phIoT:heating ;\n",
      "    phIoT:equipRef sample:NREL-VAV-02 .\n",
      "\n",
      "sample:NREL-VAV-02-MaximumCoolingDischargeAirFlowSetpointShape a phIoT:discharge-air-flow-sp ;\n",
      "    ph:hasTag phCustom:max,\n",
      "        phIoT:cooling ;\n",
      "    phIoT:equipRef sample:NREL-VAV-02 .\n",
      "\n",
      "sample:NREL-VAV-02-MaximumHeatingDischargeAirFlowSetpointShape a phIoT:discharge-air-flow-sp ;\n",
      "    ph:hasTag phCustom:max,\n",
      "        phIoT:heating ;\n",
      "    phIoT:equipRef sample:NREL-VAV-02 .\n",
      "\n",
      "sample:NREL-VAV-02-MinimumCoolingDischargeAirFlowSetpointShape a phIoT:discharge-air-flow-sp ;\n",
      "    ph:hasTag phCustom:min,\n",
      "        phIoT:cooling ;\n",
      "    phIoT:equipRef sample:NREL-VAV-02 .\n",
      "\n",
      "sample:NREL-VAV-02-MinimumHeatingDischargeAirFlowSetpointShape a phIoT:discharge-air-flow-sp ;\n",
      "    ph:hasTag phCustom:min,\n",
      "        phIoT:heating ;\n",
      "    phIoT:equipRef sample:NREL-VAV-02 .\n",
      "\n",
      "sample:NREL-VAV-02-OccupancyModeBinaryShape a phIoT:point ;\n",
      "    ph:hasTag phIoT:occupied,\n",
      "        phIoT:sp ;\n",
      "    phIoT:equipRef sample:NREL-VAV-02 .\n",
      "\n",
      "sample:NREL-VAV-02-OccupancyModeStandbyShape a phIoT:point ;\n",
      "    ph:hasTag phCustom:mode,\n",
      "        phIoT:occ,\n",
      "        phIoT:sp ;\n",
      "    phIoT:equipRef sample:NREL-VAV-02 .\n",
      "\n",
      "sample:NREL-VAV-02-OccupancyOverrideCommandShape a phIoT:point ;\n",
      "    ph:hasTag phIoT:cmd,\n",
      "        phIoT:occupied ;\n",
      "    phIoT:equipRef sample:NREL-VAV-02 .\n",
      "\n",
      "sample:NREL-VAV-02-ZoneEquipmentOperatingStateShape a phIoT:point ;\n",
      "    ph:hasTag phCustom:mode,\n",
      "        phCustom:operating,\n",
      "        phIoT:sp ;\n",
      "    phIoT:equipRef sample:NREL-VAV-02 .\n",
      "\n",
      "sample:NREL-VAV-02-ZoneRelativeHumidityShape a phIoT:air-humidity-sensor ;\n",
      "    ph:hasTag phIoT:zone ;\n",
      "    phIoT:equipRef sample:NREL-VAV-02 .\n",
      "\n",
      "sample:NREL-VAV-02-ZoneTemperatureCoolingEffectiveSetpointShape a phIoT:air-temp-sp ;\n",
      "    ph:hasTag phIoT:cooling,\n",
      "        phIoT:effective,\n",
      "        phIoT:zone ;\n",
      "    phIoT:equipRef sample:NREL-VAV-02 .\n",
      "\n",
      "sample:NREL-VAV-02-ZoneTemperatureCoolingOccupiedSetpointShape a phIoT:air-temp-sp ;\n",
      "    ph:hasTag phIoT:cooling,\n",
      "        phIoT:occ,\n",
      "        phIoT:zone ;\n",
      "    phIoT:equipRef sample:NREL-VAV-02 .\n",
      "\n",
      "sample:NREL-VAV-02-ZoneTemperatureCoolingStandbySetpointShape a phIoT:air-temp-sp ;\n",
      "    ph:hasTag phIoT:cooling,\n",
      "        phIoT:standby,\n",
      "        phIoT:zone ;\n",
      "    phIoT:equipRef sample:NREL-VAV-02 .\n",
      "\n",
      "sample:NREL-VAV-02-ZoneTemperatureCoolingUnoccupiedSetpointShape a phIoT:air-temp-sp ;\n",
      "    ph:hasTag phIoT:cooling,\n",
      "        phIoT:unocc,\n",
      "        phIoT:zone ;\n",
      "    phIoT:equipRef sample:NREL-VAV-02 .\n",
      "\n",
      "sample:NREL-VAV-02-ZoneTemperatureHeatingEffectiveSetpointShape a phIoT:air-temp-sp ;\n",
      "    ph:hasTag phIoT:effective,\n",
      "        phIoT:heating,\n",
      "        phIoT:zone ;\n",
      "    phIoT:equipRef sample:NREL-VAV-02 .\n",
      "\n",
      "sample:NREL-VAV-02-ZoneTemperatureHeatingOccupiedSetpointShape a phIoT:air-temp-sp ;\n",
      "    ph:hasTag phIoT:heating,\n",
      "        phIoT:occ,\n",
      "        phIoT:zone ;\n",
      "    phIoT:equipRef sample:NREL-VAV-02 .\n",
      "\n",
      "sample:NREL-VAV-02-ZoneTemperatureHeatingStandbySetpointShape a phIoT:air-temp-sp ;\n",
      "    ph:hasTag phIoT:heating,\n",
      "        phIoT:standby,\n",
      "        phIoT:zone ;\n",
      "    phIoT:equipRef sample:NREL-VAV-02 .\n",
      "\n",
      "sample:NREL-VAV-02-ZoneTemperatureHeatingUnoccupiedSetpointShape a phIoT:air-temp-sp ;\n",
      "    ph:hasTag phIoT:heating,\n",
      "        phIoT:unocc,\n",
      "        phIoT:zone ;\n",
      "    phIoT:equipRef sample:NREL-VAV-02 .\n",
      "\n",
      "sample:NREL-VAV-02-zone-air-co2-sensor-shape a phIoT:point ;\n",
      "    ph:hasTag phIoT:sensor,\n",
      "        phIoT:zone,\n",
      "        phScience:air,\n",
      "        phScience:co2 ;\n",
      "    phIoT:equipRef sample:NREL-VAV-02 .\n",
      "\n",
      "sample:NREL-VAV-02-zone-air-co2-sp-shape a phIoT:point ;\n",
      "    ph:hasTag phIoT:sp,\n",
      "        phIoT:zone,\n",
      "        phScience:air,\n",
      "        phScience:co2 ;\n",
      "    phIoT:equipRef sample:NREL-VAV-02 .\n",
      "\n",
      "sample:NREL-VAV-02-zone-air-temp-sensor-shape a phIoT:air-temp-sensor ;\n",
      "    ph:hasTag phIoT:zone ;\n",
      "    phIoT:equipRef sample:NREL-VAV-02 .\n",
      "\n",
      "sample:NREL-VAV-01 a phIoT:coolingOnly-vav .\n",
      "\n",
      "sample:NREL-VAV-02 a phIoT:coolingOnly-vav .\n",
      "\n",
      "\n"
     ]
    }
   ],
   "source": [
    "vav_shape = shrap.NREL_VAV_SD_Cooling_Only_Shape\n",
    "\n",
    "# Add the vav equip\n",
    "equip_id = \"NREL-VAV-02\"\n",
    "vav_comp = vav_shape.cast_to_entity()\n",
    "vav_comp.set_namespace(SAMPLE)\n",
    "vav_comp.set_id(equip_id)\n",
    "vav_comp.bind_to_graph(hg)\n",
    "\n",
    "vav_shape.apply_shape_mixins(equip_id, SAMPLE, hrefs.equipRef, vav_comp, optional_points=True)\n",
    "\n",
    "hg.bind('phCustom', tc.PH_CUSTOM)\n",
    "print_graph(hg)"
   ]
  },
  {
   "cell_type": "markdown",
   "metadata": {},
   "source": [
    "# Shapes Based Data Validation"
   ]
  },
  {
   "cell_type": "code",
   "execution_count": 18,
   "metadata": {},
   "outputs": [],
   "source": [
    "import os\n",
    "from pyshacl import validate\n",
    "from rdflib import Graph, SH\n",
    "from rdflib.util import guess_format\n",
    "\n",
    "from tasty.shapes_loader import ShapesLoader"
   ]
  },
  {
   "cell_type": "markdown",
   "metadata": {},
   "source": [
    "## Import All Shapes\n",
    "\n",
    "The ShapesLoader gives us a wrapper around loading in the shapes graphs"
   ]
  },
  {
   "cell_type": "code",
   "execution_count": 19,
   "metadata": {},
   "outputs": [],
   "source": [
    "sl = ShapesLoader(tc.HAYSTACK)\n",
    "shapes_graph = sl.load_all_shapes()\n",
    "shapes_graph.bind('sample', SAMPLE)"
   ]
  },
  {
   "cell_type": "markdown",
   "metadata": {},
   "source": [
    "## Load in a Data Graph and Validate\n",
    "\n",
    "Here we validate the two newly created vav boxes and point sets against the `NREL-VAV-SD-Cooling-Only-Shape`. They should both pass."
   ]
  },
  {
   "cell_type": "code",
   "execution_count": 20,
   "metadata": {},
   "outputs": [],
   "source": [
    "shapes_graph.add((tc.PH_SHAPES_NREL['NREL-VAV-SD-Cooling-Only-Shape'], SH.targetNode, vav_comp.node))\n",
    "shapes_graph.add((tc.PH_SHAPES_NREL['NREL-VAV-SD-Cooling-Only-Shape'], SH.targetNode, vav.node))\n",
    "conforms, results_graph, results = validate(hg, shacl_graph=shapes_graph, ont_graph=h_ont)"
   ]
  },
  {
   "cell_type": "code",
   "execution_count": 21,
   "metadata": {},
   "outputs": [
    {
     "output_type": "execute_result",
     "data": {
      "text/plain": [
       "True"
      ]
     },
     "metadata": {},
     "execution_count": 21
    }
   ],
   "source": [
    "conforms"
   ]
  },
  {
   "cell_type": "code",
   "execution_count": 22,
   "metadata": {},
   "outputs": [
    {
     "output_type": "execute_result",
     "data": {
      "text/plain": [
       "'{\"meta\": {\"ver\": \"3.0\"}, \"cols\": [{\"name\": \"max\"}, {\"name\": \"occupancyIndicator\"}, {\"name\": \"mode\"}, {\"name\": \"standby\"}, {\"name\": \"leaving\"}, {\"name\": \"occupied\"}, {\"name\": \"sensor\"}, {\"name\": \"effective\"}, {\"name\": \"equipRef\"}, {\"name\": \"zone\"}, {\"name\": \"id\"}, {\"name\": \"air\"}, {\"name\": \"discharge\"}, {\"name\": \"cooling\"}, {\"name\": \"temp\"}, {\"name\": \"heating\"}, {\"name\": \"request\"}, {\"name\": \"coolingOnly\"}, {\"name\": \"operating\"}, {\"name\": \"damper\"}, {\"name\": \"dis\"}, {\"name\": \"cmd\"}, {\"name\": \"humidity\"}, {\"name\": \"vav\"}, {\"name\": \"flow\"}, {\"name\": \"occ\"}, {\"name\": \"unocc\"}, {\"name\": \"co2\"}, {\"name\": \"point\"}, {\"name\": \"min\"}, {\"name\": \"sp\"}], \"rows\": [{\"id\": \"8ed28b9f-d1f4-4611-83ad-1cabe1fe4a35\", \"dis\": \"urn:sample/NREL-VAV-02-OccupancyOverrideCommandShape\", \"point\": \"m\", \"cmd\": \":m\", \"occupied\": \":m\", \"equipRef\": \"urn:sample/NREL-VAV-02\"}, {\"id\": \"5f81dba5-ba31-4840-849e-323bb6934ef1\", \"dis\": \"urn:sample/NREL-VAV-02-BinaryOccupancySensorShape\", \"point\": \"m\", \"occupancyIndicator\": \":m\", \"occupied\": \":m\", \"sensor\": \":m\", \"equipRef\": \"urn:sample/NREL-VAV-02\"}, {\"id\": \"7c6792dd-f6ef-4654-8fa1-fb4100780fd6\", \"dis\": \"urn:sample/NREL-VAV-01-ZoneEquipmentOperatingStateShape\", \"point\": \"m\", \"operating\": \":m\", \"mode\": \":m\", \"sp\": \":m\", \"equipRef\": \"urn:sample/NREL-VAV-01\"}, {\"id\": \"32ce9ad2-49cb-4417-8d4d-a89004723877\", \"dis\": \"urn:sample/NREL-VAV-02-ZoneTemperatureHeatingUnoccupiedSetpointShape\", \"air\": \"m\", \"temp\": \"m\", \"sp\": \"m\", \"heating\": \":m\", \"zone\": \":m\", \"unocc\": \":m\", \"equipRef\": \"urn:sample/NREL-VAV-02\"}, {\"id\": \"99d91e14-3624-4c86-94c4-cb8a8ba79631\", \"dis\": \"urn:sample/NREL-VAV-02-ZoneTemperatureCoolingEffectiveSetpointShape\", \"air\": \"m\", \"temp\": \"m\", \"sp\": \"m\", \"effective\": \":m\", \"cooling\": \":m\", \"zone\": \":m\", \"equipRef\": \"urn:sample/NREL-VAV-02\"}, {\"id\": \"7d7e696d-ec6f-42e9-9ea0-054597162c9a\", \"dis\": \"urn:sample/NREL-VAV-01-OccupancyModeBinaryShape\", \"point\": \"m\", \"occupied\": \":m\", \"sp\": \":m\", \"equipRef\": \"urn:sample/NREL-VAV-01\"}, {\"id\": \"2af0207b-21a8-49e6-9ffe-1262233e139f\", \"dis\": \"urn:sample/NREL-VAV-01-zone-air-temp-sensor\", \"air\": \"m\", \"temp\": \"m\", \"sensor\": \"m\", \"zone\": \":m\", \"equipRef\": \"urn:sample/NREL-VAV-01\"}, {\"id\": \"f43f4303-d727-4f01-a7ca-75e0782e18c9\", \"dis\": \"urn:sample/NREL-VAV-01-ZoneTemperatureCoolingStandbySetpointShape\", \"air\": \"m\", \"temp\": \"m\", \"sp\": \"m\", \"cooling\": \":m\", \"standby\": \":m\", \"zone\": \":m\", \"equipRef\": \"urn:sample/NREL-VAV-01\"}, {\"id\": \"07245f43-18ce-48bf-a3d6-7a5c09ce6f07\", \"dis\": \"urn:sample/NREL-VAV-01-ZoneTemperatureHeatingStandbySetpointShape\", \"air\": \"m\", \"temp\": \"m\", \"sp\": \"m\", \"standby\": \":m\", \"heating\": \":m\", \"zone\": \":m\", \"equipRef\": \"urn:sample/NREL-VAV-01\"}, {\"id\": \"ec9457ee-c6f7-416c-a4f3-16df964e302f\", \"dis\": \"urn:sample/NREL-VAV-02-DischargeAirDamperFeedbackShape\", \"air\": \"m\", \"sensor\": \"m\", \"discharge\": \":m\", \"damper\": \":m\", \"equipRef\": \"urn:sample/NREL-VAV-02\"}, {\"id\": \"60a3da17-076b-4ef0-898b-3fd91e09ddfd\", \"dis\": \"urn:sample/NREL-VAV-01-ZoneTemperatureHeatingUnoccupiedSetpointShape\", \"air\": \"m\", \"temp\": \"m\", \"sp\": \"m\", \"heating\": \":m\", \"zone\": \":m\", \"unocc\": \":m\", \"equipRef\": \"urn:sample/NREL-VAV-01\"}, {\"id\": \"93b14d2e-f45a-4110-8050-aa77b7b81be9\", \"dis\": \"urn:sample/NREL-VAV-01-ZoneTemperatureCoolingUnoccupiedSetpointShape\", \"air\": \"m\", \"temp\": \"m\", \"sp\": \"m\", \"zone\": \":m\", \"unocc\": \":m\", \"cooling\": \":m\", \"equipRef\": \"urn:sample/NREL-VAV-01\"}, {\"id\": \"0e1b7517-fa52-41f4-9c3f-ab187d745f7a\", \"dis\": \"urn:sample/NREL-VAV-01-BinaryOccupancySensor\", \"point\": \"m\", \"sensor\": \":m\", \"occupancyIndicator\": \":m\", \"occupied\": \":m\", \"equipRef\": \"urn:sample/NREL-VAV-01\"}, {\"id\": \"1f3bb796-fe0f-4324-9a96-d2214e6a2adb\", \"dis\": \"urn:sample/NREL-VAV-02-ZoneRelativeHumidityShape\", \"air\": \"m\", \"humidity\": \"m\", \"sensor\": \"m\", \"zone\": \":m\", \"equipRef\": \"urn:sample/NREL-VAV-02\"}, {\"id\": \"c1006e34-797b-40df-acc6-cc31a14886fc\", \"dis\": \"urn:sample/NREL-VAV-01-DischargeAirDamperFeedbackShape\", \"air\": \"m\", \"sensor\": \"m\", \"discharge\": \":m\", \"damper\": \":m\", \"equipRef\": \"urn:sample/NREL-VAV-01\"}, {\"id\": \"a5def690-865e-43d5-9afd-10bb50ea436f\", \"dis\": \"urn:sample/NREL-VAV-01-HeatingRequestsShape\", \"point\": \"m\", \"heating\": \":m\", \"cmd\": \":m\", \"request\": \":m\", \"equipRef\": \"urn:sample/NREL-VAV-01\"}, {\"id\": \"9a600c7f-0d46-426f-bf1b-3dc2d9488df6\", \"dis\": \"urn:sample/NREL-VAV-02-MinimumCoolingDischargeAirFlowSetpointShape\", \"discharge\": \"m\", \"air\": \"m\", \"flow\": \"m\", \"sp\": \"m\", \"min\": \":m\", \"cooling\": \":m\", \"equipRef\": \"urn:sample/NREL-VAV-02\"}, {\"id\": \"9e432a73-af3f-4121-b609-1c54b78a4206\", \"dis\": \"urn:sample/NREL-VAV-02-CoolingRequestsShape\", \"point\": \"m\", \"cooling\": \":m\", \"cmd\": \":m\", \"request\": \":m\", \"equipRef\": \"urn:sample/NREL-VAV-02\"}, {\"id\": \"7db770fe-37f7-44ae-b459-d2b729d30f16\", \"dis\": \"urn:sample/NREL-VAV-01-DischargeAirTemperatureShape\", \"discharge\": \"m\", \"air\": \"m\", \"temp\": \"m\", \"sensor\": \"m\", \"leaving\": \":m\", \"equipRef\": \"urn:sample/NREL-VAV-01\"}, {\"id\": \"2b467ee9-c17f-4500-ae6c-15676304a2f5\", \"dis\": \"urn:sample/NREL-VAV-01-OccupancyOverrideCommandShape\", \"point\": \"m\", \"occupied\": \":m\", \"cmd\": \":m\", \"equipRef\": \"urn:sample/NREL-VAV-01\"}, {\"id\": \"f17bfdbd-a282-4ef8-8415-0a9c890f2248\", \"dis\": \"urn:sample/NREL-VAV-02-zone-air-temp-sensor-shape\", \"air\": \"m\", \"temp\": \"m\", \"sensor\": \"m\", \"zone\": \":m\", \"equipRef\": \"urn:sample/NREL-VAV-02\"}, {\"id\": \"8532c1ba-87ed-4d2f-a12f-e19012ec416d\", \"dis\": \"urn:sample/NREL-VAV-01-DischargeAirFlowShape\", \"discharge\": \"m\", \"air\": \"m\", \"flow\": \"m\", \"sensor\": \"m\", \"leaving\": \":m\", \"equipRef\": \"urn:sample/NREL-VAV-01\"}, {\"id\": \"091be23f-a5fb-464f-819e-30666fb81eb2\", \"dis\": \"urn:sample/NREL-VAV-01-zone-air-co2-sensor\", \"point\": \"m\", \"sensor\": \":m\", \"zone\": \":m\", \"air\": \":m\", \"co2\": \":m\", \"equipRef\": \"urn:sample/NREL-VAV-01\"}, {\"id\": \"b297b63b-0375-4fd2-b7e8-fc564103745e\", \"dis\": \"urn:sample/NREL-VAV-01-CoolingRequestsShape\", \"point\": \"m\", \"cmd\": \":m\", \"request\": \":m\", \"cooling\": \":m\", \"equipRef\": \"urn:sample/NREL-VAV-01\"}, {\"id\": \"a36360fc-9e3d-4064-9af1-8d1216afb02e\", \"dis\": \"urn:sample/NREL-VAV-01-ZoneTemperatureCoolingOccupiedSetpointShape\", \"air\": \"m\", \"temp\": \"m\", \"sp\": \"m\", \"zone\": \":m\", \"occ\": \":m\", \"cooling\": \":m\", \"equipRef\": \"urn:sample/NREL-VAV-01\"}, {\"id\": \"e9061838-1b7f-42fa-9388-f86608648cea\", \"dis\": \"urn:sample/NREL-VAV-02-ZoneTemperatureHeatingStandbySetpointShape\", \"air\": \"m\", \"temp\": \"m\", \"sp\": \"m\", \"standby\": \":m\", \"heating\": \":m\", \"zone\": \":m\", \"equipRef\": \"urn:sample/NREL-VAV-02\"}, {\"id\": \"ab089d2f-8439-4ad8-a657-909cdb14882a\", \"dis\": \"urn:sample/NREL-VAV-02-MaximumHeatingDischargeAirFlowSetpointShape\", \"discharge\": \"m\", \"air\": \"m\", \"flow\": \"m\", \"sp\": \"m\", \"max\": \":m\", \"heating\": \":m\", \"equipRef\": \"urn:sample/NREL-VAV-02\"}, {\"id\": \"34abc6e8-90e4-41c4-930a-445fdc07d411\", \"dis\": \"urn:sample/NREL-VAV-01-MinimumCoolingDischargeAirFlowSetpointShape\", \"discharge\": \"m\", \"air\": \"m\", \"flow\": \"m\", \"sp\": \"m\", \"min\": \":m\", \"cooling\": \":m\", \"equipRef\": \"urn:sample/NREL-VAV-01\"}, {\"id\": \"7a1585e1-fc24-40f6-bfd5-727b9f411784\", \"dis\": \"urn:sample/NREL-VAV-01-ZoneTemperatureHeatingOccupiedSetpointShape\", \"air\": \"m\", \"temp\": \"m\", \"sp\": \"m\", \"zone\": \":m\", \"occ\": \":m\", \"heating\": \":m\", \"equipRef\": \"urn:sample/NREL-VAV-01\"}, {\"id\": \"92ece96f-3ee2-41cb-abe4-f76a1ba5921a\", \"dis\": \"urn:sample/NREL-VAV-02-ZoneTemperatureCoolingOccupiedSetpointShape\", \"air\": \"m\", \"temp\": \"m\", \"sp\": \"m\", \"cooling\": \":m\", \"zone\": \":m\", \"occ\": \":m\", \"equipRef\": \"urn:sample/NREL-VAV-02\"}, {\"id\": \"d14b2d9a-53b8-4991-b85e-e6ce94dff4a9\", \"dis\": \"urn:sample/NREL-VAV-01-MaximumHeatingDischargeAirFlowSetpointShape\", \"discharge\": \"m\", \"air\": \"m\", \"flow\": \"m\", \"sp\": \"m\", \"heating\": \":m\", \"max\": \":m\", \"equipRef\": \"urn:sample/NREL-VAV-01\"}, {\"id\": \"76f5aa5c-43b4-4144-85b9-60d80df6859a\", \"dis\": \"urn:sample/NREL-VAV-02-MaximumCoolingDischargeAirFlowSetpointShape\", \"discharge\": \"m\", \"air\": \"m\", \"flow\": \"m\", \"sp\": \"m\", \"max\": \":m\", \"cooling\": \":m\", \"equipRef\": \"urn:sample/NREL-VAV-02\"}, {\"id\": \"da10a84e-b5b6-48a3-81c7-0d1a41ee0cf6\", \"dis\": \"urn:sample/NREL-VAV-02-ZoneTemperatureHeatingEffectiveSetpointShape\", \"air\": \"m\", \"temp\": \"m\", \"sp\": \"m\", \"zone\": \":m\", \"effective\": \":m\", \"heating\": \":m\", \"equipRef\": \"urn:sample/NREL-VAV-02\"}, {\"id\": \"5c93b8da-2aeb-4934-b6e0-e22bece3bc6c\", \"dis\": \"urn:sample/NREL-VAV-02-ZoneTemperatureHeatingOccupiedSetpointShape\", \"air\": \"m\", \"temp\": \"m\", \"sp\": \"m\", \"heating\": \":m\", \"zone\": \":m\", \"occ\": \":m\", \"equipRef\": \"urn:sample/NREL-VAV-02\"}, {\"id\": \"e508aaba-58c2-4947-bb6e-f9d7d17469fa\", \"dis\": \"urn:sample/NREL-VAV-02-ZoneEquipmentOperatingStateShape\", \"point\": \"m\", \"sp\": \":m\", \"operating\": \":m\", \"mode\": \":m\", \"equipRef\": \"urn:sample/NREL-VAV-02\"}, {\"id\": \"8c9fd2f4-62d9-453a-b2b8-020ae2b1d672\", \"dis\": \"urn:sample/NREL-VAV-02-OccupancyModeStandbyShape\", \"point\": \"m\", \"occ\": \":m\", \"mode\": \":m\", \"sp\": \":m\", \"equipRef\": \"urn:sample/NREL-VAV-02\"}, {\"id\": \"b6f1cb4c-6b9a-4d71-973d-14ebb2fd4185\", \"dis\": \"urn:sample/NREL-VAV-01-DischargeAirDamperCommandShape\", \"point\": \"m\", \"cmd\": \":m\", \"air\": \":m\", \"damper\": \":m\", \"discharge\": \":m\", \"equipRef\": \"urn:sample/NREL-VAV-01\"}, {\"id\": \"1d70c03a-4e07-490d-af20-90ceb490a1bc\", \"dis\": \"urn:sample/NREL-VAV-01-ZoneTemperatureHeatingEffectiveSetpointShape\", \"air\": \"m\", \"temp\": \"m\", \"sp\": \"m\", \"effective\": \":m\", \"heating\": \":m\", \"zone\": \":m\", \"equipRef\": \"urn:sample/NREL-VAV-01\"}, {\"id\": \"25fdc311-7bfc-4234-a55b-09e2beebbb72\", \"dis\": \"urn:sample/NREL-VAV-01-MinimumHeatingDischargeAirFlowSetpointShape\", \"discharge\": \"m\", \"air\": \"m\", \"flow\": \"m\", \"sp\": \"m\", \"min\": \":m\", \"heating\": \":m\", \"equipRef\": \"urn:sample/NREL-VAV-01\"}, {\"id\": \"34f1b2c6-ec17-4e0f-ad87-30a1e830f0e4\", \"dis\": \"urn:sample/NREL-VAV-02-DischargeAirDamperCommandShape\", \"point\": \"m\", \"discharge\": \":m\", \"air\": \":m\", \"damper\": \":m\", \"cmd\": \":m\", \"equipRef\": \"urn:sample/NREL-VAV-02\"}, {\"id\": \"815a6475-eb37-4668-994a-ff8c81b9b348\", \"dis\": \"urn:sample/NREL-VAV-02-DischargeAirTemperatureShape\", \"discharge\": \"m\", \"air\": \"m\", \"temp\": \"m\", \"sensor\": \"m\", \"leaving\": \":m\", \"equipRef\": \"urn:sample/NREL-VAV-02\"}, {\"id\": \"7bc09459-311f-4c3e-b525-a504ef70021f\", \"dis\": \"urn:sample/NREL-VAV-02-zone-air-co2-sensor-shape\", \"point\": \"m\", \"zone\": \":m\", \"air\": \":m\", \"co2\": \":m\", \"sensor\": \":m\", \"equipRef\": \"urn:sample/NREL-VAV-02\"}, {\"id\": \"9851b4d1-e1df-465c-b88b-ddd8b758761d\", \"dis\": \"urn:sample/NREL-VAV-01-OccupancyModeStandbyShape\", \"point\": \"m\", \"mode\": \":m\", \"sp\": \":m\", \"occ\": \":m\", \"equipRef\": \"urn:sample/NREL-VAV-01\"}, {\"id\": \"bceeb79d-1c19-42b1-bd31-a66fe5308380\", \"dis\": \"urn:sample/NREL-VAV-02\", \"coolingOnly\": \"m\", \"vav\": \"m\"}, {\"id\": \"8f1120a9-2cad-4bd8-9126-7ab56daaa70c\", \"dis\": \"urn:sample/NREL-VAV-01\", \"coolingOnly\": \"m\", \"vav\": \"m\"}, {\"id\": \"bc5f5f68-1e41-4e7c-8e06-de1676ce5dde\", \"dis\": \"urn:sample/NREL-VAV-02-ZoneTemperatureCoolingStandbySetpointShape\", \"air\": \"m\", \"temp\": \"m\", \"sp\": \"m\", \"zone\": \":m\", \"cooling\": \":m\", \"standby\": \":m\", \"equipRef\": \"urn:sample/NREL-VAV-02\"}, {\"id\": \"615b0144-b46f-413f-9827-75ce472405e6\", \"dis\": \"urn:sample/NREL-VAV-01-zone_air_co2_sp_shape\", \"point\": \"m\", \"co2\": \":m\", \"zone\": \":m\", \"sp\": \":m\", \"air\": \":m\", \"equipRef\": \"urn:sample/NREL-VAV-01\"}, {\"id\": \"eac7d683-6f61-4455-aeab-9d09fe5c1743\", \"dis\": \"urn:sample/NREL-VAV-02-ZoneTemperatureCoolingUnoccupiedSetpointShape\", \"air\": \"m\", \"temp\": \"m\", \"sp\": \"m\", \"zone\": \":m\", \"cooling\": \":m\", \"unocc\": \":m\", \"equipRef\": \"urn:sample/NREL-VAV-02\"}, {\"id\": \"e13599bc-dd2a-4c12-a42f-8b6c18c540c6\", \"dis\": \"urn:sample/NREL-VAV-02-zone-air-co2-sp-shape\", \"point\": \"m\", \"sp\": \":m\", \"co2\": \":m\", \"air\": \":m\", \"zone\": \":m\", \"equipRef\": \"urn:sample/NREL-VAV-02\"}, {\"id\": \"340311a4-8ee7-4aaa-9ae3-56ad6cb8b3c1\", \"dis\": \"urn:sample/NREL-VAV-02-HeatingRequestsShape\", \"point\": \"m\", \"cmd\": \":m\", \"request\": \":m\", \"heating\": \":m\", \"equipRef\": \"urn:sample/NREL-VAV-02\"}, {\"id\": \"0e143d81-41da-4f00-b840-56732fb44b69\", \"dis\": \"urn:sample/NREL-VAV-02-DischargeAirFlowShape\", \"discharge\": \"m\", \"air\": \"m\", \"flow\": \"m\", \"sensor\": \"m\", \"leaving\": \":m\", \"equipRef\": \"urn:sample/NREL-VAV-02\"}, {\"id\": \"01266f8a-c294-4fb3-be40-9dd5b69c4627\", \"dis\": \"urn:sample/NREL-VAV-02-MinimumHeatingDischargeAirFlowSetpointShape\", \"discharge\": \"m\", \"air\": \"m\", \"flow\": \"m\", \"sp\": \"m\", \"heating\": \":m\", \"min\": \":m\", \"equipRef\": \"urn:sample/NREL-VAV-02\"}, {\"id\": \"ac544b37-a924-4095-9795-097b4fefa2cf\", \"dis\": \"urn:sample/NREL-VAV-02-DischargeAirFlowSetpointShape\", \"discharge\": \"m\", \"air\": \"m\", \"flow\": \"m\", \"sp\": \"m\", \"effective\": \":m\", \"equipRef\": \"urn:sample/NREL-VAV-02\"}, {\"id\": \"d8cfe5b3-7050-4c75-9484-4b662330d2dd\", \"dis\": \"urn:sample/NREL-VAV-01-ZoneRelativeHumiditySensor\", \"air\": \"m\", \"humidity\": \"m\", \"sensor\": \"m\", \"zone\": \":m\", \"equipRef\": \"urn:sample/NREL-VAV-01\"}, {\"id\": \"821ccddc-29f0-4b4f-b983-1502c6303f34\", \"dis\": \"urn:sample/NREL-VAV-01-ZoneTemperatureCoolingEffectiveSetpointShape\", \"air\": \"m\", \"temp\": \"m\", \"sp\": \"m\", \"effective\": \":m\", \"zone\": \":m\", \"cooling\": \":m\", \"equipRef\": \"urn:sample/NREL-VAV-01\"}, {\"id\": \"87fd09ca-8c15-47df-8f65-e5512c21853a\", \"dis\": \"urn:sample/NREL-VAV-02-OccupancyModeBinaryShape\", \"point\": \"m\", \"sp\": \":m\", \"occupied\": \":m\", \"equipRef\": \"urn:sample/NREL-VAV-02\"}, {\"id\": \"1771d073-b883-4918-83f0-9cac0cf6c711\", \"dis\": \"urn:sample/NREL-VAV-01-DischargeAirFlowSetpointShape\", \"discharge\": \"m\", \"air\": \"m\", \"flow\": \"m\", \"sp\": \"m\", \"effective\": \":m\", \"equipRef\": \"urn:sample/NREL-VAV-01\"}, {\"id\": \"71b9b050-71bb-4f78-a7c8-dd84fba7026d\", \"dis\": \"urn:sample/NREL-VAV-01-MaximumCoolingDischargeAirFlowSetpointShape\", \"discharge\": \"m\", \"air\": \"m\", \"flow\": \"m\", \"sp\": \"m\", \"max\": \":m\", \"cooling\": \":m\", \"equipRef\": \"urn:sample/NREL-VAV-01\"}]}'"
      ]
     },
     "metadata": {},
     "execution_count": 22
    }
   ],
   "source": [
    "tg.print_as_hayson(hg)"
   ]
  },
  {
   "cell_type": "code",
   "execution_count": null,
   "metadata": {},
   "outputs": [],
   "source": []
  }
 ],
 "metadata": {
  "kernelspec": {
   "display_name": "Python 3",
   "language": "python",
   "name": "python3"
  },
  "language_info": {
   "codemirror_mode": {
    "name": "ipython",
    "version": 3
   },
   "file_extension": ".py",
   "mimetype": "text/x-python",
   "name": "python",
   "nbconvert_exporter": "python",
   "pygments_lexer": "ipython3",
   "version": "3.8.5"
  }
 },
 "nbformat": 4,
 "nbformat_minor": 4
}
