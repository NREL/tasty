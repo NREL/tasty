{
 "cells": [
  {
   "cell_type": "markdown",
   "metadata": {},
   "source": [
    "## Setup"
   ]
  },
  {
   "cell_type": "code",
   "execution_count": 1,
   "metadata": {},
   "outputs": [],
   "source": [
    "from rdflib import Namespace\n",
    "import tasty.constants as tc\n",
    "import tasty.graphs as tg\n",
    "import tasty.entities as tents\n",
    "\n",
    "# Create a namespace and load in a blank Brick / Haystack graph\n",
    "SAMPLE = Namespace('urn:sample/')\n",
    "hg = tg.get_versioned_graph(tc.HAYSTACK, tc.V3_9_10)\n",
    "hg.bind('sample', SAMPLE)\n",
    "h_ont = tg.load_ontology(tc.HAYSTACK, tc.V3_9_10)\n",
    "\n",
    "# Specify the schema version (tc.V9_9_10, etc.) to use\n",
    "hp = tents.HaystackPointDefs(tc.V3_9_10)\n",
    "he = tents.HaystackEquipDefs(tc.V3_9_10)\n",
    "hrefs = tents.HaystackRefDefs(tc.V3_9_10)\n",
    "\n",
    "# Bind all of the first class types as attributes\n",
    "hp.bind()\n",
    "he.bind()\n",
    "hrefs.bind()\n",
    "\n",
    "# Simple wrapper around all of the shapes\n",
    "shrap = tents.ShapesWrapper(tc.HAYSTACK, tc.V3_9_10)\n",
    "shrap.bind()"
   ]
  },
  {
   "cell_type": "code",
   "execution_count": 2,
   "metadata": {},
   "outputs": [],
   "source": [
    "def print_graph(g):\n",
    "    print(g.serialize(format='turtle').decode('utf-8'))"
   ]
  },
  {
   "cell_type": "markdown",
   "metadata": {},
   "source": [
    "## Building the Equipment"
   ]
  },
  {
   "cell_type": "code",
   "execution_count": 3,
   "metadata": {},
   "outputs": [
    {
     "data": {
      "text/plain": [
       "'NREL-VAV-01'"
      ]
     },
     "execution_count": 3,
     "metadata": {},
     "output_type": "execute_result"
    }
   ],
   "source": [
    "# create the VAV equip\n",
    "equip_id = \"NREL-VAV-01\"\n",
    "vav = he.coolingOnly_vav.deep_copy()\n",
    "vav.set_namespace(SAMPLE)\n",
    "vav.set_id(equip_id)"
   ]
  },
  {
   "cell_type": "code",
   "execution_count": 30,
   "metadata": {},
   "outputs": [
    {
     "data": {
      "text/plain": [
       "rdflib.term.URIRef('urn:sample/NREL-VAV-01')"
      ]
     },
     "execution_count": 30,
     "metadata": {},
     "output_type": "execute_result"
    }
   ],
   "source": [
    "vav.node"
   ]
  },
  {
   "cell_type": "markdown",
   "metadata": {},
   "source": [
    "## Sensors\n",
    "\n",
    "### ZoneThermalComfortSensors\n",
    "\n",
    "When we have first class types for all of the things that we want, we don't need to add extra tags / custom tags / etc. However, the ShapesWrapper makes this easier when we need to define things from shapes."
   ]
  },
  {
   "cell_type": "code",
   "execution_count": 4,
   "metadata": {},
   "outputs": [],
   "source": [
    "# Zone Temp Sensor - not using shapes wrapper\n",
    "zats = hp.air_temp_sensor.deep_copy()\n",
    "zats.set_id(f\"{equip_id}-zone-air-temp-sensor\")\n",
    "zats.add_tags(['zone'], h_ont)\n",
    "\n",
    "\n",
    "# Zone Humidity Sensor - using shapes wrapper\n",
    "zarh = shrap.ZoneRelativeHumidityShape.cast_to_entity(f\"{equip_id}-ZoneRelativeHumiditySensor\")"
   ]
  },
  {
   "cell_type": "markdown",
   "metadata": {},
   "source": [
    "### ZoneOccupancySensorsShape"
   ]
  },
  {
   "cell_type": "code",
   "execution_count": 5,
   "metadata": {},
   "outputs": [
    {
     "name": "stderr",
     "output_type": "stream",
     "text": [
      "WARNING:root:occupancyIndicator not found. adding under custom namespace as: https://project-haystack.org/def/custom#occupancyIndicator\n"
     ]
    }
   ],
   "source": [
    "# binary occ\n",
    "boc = shrap.BinaryOccupancySensorShape.cast_to_entity(f\"{equip_id}-BinaryOccupancySensor\")\n",
    "\n",
    "# occ override\n",
    "occov = shrap.OccupancyOverrideCommandShape.cast_to_entity(f\"{equip_id}-OccupancyOverrideCommandShape\")"
   ]
  },
  {
   "cell_type": "markdown",
   "metadata": {},
   "source": [
    "### ZoneDemandControlledVentilationShape"
   ]
  },
  {
   "cell_type": "code",
   "execution_count": 6,
   "metadata": {},
   "outputs": [],
   "source": [
    "zo2 = shrap.zone_air_co2_sensor_shape.cast_to_entity(f\"{equip_id}-zone-air-co2-sensor\")\n",
    "zo2_sp = shrap.zone_air_co2_sp_shape.cast_to_entity(f\"{equip_id}-zone_air_co2_sp_shape\")"
   ]
  },
  {
   "cell_type": "markdown",
   "metadata": {},
   "source": [
    "### ZoneCoolingSetpointsShape"
   ]
  },
  {
   "cell_type": "code",
   "execution_count": 7,
   "metadata": {},
   "outputs": [],
   "source": [
    "# Required\n",
    "cool_eff = shrap.ZoneTemperatureCoolingEffectiveSetpointShape.cast_to_entity(f\"{equip_id}-ZoneTemperatureCoolingEffectiveSetpointShape\")\n",
    "cool_occ_eff = shrap.ZoneTemperatureCoolingOccupiedSetpointShape.cast_to_entity(f\"{equip_id}-ZoneTemperatureCoolingOccupiedSetpointShape\")\n",
    "cool_unocc_eff = shrap.ZoneTemperatureCoolingUnoccupiedSetpointShape.cast_to_entity(f\"{equip_id}-ZoneTemperatureCoolingUnoccupiedSetpointShape\")\n",
    "\n",
    "# Optional\n",
    "cool_stdby = shrap.ZoneTemperatureCoolingStandbySetpointShape.cast_to_entity(f\"{equip_id}-ZoneTemperatureCoolingStandbySetpointShape\")"
   ]
  },
  {
   "cell_type": "markdown",
   "metadata": {},
   "source": [
    "### ZoneHeatingSetpointsShape"
   ]
  },
  {
   "cell_type": "code",
   "execution_count": 8,
   "metadata": {},
   "outputs": [],
   "source": [
    "# Required\n",
    "heat_eff = shrap.ZoneTemperatureHeatingEffectiveSetpointShape.cast_to_entity(f\"{equip_id}-ZoneTemperatureHeatingEffectiveSetpointShape\")\n",
    "heat_occ_eff = shrap.ZoneTemperatureHeatingOccupiedSetpointShape.cast_to_entity(f\"{equip_id}-ZoneTemperatureHeatingOccupiedSetpointShape\")\n",
    "heat_unocc_eff = shrap.ZoneTemperatureHeatingUnoccupiedSetpointShape.cast_to_entity(f\"{equip_id}-ZoneTemperatureHeatingUnoccupiedSetpointShape\")\n",
    "\n",
    "# Optional\n",
    "heat_stdby = shrap.ZoneTemperatureHeatingStandbySetpointShape.cast_to_entity(f\"{equip_id}-ZoneTemperatureHeatingStandbySetpointShape\")"
   ]
  },
  {
   "cell_type": "markdown",
   "metadata": {},
   "source": [
    "### ZoneModeControlShape"
   ]
  },
  {
   "cell_type": "code",
   "execution_count": 9,
   "metadata": {},
   "outputs": [
    {
     "name": "stderr",
     "output_type": "stream",
     "text": [
      "WARNING:root:operating not found. adding under custom namespace as: https://project-haystack.org/def/custom#operating\n",
      "WARNING:root:mode not found. adding under custom namespace as: https://project-haystack.org/def/custom#mode\n",
      "WARNING:root:mode not found. adding under custom namespace as: https://project-haystack.org/def/custom#mode\n"
     ]
    }
   ],
   "source": [
    "# Optional\n",
    "zopss = shrap.ZoneEquipmentOperatingStateShape.cast_to_entity(f\"{equip_id}-ZoneEquipmentOperatingStateShape\")\n",
    "occ_mb = shrap.OccupancyModeBinaryShape.cast_to_entity(f\"{equip_id}-OccupancyModeBinaryShape\")\n",
    "occ_mstdby = shrap.OccupancyModeStandbyShape.cast_to_entity(f\"{equip_id}-OccupancyModeStandbyShape\")"
   ]
  },
  {
   "cell_type": "markdown",
   "metadata": {},
   "source": [
    "### AirTemperatureControlShape"
   ]
  },
  {
   "cell_type": "code",
   "execution_count": 10,
   "metadata": {},
   "outputs": [
    {
     "name": "stderr",
     "output_type": "stream",
     "text": [
      "WARNING:root:request not found. adding under custom namespace as: https://project-haystack.org/def/custom#request\n",
      "WARNING:root:request not found. adding under custom namespace as: https://project-haystack.org/def/custom#request\n"
     ]
    }
   ],
   "source": [
    "# Required\n",
    "dats = shrap.DischargeAirTemperatureShape.cast_to_entity(f\"{equip_id}-DischargeAirTemperatureShape\")\n",
    "\n",
    "# Optional\n",
    "cool_rqsts = shrap.CoolingRequestsShape.cast_to_entity(f\"{equip_id}-CoolingRequestsShape\")\n",
    "heat_rqsts = shrap.HeatingRequestsShape.cast_to_entity(f\"{equip_id}-HeatingRequestsShape\")"
   ]
  },
  {
   "cell_type": "markdown",
   "metadata": {},
   "source": [
    "### VAVAirFlowControlShape"
   ]
  },
  {
   "cell_type": "code",
   "execution_count": 11,
   "metadata": {},
   "outputs": [
    {
     "name": "stderr",
     "output_type": "stream",
     "text": [
      "WARNING:root:min not found. adding under custom namespace as: https://project-haystack.org/def/custom#min\n",
      "WARNING:root:min not found. adding under custom namespace as: https://project-haystack.org/def/custom#min\n",
      "WARNING:root:max not found. adding under custom namespace as: https://project-haystack.org/def/custom#max\n",
      "WARNING:root:max not found. adding under custom namespace as: https://project-haystack.org/def/custom#max\n"
     ]
    }
   ],
   "source": [
    "# Required\n",
    "dad = shrap.DischargeAirDamperCommandShape.cast_to_entity(f\"{equip_id}-DischargeAirDamperCommandShape\")\n",
    "feed_dad = shrap.DischargeAirDamperFeedbackShape.cast_to_entity(f\"{equip_id}-DischargeAirDamperFeedbackShape\")\n",
    "dafs = shrap.DischargeAirFlowShape.cast_to_entity(f\"{equip_id}-DischargeAirFlowShape\")\n",
    "\n",
    "# Opts\n",
    "dafsp = shrap.DischargeAirFlowSetpointShape.cast_to_entity(f\"{equip_id}-DischargeAirFlowSetpointShape\")\n",
    "min_heat_dafsp = shrap.MinimumHeatingDischargeAirFlowSetpointShape.cast_to_entity(f\"{equip_id}-MinimumHeatingDischargeAirFlowSetpointShape\")\n",
    "min_cool_dafsp = shrap.MinimumCoolingDischargeAirFlowSetpointShape.cast_to_entity(f\"{equip_id}-MinimumCoolingDischargeAirFlowSetpointShape\")\n",
    "max_heat_dafsp = shrap.MaximumHeatingDischargeAirFlowSetpointShape.cast_to_entity(f\"{equip_id}-MaximumHeatingDischargeAirFlowSetpointShape\")\n",
    "max_cool_dafsp = shrap.MaximumCoolingDischargeAirFlowSetpointShape.cast_to_entity(f\"{equip_id}-MaximumCoolingDischargeAirFlowSetpointShape\")"
   ]
  },
  {
   "cell_type": "code",
   "execution_count": 15,
   "metadata": {},
   "outputs": [],
   "source": [
    "sensors = []\n",
    "# add them to the list\n",
    "sensors += [\n",
    "    zats, zarh, # ZoneThermalComfortSensors\n",
    "    boc, occov, # ZoneOccupancySensors\n",
    "    zo2, zo2_sp, # ZoneDCV\n",
    "    cool_eff, cool_occ_eff, cool_unocc_eff, cool_stdby, # ZoneCooling\n",
    "    heat_eff, heat_occ_eff, heat_unocc_eff, heat_stdby, # ZoneHeating\n",
    "    zopss, occ_mb, occ_mstdby, # ZoneModeControl\n",
    "    dats, cool_rqsts, heat_rqsts, # AirTemperatureControl\n",
    "    dad, feed_dad, dafs, dafsp, min_heat_dafsp, min_cool_dafsp, max_heat_dafsp, max_cool_dafsp # VAVAirFlowControlShape\n",
    "]"
   ]
  },
  {
   "cell_type": "markdown",
   "metadata": {},
   "source": [
    "## Sync with the Graph\n",
    "\n",
    "To utilize the sync method, at least one of the things needs to be bound to a graph. We will only explicitly bind the VAV, the other things will get brought in."
   ]
  },
  {
   "cell_type": "code",
   "execution_count": 16,
   "metadata": {},
   "outputs": [
    {
     "data": {
      "text/plain": [
       "True"
      ]
     },
     "execution_count": 16,
     "metadata": {},
     "output_type": "execute_result"
    }
   ],
   "source": [
    "vav.bind_to_graph(hg)"
   ]
  },
  {
   "cell_type": "code",
   "execution_count": 17,
   "metadata": {},
   "outputs": [],
   "source": [
    "# Loop through em\n",
    "for sensor in sensors:\n",
    "    sensor.set_namespace(SAMPLE)\n",
    "    sensor.add_relationship(hrefs.equipRef, vav)\n",
    "    sensor.sync()"
   ]
  },
  {
   "cell_type": "code",
   "execution_count": 18,
   "metadata": {},
   "outputs": [],
   "source": [
    "hg.bind('phCustom', tc.PH_CUSTOM)"
   ]
  },
  {
   "cell_type": "code",
   "execution_count": 19,
   "metadata": {},
   "outputs": [
    {
     "name": "stdout",
     "output_type": "stream",
     "text": [
      "@prefix ph: <https://project-haystack.org/def/ph/3.9.10#> .\n",
      "@prefix phCustom: <https://project-haystack.org/def/custom#> .\n",
      "@prefix phIoT: <https://project-haystack.org/def/phIoT/3.9.10#> .\n",
      "@prefix phScience: <https://project-haystack.org/def/phScience/3.9.10#> .\n",
      "@prefix sample: <urn:sample/> .\n",
      "\n",
      "sample:NREL-VAV-01-BinaryOccupancySensor a phIoT:point ;\n",
      "    ph:hasTag phCustom:occupancyIndicator,\n",
      "        phIoT:occupied,\n",
      "        phIoT:sensor ;\n",
      "    phIoT:equipRef sample:NREL-VAV-01 .\n",
      "\n",
      "sample:NREL-VAV-01-CoolingRequestsShape a phIoT:point ;\n",
      "    ph:hasTag phCustom:request,\n",
      "        phIoT:cmd,\n",
      "        phIoT:cooling ;\n",
      "    phIoT:equipRef sample:NREL-VAV-01 .\n",
      "\n",
      "sample:NREL-VAV-01-DischargeAirDamperCommandShape a phIoT:point ;\n",
      "    ph:hasTag phIoT:cmd,\n",
      "        phIoT:damper,\n",
      "        phIoT:discharge,\n",
      "        phScience:air ;\n",
      "    phIoT:equipRef sample:NREL-VAV-01 .\n",
      "\n",
      "sample:NREL-VAV-01-DischargeAirDamperFeedbackShape a phIoT:air-sensor ;\n",
      "    ph:hasTag phIoT:damper,\n",
      "        phIoT:discharge ;\n",
      "    phIoT:equipRef sample:NREL-VAV-01 .\n",
      "\n",
      "sample:NREL-VAV-01-DischargeAirFlowSetpointShape a phIoT:discharge-air-flow-sp ;\n",
      "    ph:hasTag phIoT:effective ;\n",
      "    phIoT:equipRef sample:NREL-VAV-01 .\n",
      "\n",
      "sample:NREL-VAV-01-DischargeAirFlowShape a phIoT:discharge-air-flow-sensor ;\n",
      "    ph:hasTag phIoT:leaving ;\n",
      "    phIoT:equipRef sample:NREL-VAV-01 .\n",
      "\n",
      "sample:NREL-VAV-01-DischargeAirTemperatureShape a phIoT:discharge-air-temp-sensor ;\n",
      "    ph:hasTag phIoT:leaving ;\n",
      "    phIoT:equipRef sample:NREL-VAV-01 .\n",
      "\n",
      "sample:NREL-VAV-01-HeatingRequestsShape a phIoT:point ;\n",
      "    ph:hasTag phCustom:request,\n",
      "        phIoT:cmd,\n",
      "        phIoT:heating ;\n",
      "    phIoT:equipRef sample:NREL-VAV-01 .\n",
      "\n",
      "sample:NREL-VAV-01-MaximumCoolingDischargeAirFlowSetpointShape a phIoT:discharge-air-flow-sp ;\n",
      "    ph:hasTag phCustom:max,\n",
      "        phIoT:cooling ;\n",
      "    phIoT:equipRef sample:NREL-VAV-01 .\n",
      "\n",
      "sample:NREL-VAV-01-MaximumHeatingDischargeAirFlowSetpointShape a phIoT:discharge-air-flow-sp ;\n",
      "    ph:hasTag phCustom:max,\n",
      "        phIoT:heating ;\n",
      "    phIoT:equipRef sample:NREL-VAV-01 .\n",
      "\n",
      "sample:NREL-VAV-01-MinimumCoolingDischargeAirFlowSetpointShape a phIoT:discharge-air-flow-sp ;\n",
      "    ph:hasTag phCustom:min,\n",
      "        phIoT:cooling ;\n",
      "    phIoT:equipRef sample:NREL-VAV-01 .\n",
      "\n",
      "sample:NREL-VAV-01-MinimumHeatingDischargeAirFlowSetpointShape a phIoT:discharge-air-flow-sp ;\n",
      "    ph:hasTag phCustom:min,\n",
      "        phIoT:heating ;\n",
      "    phIoT:equipRef sample:NREL-VAV-01 .\n",
      "\n",
      "sample:NREL-VAV-01-OccupancyModeBinaryShape a phIoT:point ;\n",
      "    ph:hasTag phIoT:occupied,\n",
      "        phIoT:sp ;\n",
      "    phIoT:equipRef sample:NREL-VAV-01 .\n",
      "\n",
      "sample:NREL-VAV-01-OccupancyModeStandbyShape a phIoT:point ;\n",
      "    ph:hasTag phCustom:mode,\n",
      "        phIoT:occ,\n",
      "        phIoT:sp ;\n",
      "    phIoT:equipRef sample:NREL-VAV-01 .\n",
      "\n",
      "sample:NREL-VAV-01-OccupancyOverrideCommandShape a phIoT:point ;\n",
      "    ph:hasTag phIoT:cmd,\n",
      "        phIoT:occupied ;\n",
      "    phIoT:equipRef sample:NREL-VAV-01 .\n",
      "\n",
      "sample:NREL-VAV-01-ZoneEquipmentOperatingStateShape a phIoT:point ;\n",
      "    ph:hasTag phCustom:mode,\n",
      "        phCustom:operating,\n",
      "        phIoT:sp ;\n",
      "    phIoT:equipRef sample:NREL-VAV-01 .\n",
      "\n",
      "sample:NREL-VAV-01-ZoneRelativeHumiditySensor a phIoT:air-humidity-sensor ;\n",
      "    ph:hasTag phIoT:zone ;\n",
      "    phIoT:equipRef sample:NREL-VAV-01 .\n",
      "\n",
      "sample:NREL-VAV-01-ZoneTemperatureCoolingEffectiveSetpointShape a phIoT:air-temp-sp ;\n",
      "    ph:hasTag phIoT:cooling,\n",
      "        phIoT:effective,\n",
      "        phIoT:zone ;\n",
      "    phIoT:equipRef sample:NREL-VAV-01 .\n",
      "\n",
      "sample:NREL-VAV-01-ZoneTemperatureCoolingOccupiedSetpointShape a phIoT:air-temp-sp ;\n",
      "    ph:hasTag phIoT:cooling,\n",
      "        phIoT:occ,\n",
      "        phIoT:zone ;\n",
      "    phIoT:equipRef sample:NREL-VAV-01 .\n",
      "\n",
      "sample:NREL-VAV-01-ZoneTemperatureCoolingStandbySetpointShape a phIoT:air-temp-sp ;\n",
      "    ph:hasTag phIoT:cooling,\n",
      "        phIoT:standby,\n",
      "        phIoT:zone ;\n",
      "    phIoT:equipRef sample:NREL-VAV-01 .\n",
      "\n",
      "sample:NREL-VAV-01-ZoneTemperatureCoolingUnoccupiedSetpointShape a phIoT:air-temp-sp ;\n",
      "    ph:hasTag phIoT:cooling,\n",
      "        phIoT:unocc,\n",
      "        phIoT:zone ;\n",
      "    phIoT:equipRef sample:NREL-VAV-01 .\n",
      "\n",
      "sample:NREL-VAV-01-ZoneTemperatureHeatingEffectiveSetpointShape a phIoT:air-temp-sp ;\n",
      "    ph:hasTag phIoT:effective,\n",
      "        phIoT:heating,\n",
      "        phIoT:zone ;\n",
      "    phIoT:equipRef sample:NREL-VAV-01 .\n",
      "\n",
      "sample:NREL-VAV-01-ZoneTemperatureHeatingOccupiedSetpointShape a phIoT:air-temp-sp ;\n",
      "    ph:hasTag phIoT:heating,\n",
      "        phIoT:occ,\n",
      "        phIoT:zone ;\n",
      "    phIoT:equipRef sample:NREL-VAV-01 .\n",
      "\n",
      "sample:NREL-VAV-01-ZoneTemperatureHeatingStandbySetpointShape a phIoT:air-temp-sp ;\n",
      "    ph:hasTag phIoT:heating,\n",
      "        phIoT:standby,\n",
      "        phIoT:zone ;\n",
      "    phIoT:equipRef sample:NREL-VAV-01 .\n",
      "\n",
      "sample:NREL-VAV-01-ZoneTemperatureHeatingUnoccupiedSetpointShape a phIoT:air-temp-sp ;\n",
      "    ph:hasTag phIoT:heating,\n",
      "        phIoT:unocc,\n",
      "        phIoT:zone ;\n",
      "    phIoT:equipRef sample:NREL-VAV-01 .\n",
      "\n",
      "sample:NREL-VAV-01-zone-air-co2-sensor a phIoT:point ;\n",
      "    ph:hasTag phIoT:sensor,\n",
      "        phIoT:zone,\n",
      "        phScience:air,\n",
      "        phScience:co2 ;\n",
      "    phIoT:equipRef sample:NREL-VAV-01 .\n",
      "\n",
      "sample:NREL-VAV-01-zone-air-temp-sensor a phIoT:air-temp-sensor ;\n",
      "    ph:hasTag phIoT:zone ;\n",
      "    phIoT:equipRef sample:NREL-VAV-01 .\n",
      "\n",
      "sample:NREL-VAV-01-zone_air_co2_sp_shape a phIoT:point ;\n",
      "    ph:hasTag phIoT:sp,\n",
      "        phIoT:zone,\n",
      "        phScience:air,\n",
      "        phScience:co2 ;\n",
      "    phIoT:equipRef sample:NREL-VAV-01 .\n",
      "\n",
      "sample:NREL-VAV-01 a phIoT:coolingOnly-vav .\n",
      "\n",
      "\n"
     ]
    }
   ],
   "source": [
    "print_graph(hg)"
   ]
  },
  {
   "cell_type": "markdown",
   "metadata": {},
   "source": [
    "# Shapes Based Data Validation"
   ]
  },
  {
   "cell_type": "code",
   "execution_count": 31,
   "metadata": {},
   "outputs": [],
   "source": [
    "from tasty.shapes_loader import ShapesLoader\n",
    "import os\n",
    "from rdflib import Graph, SH\n",
    "from rdflib.util import guess_format\n",
    "from pyshacl import validate"
   ]
  },
  {
   "cell_type": "markdown",
   "metadata": {},
   "source": [
    "### Import All Shapes\n",
    "\n",
    "The ShapesLoader gives us a wrapper around loading in the shapes graphs"
   ]
  },
  {
   "cell_type": "code",
   "execution_count": 32,
   "metadata": {},
   "outputs": [],
   "source": [
    "sl = ShapesLoader(tc.HAYSTACK)\n",
    "shapes_graph = sl.load_all_and_merge()\n",
    "shapes_graph.bind('sample', SAMPLE)"
   ]
  },
  {
   "cell_type": "markdown",
   "metadata": {},
   "source": [
    "### Load in a Data Graph"
   ]
  },
  {
   "cell_type": "code",
   "execution_count": 22,
   "metadata": {},
   "outputs": [],
   "source": [
    "shapes_graph.add((tc.PH_SHAPES_NREL['NREL-VAV-SD-Cooling-Only-Shape'], SH.targetNode, vav.node))\n",
    "conforms, results_graph, results = validate(hg, shacl_graph=shapes_graph, ont_graph=h_ont)"
   ]
  },
  {
   "cell_type": "code",
   "execution_count": 23,
   "metadata": {},
   "outputs": [],
   "source": [
    "premade = os.path.join(os.getcwd(), '../tests/files/data/haystack_nrel_vav_cooling_only_data.ttl')\n",
    "data_g = Graph().parse(premade, format='turtle')\n",
    "conforms2, results_graph2, results2 = validate(data_g, shacl_graph=shapes_graph, ont_graph=h_ont)"
   ]
  },
  {
   "cell_type": "code",
   "execution_count": 25,
   "metadata": {},
   "outputs": [
    {
     "data": {
      "text/plain": [
       "False"
      ]
     },
     "execution_count": 25,
     "metadata": {},
     "output_type": "execute_result"
    }
   ],
   "source": [
    "conforms2"
   ]
  },
  {
   "cell_type": "code",
   "execution_count": 29,
   "metadata": {},
   "outputs": [
    {
     "name": "stdout",
     "output_type": "stream",
     "text": [
      "@prefix nrel: <https://project-haystack.org/datashapes/nrel#> .\n",
      "@prefix sample: <urn:sample/> .\n",
      "@prefix sh: <http://www.w3.org/ns/shacl#> .\n",
      "@prefix xsd: <http://www.w3.org/2001/XMLSchema#> .\n",
      "\n",
      "[] a sh:ValidationReport ;\n",
      "    sh:conforms false ;\n",
      "    sh:result [ a sh:ValidationResult ;\n",
      "            sh:focusNode sample:NREL-VAV-01 ;\n",
      "            sh:resultMessage \"Value does not conform to every Shape in ('nrel:ZoneHeatingSetpointsShape', 'nrel:ZoneHeatingSetpointsShape', 'nrel:ZoneHeatingSetpointsShape', 'nrel:ZoneHeatingSetpointsShape', 'nrel:ZoneHeatingSetpointsShape', 'nrel:ZoneHeatingSetpointsShape', 'nrel:ZoneHeatingSetpointsShape', 'nrel:ZoneHeatingSetpointsShape')\" ;\n",
      "            sh:resultSeverity sh:Violation ;\n",
      "            sh:sourceConstraintComponent sh:NodeConstraintComponent ;\n",
      "            sh:sourceShape nrel:NREL-VAV-SD-Cooling-Only-Shape ;\n",
      "            sh:value sample:NREL-VAV-01 ],\n",
      "        [ a sh:ValidationResult ;\n",
      "            sh:focusNode sample:NREL-VAV-01 ;\n",
      "            sh:resultMessage \"Value does not conform to every Shape in ('nrel:ZoneHeatingSetpointsShape', 'nrel:ZoneHeatingSetpointsShape', 'nrel:ZoneHeatingSetpointsShape', 'nrel:ZoneHeatingSetpointsShape', 'nrel:ZoneHeatingSetpointsShape', 'nrel:ZoneHeatingSetpointsShape', 'nrel:ZoneHeatingSetpointsShape', 'nrel:ZoneHeatingSetpointsShape')\" ;\n",
      "            sh:resultSeverity sh:Violation ;\n",
      "            sh:sourceConstraintComponent sh:NodeConstraintComponent ;\n",
      "            sh:sourceShape nrel:NREL-VAV-SD-Cooling-Only-Shape ;\n",
      "            sh:value sample:NREL-VAV-01 ],\n",
      "        [ a sh:ValidationResult ;\n",
      "            sh:focusNode sample:NREL-VAV-01 ;\n",
      "            sh:resultMessage \"Value does not conform to every Shape in ('nrel:ZoneHeatingSetpointsShape', 'nrel:ZoneHeatingSetpointsShape', 'nrel:ZoneHeatingSetpointsShape', 'nrel:ZoneHeatingSetpointsShape', 'nrel:ZoneHeatingSetpointsShape', 'nrel:ZoneHeatingSetpointsShape', 'nrel:ZoneHeatingSetpointsShape', 'nrel:ZoneHeatingSetpointsShape')\" ;\n",
      "            sh:resultSeverity sh:Violation ;\n",
      "            sh:sourceConstraintComponent sh:NodeConstraintComponent ;\n",
      "            sh:sourceShape nrel:NREL-VAV-SD-Cooling-Only-Shape ;\n",
      "            sh:value sample:NREL-VAV-01 ],\n",
      "        [ a sh:ValidationResult ;\n",
      "            sh:focusNode sample:NREL-VAV-01 ;\n",
      "            sh:resultMessage \"Value does not conform to every Shape in ('nrel:ZoneHeatingSetpointsShape', 'nrel:ZoneHeatingSetpointsShape', 'nrel:ZoneHeatingSetpointsShape', 'nrel:ZoneHeatingSetpointsShape', 'nrel:ZoneHeatingSetpointsShape', 'nrel:ZoneHeatingSetpointsShape', 'nrel:ZoneHeatingSetpointsShape', 'nrel:ZoneHeatingSetpointsShape')\" ;\n",
      "            sh:resultSeverity sh:Violation ;\n",
      "            sh:sourceConstraintComponent sh:NodeConstraintComponent ;\n",
      "            sh:sourceShape nrel:NREL-VAV-SD-Cooling-Only-Shape ;\n",
      "            sh:value sample:NREL-VAV-01 ],\n",
      "        [ a sh:ValidationResult ;\n",
      "            sh:focusNode sample:NREL-VAV-01 ;\n",
      "            sh:resultMessage \"Value does not conform to every Shape in ('nrel:ZoneHeatingSetpointsShape', 'nrel:ZoneHeatingSetpointsShape', 'nrel:ZoneHeatingSetpointsShape', 'nrel:ZoneHeatingSetpointsShape', 'nrel:ZoneHeatingSetpointsShape', 'nrel:ZoneHeatingSetpointsShape', 'nrel:ZoneHeatingSetpointsShape', 'nrel:ZoneHeatingSetpointsShape')\" ;\n",
      "            sh:resultSeverity sh:Violation ;\n",
      "            sh:sourceConstraintComponent sh:NodeConstraintComponent ;\n",
      "            sh:sourceShape nrel:NREL-VAV-SD-Cooling-Only-Shape ;\n",
      "            sh:value sample:NREL-VAV-01 ],\n",
      "        [ a sh:ValidationResult ;\n",
      "            sh:focusNode sample:NREL-VAV-01 ;\n",
      "            sh:resultMessage \"Value does not conform to every Shape in ('nrel:ZoneHeatingSetpointsShape', 'nrel:ZoneHeatingSetpointsShape', 'nrel:ZoneHeatingSetpointsShape', 'nrel:ZoneHeatingSetpointsShape', 'nrel:ZoneHeatingSetpointsShape', 'nrel:ZoneHeatingSetpointsShape', 'nrel:ZoneHeatingSetpointsShape', 'nrel:ZoneHeatingSetpointsShape')\" ;\n",
      "            sh:resultSeverity sh:Violation ;\n",
      "            sh:sourceConstraintComponent sh:NodeConstraintComponent ;\n",
      "            sh:sourceShape nrel:NREL-VAV-SD-Cooling-Only-Shape ;\n",
      "            sh:value sample:NREL-VAV-01 ],\n",
      "        [ a sh:ValidationResult ;\n",
      "            sh:focusNode sample:NREL-VAV-01 ;\n",
      "            sh:resultMessage \"Value does not conform to every Shape in ('nrel:ZoneHeatingSetpointsShape', 'nrel:ZoneHeatingSetpointsShape', 'nrel:ZoneHeatingSetpointsShape', 'nrel:ZoneHeatingSetpointsShape', 'nrel:ZoneHeatingSetpointsShape', 'nrel:ZoneHeatingSetpointsShape', 'nrel:ZoneHeatingSetpointsShape', 'nrel:ZoneHeatingSetpointsShape')\" ;\n",
      "            sh:resultSeverity sh:Violation ;\n",
      "            sh:sourceConstraintComponent sh:NodeConstraintComponent ;\n",
      "            sh:sourceShape nrel:NREL-VAV-SD-Cooling-Only-Shape ;\n",
      "            sh:value sample:NREL-VAV-01 ] .\n",
      "\n",
      "\n"
     ]
    }
   ],
   "source": [
    "print_graph(results_graph)"
   ]
  },
  {
   "cell_type": "code",
   "execution_count": 26,
   "metadata": {},
   "outputs": [
    {
     "name": "stdout",
     "output_type": "stream",
     "text": [
      "@prefix nrel: <https://project-haystack.org/datashapes/nrel#> .\n",
      "@prefix sample: <urn:sample/> .\n",
      "@prefix sh: <http://www.w3.org/ns/shacl#> .\n",
      "@prefix xsd: <http://www.w3.org/2001/XMLSchema#> .\n",
      "\n",
      "[] a sh:ValidationReport ;\n",
      "    sh:conforms false ;\n",
      "    sh:result [ a sh:ValidationResult ;\n",
      "            sh:focusNode sample:NREL-VAV-01 ;\n",
      "            sh:resultMessage \"Value does not conform to every Shape in ('nrel:ZoneHeatingSetpointsShape', 'nrel:ZoneHeatingSetpointsShape', 'nrel:ZoneHeatingSetpointsShape', 'nrel:ZoneHeatingSetpointsShape', 'nrel:ZoneHeatingSetpointsShape', 'nrel:ZoneHeatingSetpointsShape', 'nrel:ZoneHeatingSetpointsShape', 'nrel:ZoneHeatingSetpointsShape')\" ;\n",
      "            sh:resultSeverity sh:Violation ;\n",
      "            sh:sourceConstraintComponent sh:NodeConstraintComponent ;\n",
      "            sh:sourceShape nrel:NREL-VAV-SD-Cooling-Only-Shape ;\n",
      "            sh:value sample:NREL-VAV-01 ],\n",
      "        [ a sh:ValidationResult ;\n",
      "            sh:focusNode sample:NREL-VAV-01 ;\n",
      "            sh:resultMessage \"Value does not conform to every Shape in ('nrel:ZoneHeatingSetpointsShape', 'nrel:ZoneHeatingSetpointsShape', 'nrel:ZoneHeatingSetpointsShape', 'nrel:ZoneHeatingSetpointsShape', 'nrel:ZoneHeatingSetpointsShape', 'nrel:ZoneHeatingSetpointsShape', 'nrel:ZoneHeatingSetpointsShape', 'nrel:ZoneHeatingSetpointsShape')\" ;\n",
      "            sh:resultSeverity sh:Violation ;\n",
      "            sh:sourceConstraintComponent sh:NodeConstraintComponent ;\n",
      "            sh:sourceShape nrel:NREL-VAV-SD-Cooling-Only-Shape ;\n",
      "            sh:value sample:NREL-VAV-01 ],\n",
      "        [ a sh:ValidationResult ;\n",
      "            sh:focusNode sample:NREL-VAV-01 ;\n",
      "            sh:resultMessage \"Value does not conform to every Shape in ('nrel:ZoneHeatingSetpointsShape', 'nrel:ZoneHeatingSetpointsShape', 'nrel:ZoneHeatingSetpointsShape', 'nrel:ZoneHeatingSetpointsShape', 'nrel:ZoneHeatingSetpointsShape', 'nrel:ZoneHeatingSetpointsShape', 'nrel:ZoneHeatingSetpointsShape', 'nrel:ZoneHeatingSetpointsShape')\" ;\n",
      "            sh:resultSeverity sh:Violation ;\n",
      "            sh:sourceConstraintComponent sh:NodeConstraintComponent ;\n",
      "            sh:sourceShape nrel:NREL-VAV-SD-Cooling-Only-Shape ;\n",
      "            sh:value sample:NREL-VAV-01 ],\n",
      "        [ a sh:ValidationResult ;\n",
      "            sh:focusNode sample:NREL-VAV-01 ;\n",
      "            sh:resultMessage \"Value does not conform to every Shape in ('nrel:ZoneHeatingSetpointsShape', 'nrel:ZoneHeatingSetpointsShape', 'nrel:ZoneHeatingSetpointsShape', 'nrel:ZoneHeatingSetpointsShape', 'nrel:ZoneHeatingSetpointsShape', 'nrel:ZoneHeatingSetpointsShape', 'nrel:ZoneHeatingSetpointsShape', 'nrel:ZoneHeatingSetpointsShape')\" ;\n",
      "            sh:resultSeverity sh:Violation ;\n",
      "            sh:sourceConstraintComponent sh:NodeConstraintComponent ;\n",
      "            sh:sourceShape nrel:NREL-VAV-SD-Cooling-Only-Shape ;\n",
      "            sh:value sample:NREL-VAV-01 ],\n",
      "        [ a sh:ValidationResult ;\n",
      "            sh:focusNode sample:NREL-VAV-01 ;\n",
      "            sh:resultMessage \"Value does not conform to every Shape in ('nrel:ZoneHeatingSetpointsShape', 'nrel:ZoneHeatingSetpointsShape', 'nrel:ZoneHeatingSetpointsShape', 'nrel:ZoneHeatingSetpointsShape', 'nrel:ZoneHeatingSetpointsShape', 'nrel:ZoneHeatingSetpointsShape', 'nrel:ZoneHeatingSetpointsShape', 'nrel:ZoneHeatingSetpointsShape')\" ;\n",
      "            sh:resultSeverity sh:Violation ;\n",
      "            sh:sourceConstraintComponent sh:NodeConstraintComponent ;\n",
      "            sh:sourceShape nrel:NREL-VAV-SD-Cooling-Only-Shape ;\n",
      "            sh:value sample:NREL-VAV-01 ],\n",
      "        [ a sh:ValidationResult ;\n",
      "            sh:focusNode sample:NREL-VAV-01 ;\n",
      "            sh:resultMessage \"Value does not conform to every Shape in ('nrel:ZoneHeatingSetpointsShape', 'nrel:ZoneHeatingSetpointsShape', 'nrel:ZoneHeatingSetpointsShape', 'nrel:ZoneHeatingSetpointsShape', 'nrel:ZoneHeatingSetpointsShape', 'nrel:ZoneHeatingSetpointsShape', 'nrel:ZoneHeatingSetpointsShape', 'nrel:ZoneHeatingSetpointsShape')\" ;\n",
      "            sh:resultSeverity sh:Violation ;\n",
      "            sh:sourceConstraintComponent sh:NodeConstraintComponent ;\n",
      "            sh:sourceShape nrel:NREL-VAV-SD-Cooling-Only-Shape ;\n",
      "            sh:value sample:NREL-VAV-01 ],\n",
      "        [ a sh:ValidationResult ;\n",
      "            sh:focusNode sample:NREL-VAV-01 ;\n",
      "            sh:resultMessage \"Value does not conform to every Shape in ('nrel:ZoneHeatingSetpointsShape', 'nrel:ZoneHeatingSetpointsShape', 'nrel:ZoneHeatingSetpointsShape', 'nrel:ZoneHeatingSetpointsShape', 'nrel:ZoneHeatingSetpointsShape', 'nrel:ZoneHeatingSetpointsShape', 'nrel:ZoneHeatingSetpointsShape', 'nrel:ZoneHeatingSetpointsShape')\" ;\n",
      "            sh:resultSeverity sh:Violation ;\n",
      "            sh:sourceConstraintComponent sh:NodeConstraintComponent ;\n",
      "            sh:sourceShape nrel:NREL-VAV-SD-Cooling-Only-Shape ;\n",
      "            sh:value sample:NREL-VAV-01 ] .\n",
      "\n",
      "\n"
     ]
    }
   ],
   "source": [
    "print_graph(results_graph2)"
   ]
  },
  {
   "cell_type": "code",
   "execution_count": null,
   "metadata": {},
   "outputs": [],
   "source": []
  }
 ],
 "metadata": {
  "kernelspec": {
   "display_name": "Python 3",
   "language": "python",
   "name": "python3"
  },
  "language_info": {
   "codemirror_mode": {
    "name": "ipython",
    "version": 3
   },
   "file_extension": ".py",
   "mimetype": "text/x-python",
   "name": "python",
   "nbconvert_exporter": "python",
   "pygments_lexer": "ipython3",
   "version": "3.7.4"
  }
 },
 "nbformat": 4,
 "nbformat_minor": 4
}
