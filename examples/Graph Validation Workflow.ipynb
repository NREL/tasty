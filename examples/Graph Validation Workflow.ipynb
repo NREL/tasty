{
 "cells": [
  {
   "cell_type": "markdown",
   "id": "hungarian-junior",
   "metadata": {},
   "source": [
    "# 1) Setup"
   ]
  },
  {
   "cell_type": "markdown",
   "id": "correct-collar",
   "metadata": {},
   "source": [
    "## Imports"
   ]
  },
  {
   "cell_type": "code",
   "execution_count": 1,
   "id": "tamil-landing",
   "metadata": {
    "tags": []
   },
   "outputs": [],
   "source": [
    "# ----------------------------------------\n",
    "# Imports\n",
    "# ----------------------------------------\n",
    "import os\n",
    "\n",
    "from rdflib import Namespace, SH\n",
    "from pyshacl import validate\n",
    "\n",
    "from tasty import constants as tc\n",
    "from tasty import graphs as tg"
   ]
  },
  {
   "cell_type": "markdown",
   "id": "sexual-handle",
   "metadata": {},
   "source": [
    "## Inputs"
   ]
  },
  {
   "cell_type": "code",
   "execution_count": 2,
   "id": "parliamentary-sauce",
   "metadata": {},
   "outputs": [],
   "source": [
    "# ----------------------------------------\n",
    "# User Defined Variables\n",
    "# ----------------------------------------\n",
    "\n",
    "output_directory = os.path.join(os.path.abspath(''), '../tests/test_output')\n",
    "tasty_main_directory = os.path.join(os.path.abspath(''), \"../\")\n",
    "# print(tasty_main_directory)\n",
    "\n",
    "SHAPE = 'NREL-VAV-Test-Shape'\n",
    "SAMPLE = 'NREL-Equip-Test'\n",
    "input_namespace_uri = 'urn:sample/'\n",
    "\n",
    "data_graph_filename = 'tests/test_input/data_test.ttl'\n",
    "shapes_graph_filename = 'tests/test_input/shapes_test.ttl'\n"
   ]
  },
  {
   "cell_type": "markdown",
   "id": "searching-vessel",
   "metadata": {},
   "source": [
    "# 2) Main Code"
   ]
  },
  {
   "cell_type": "markdown",
   "id": "particular-oasis",
   "metadata": {},
   "source": [
    "## Definitions"
   ]
  },
  {
   "cell_type": "code",
   "execution_count": 3,
   "id": "aboriginal-serum",
   "metadata": {},
   "outputs": [],
   "source": [
    "# ----------------------------------------\n",
    "# Variables and Constants\n",
    "# ----------------------------------------\n",
    "\n",
    "NAMESPACE = Namespace(input_namespace_uri)\n",
    "\n",
    "shape_name = tc.PH_SHAPES_NREL[SHAPE]\n",
    "target_node = NAMESPACE[SAMPLE]\n",
    "\n",
    "# ----------------------------------------\n",
    "# Helper Function Definitions\n",
    "# ----------------------------------------\n",
    "\n",
    "def get_data_graph():\n",
    "    n = tg.get_versioned_graph(tc.HAYSTACK, tc.V3_9_10)\n",
    "    f = os.path.join(tasty_main_directory, data_graph_filename)\n",
    "    n.parse(f, format='turtle')\n",
    "    return n\n",
    "\n",
    "\n",
    "def get_shapes_graph():\n",
    "    g = tg.get_versioned_graph(tc.HAYSTACK, tc.V3_9_10)\n",
    "    f = os.path.join(tasty_main_directory, shapes_graph_filename)\n",
    "    g.parse(f, format='turtle')\n",
    "    return g\n",
    "\n",
    "\n",
    "def print_graph_to_file(g, filename):\n",
    "    output_filename = os.path.join(output_directory, filename + \".ttl\")\n",
    "    g.serialize(output_filename, format='turtle')\n",
    "\n",
    "\n",
    "def print_graph(g):\n",
    "    print(g.serialize(format='turtle').decode('utf-8'))"
   ]
  },
  {
   "cell_type": "markdown",
   "id": "extensive-length",
   "metadata": {},
   "source": [
    "## Setup Graphs"
   ]
  },
  {
   "cell_type": "code",
   "execution_count": 6,
   "id": "wired-wedding",
   "metadata": {
    "tags": []
   },
   "outputs": [
    {
     "name": "stdout",
     "output_type": "stream",
     "text": [
      "...loaded data graph\n",
      "...loaded shapes graph\n",
      "\tadded 'urn:sample/NREL-Equip-Test' as target node to https://project-haystack.org/datashapes/nrel#NREL-VAV-Test-Shape\n",
      "\tadded 'urn:sample/NREL-Equip-Test' as target node to https://project-haystack.org/datashapes/nrel#TestFunctionalShape1\n",
      "\tadded 'urn:sample/NREL-Equip-Test' as target node to https://project-haystack.org/datashapes/nrel#TestFunctionalShape2\n",
      "...loaded ontology graph\n"
     ]
    }
   ],
   "source": [
    "# ----------------------------------------\n",
    "# Setup\n",
    "# ----------------------------------------\n",
    "\n",
    "# Data Graph\n",
    "data_graph = get_data_graph()\n",
    "print(\"...loaded data graph\")\n",
    "\n",
    "# Shapes Graph\n",
    "shapes_graph = get_shapes_graph()\n",
    "print(\"...loaded shapes graph\")\n",
    "\n",
    "# add Instance Equipment as target node to SHACL Equipment Shape\n",
    "shapes_graph.add((shape_name, SH.targetNode, target_node))\n",
    "print(f\"\\tadded '{target_node}' as target node to {shape_name}\")\n",
    "# add Instance Equipment as target node to SHACL Functional Groups Shapes\n",
    "for s1, p1, o1 in shapes_graph.triples((shape_name, SH.node, None)):\n",
    "    shapes_graph.add((o1, SH.targetNode, target_node))\n",
    "    print(f\"\\tadded '{target_node}' as target node to {o1}\")\n",
    "\n",
    "# Ontology Graph\n",
    "ont_graph = tg.load_ontology(tc.HAYSTACK, tc.V3_9_10)\n",
    "print(\"...loaded ontology graph\")"
   ]
  },
  {
   "cell_type": "markdown",
   "id": "sustainable-navigator",
   "metadata": {},
   "source": [
    "# 3) Validation"
   ]
  },
  {
   "cell_type": "markdown",
   "id": "compatible-aquarium",
   "metadata": {},
   "source": [
    "## PySHACL Validation\n",
    "Run the setup below"
   ]
  },
  {
   "cell_type": "code",
   "execution_count": 7,
   "id": "advance-experiment",
   "metadata": {},
   "outputs": [
    {
     "name": "stdout",
     "output_type": "stream",
     "text": [
      "   Conforms: True\n",
      "...printed results\n"
     ]
    }
   ],
   "source": [
    "# ----------------------------------------\n",
    "# Run pySCHACL Validation\n",
    "# ----------------------------------------\n",
    "result = validate(data_graph, shacl_graph=shapes_graph, ont_graph=ont_graph)\n",
    "conforms, results_graph, results = result\n",
    "\n",
    "print(f\"   Conforms: {conforms}\")\n",
    "\n"
   ]
  },
  {
   "cell_type": "markdown",
   "id": "atomic-terror",
   "metadata": {},
   "source": [
    "## Print pySHACL Graphs and Results to File (Optional) "
   ]
  },
  {
   "cell_type": "code",
   "execution_count": 5,
   "id": "confidential-frequency",
   "metadata": {},
   "outputs": [],
   "source": [
    "# ----------------------------------------\n",
    "# Print Output Files\n",
    "# ----------------------------------------\n",
    "# Print Results to File\n",
    "fn = os.path.join(output_directory, \"results.txt\")\n",
    "f = open(fn, \"w\")\n",
    "f.write(results)\n",
    "f.close()\n",
    "print(\"...printed results\")\n",
    "\n",
    "# Print Graphs to File(s)\n",
    "print_graph_to_file(data_graph, \"data_graph\")\n",
    "print(\"...printed data graph\")\n",
    "print_graph_to_file(shapes_graph, \"shapes_graph\")\n",
    "print(\"...printed shapes graph\")\n",
    "print_graph_to_file(results_graph, \"results_graph\")\n",
    "print(\"...printed results graph\")"
   ]
  },
  {
   "cell_type": "markdown",
   "id": "mexican-footwear",
   "metadata": {},
   "source": [
    "## 3b) Brick Validation (Optional)"
   ]
  },
  {
   "cell_type": "code",
   "execution_count": 13,
   "id": "fundamental-orange",
   "metadata": {},
   "outputs": [
    {
     "name": "stdout",
     "output_type": "stream",
     "text": [
      "Brick Validation - Conforms: True\n"
     ]
    }
   ],
   "source": [
    "# ----------------------------------------\n",
    "# Run BrickSchema Validation\n",
    "# ----------------------------------------\n",
    "\n",
    "from brickschema import Graph\n",
    "\n",
    "# Set Up Graphs\n",
    "dg = Graph()\n",
    "df = os.path.join(tasty_main_directory, data_graph_filename)\n",
    "dg.load_file(df)\n",
    "\n",
    "sg = Graph()\n",
    "sf = os.path.join(tasty_main_directory, shapes_graph_filename)\n",
    "sg.load_file(sf)\n",
    "\n",
    "valid, _, report = dg.validate(shape_graphs=[sg])\n",
    "print(f\"Brick Validation - Conforms: {valid}\")\n",
    "if not valid:\n",
    "    print(report)"
   ]
  },
  {
   "cell_type": "code",
   "execution_count": null,
   "id": "aerial-printing",
   "metadata": {},
   "outputs": [],
   "source": []
  }
 ],
 "metadata": {
  "kernelspec": {
   "display_name": "Python 3",
   "language": "python",
   "name": "python3"
  },
  "language_info": {
   "codemirror_mode": {
    "name": "ipython",
    "version": 3
   },
   "file_extension": ".py",
   "mimetype": "text/x-python",
   "name": "python",
   "nbconvert_exporter": "python",
   "pygments_lexer": "ipython3",
   "version": "3.8.5"
  }
 },
 "nbformat": 4,
 "nbformat_minor": 5
}
