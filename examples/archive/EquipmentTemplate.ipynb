{
 "cells": [
  {
   "cell_type": "markdown",
   "metadata": {},
   "source": [
    "# Equipment Templates\n",
    "\n",
    "1. Run the [Initializations](#Initializations)\n",
    "\n",
    "Whereas equipment classes in Haystack and Brick are pretty general (ahu, Air_Handling_Unit), the purpose of an Equipment Template is to define very concrete expectations of the expected properties and point types. It might not designate itself completely as a 'new class type', however, it is more akin to providing a configuration for a class.  Equipment templates utilize a similar structure to a PGT.\n",
    "\n",
    "##  Template Structure Keys:\n",
    "### Required\n",
    "- `id`: (str) a UUID4.  Globally unique.\n",
    "- `symbol`: (str) A shorthand representation.\n",
    "- `template_type`: (str) For an Equipment Template, this will always be `equipment-template`.\n",
    "- `schema_name`: (str) The base schema this template is based on.  Currently supported are 'Brick' or 'Haystack'. TODO: Add GDB.\n",
    "- `version`: (str) The version of the schema this is based on.\n",
    "- `extends`: (str) The 'base equipment' class that this template is providing a configuration for.\n",
    "\n",
    "### Optional\n",
    "- `description`: description\n",
    "- `properties`: TODO\n",
    "- `telemetry_point_type`: These can be defined as typical EntityTemplate, or can refer to a PointGroupTemplate `symbol`.\n",
    "    - PGT: To denote a set of `telemetry_point_type`s by using a PGT `symbol`, the value should be `None`.  The `symbol` will be found based on the set of `{schema_name, version, symbol}` (pulls in `schema_name` and `version`) from the Equipment Template.\n",
    "    - EntityTemplate: follows the EntityTemplate definition syntax\n",
    "    \n",
    "Below we initialize two Equipment Template dictionaries"
   ]
  },
  {
   "cell_type": "code",
   "execution_count": 3,
   "metadata": {},
   "outputs": [],
   "source": [
    "haystack_eqt_dict = {\n",
    "    'id': 'b6f175ef-e172-4a02-9aa6-8d930a8222a8',\n",
    "    'symbol': 'VAV_CO_SD',\n",
    "    'description': 'Single duct, cooling only VAV',\n",
    "    'template_type': 'equipment-template',\n",
    "    'schema_name': 'Haystack',\n",
    "    'version': '3.9.9',\n",
    "    'extends': 'coolingOnly-vav',\n",
    "    'properties': {\n",
    "        'singleDuct': {'_kind': 'marker'},\n",
    "        'ratedAirflow': {'_kind': 'number', 'val': 123}\n",
    "    },\n",
    "    'telemetry_point_types': {\n",
    "        'SD': None,\n",
    "        'damper-cmd-point': {'curVal': {'_kind': 'bool'}}\n",
    "    }\n",
    "}\n",
    "\n",
    "brick_eqt_dict = {\n",
    "    'id': 'b6b75737-c33b-4c20-88a2-0f9f91271af9',\n",
    "    'symbol': 'VAV_CO_SD',\n",
    "    'description': 'Single duct, cooling only VAV',\n",
    "    'template_type': 'equipment-template',\n",
    "    'schema_name': 'Brick',\n",
    "    'version': '1.1',\n",
    "    'extends': 'Variable_Air_Volume_Box',\n",
    "    'properties': {},\n",
    "    'telemetry_point_types': {\n",
    "        'SD': None,\n",
    "        'Damper_Position_Command': {}\n",
    "    }\n",
    "}"
   ]
  },
  {
   "cell_type": "markdown",
   "metadata": {},
   "source": [
    "## Populating Equipment Templates\n",
    "\n",
    "We initialize the Equipment Templates and check that they are valid (i.e. that all required keys have been defined)."
   ]
  },
  {
   "cell_type": "code",
   "execution_count": 4,
   "metadata": {},
   "outputs": [],
   "source": [
    "heqt = tt.EquipmentTemplate(**haystack_eqt_dict)\n",
    "beqt = tt.EquipmentTemplate(**brick_eqt_dict)"
   ]
  },
  {
   "cell_type": "code",
   "execution_count": 5,
   "metadata": {},
   "outputs": [
    {
     "name": "stdout",
     "output_type": "stream",
     "text": [
      "True\n",
      "True\n"
     ]
    }
   ],
   "source": [
    "print(heqt.is_valid)\n",
    "print(beqt.is_valid)"
   ]
  },
  {
   "cell_type": "markdown",
   "metadata": {},
   "source": [
    "We then:\n",
    "1. populate the template basics\n",
    "1. resolve the `extends`.\n",
    "\n",
    "This ensures that this template is extending an equipment from the expected schema.  The query we use to check are:\n",
    "- Haystack: `\"SELECT ?e WHERE {{ ?e rdfs:subClassOf* phIoT:equip }}\"`\n",
    "- Brick: `\"SELECT ?e WHERE {{ ?e rdfs:subClassOf* brick:Equipment }}\"`"
   ]
  },
  {
   "cell_type": "code",
   "execution_count": 6,
   "metadata": {},
   "outputs": [
    {
     "name": "stdout",
     "output_type": "stream",
     "text": [
      "[tasty.templates.hget_entity_classes] Permutation time: 0.00 seconds\n"
     ]
    }
   ],
   "source": [
    "heqt.populate_template_basics()\n",
    "beqt.populate_template_basics()\n",
    "heqt.resolve_extends()\n",
    "beqt.resolve_extends()"
   ]
  },
  {
   "cell_type": "markdown",
   "metadata": {},
   "source": [
    "Once the extension has resolved, we then attempt to resolve the telemetry points.  This happens in two steps:\n",
    "1. Where an EntityTemplate is defined, this is created or resolves to an existing EntityTemplate.\n",
    "1. Where a `symbol` is expected to resolve to a PGT, the PGT must first be populated in order to correctly resolve.  We will see this in the following."
   ]
  },
  {
   "cell_type": "code",
   "execution_count": 7,
   "metadata": {},
   "outputs": [
    {
     "name": "stdout",
     "output_type": "stream",
     "text": [
      "[tasty.templates.EquipmentTemplate] No PointGroupTemplate found for Haystack, 3.9.9, SD. Make sure PGTs have been loaded\n",
      "[tasty.templates.hget_entity_classes] Permutation time: 0.01 seconds\n",
      "tasty.templates.EntityTemplate created and is valid: Haystack, 3.9.9, {'point'}\n"
     ]
    },
    {
     "data": {
      "text/plain": [
       "False"
      ]
     },
     "execution_count": 7,
     "metadata": {},
     "output_type": "execute_result"
    }
   ],
   "source": [
    "heqt.resolve_telemetry_point_types()\n",
    "\n",
    "# This Equipment Template has not fully resolved.\n",
    "heqt.fully_resolved"
   ]
  },
  {
   "cell_type": "markdown",
   "metadata": {},
   "source": [
    "We then populate the necessary PGT in our workspace, which allows us then to successfully resolve."
   ]
  },
  {
   "cell_type": "code",
   "execution_count": 8,
   "metadata": {},
   "outputs": [
    {
     "name": "stdout",
     "output_type": "stream",
     "text": [
      "[tasty.templates.hget_entity_classes] Permutation time: 6.40 seconds\n",
      "tasty.templates.EntityTemplate created and is valid: Haystack, 3.9.9, {'his-point', 'cur-point'}\n",
      "[tasty.templates.hget_entity_classes] Permutation time: 0.15 seconds\n",
      "tasty.templates.EntityTemplate created and is valid: Haystack, 3.9.9, {'point'}\n",
      "[tasty.templates.hget_entity_classes] Permutation time: 0.01 seconds\n",
      "tasty.templates.EntityTemplate created and is valid: Haystack, 3.9.9, {'point'}\n",
      "[tasty.templates.EquipmentTemplate] Found PointGroupTemplate with id: 4aa753fc-ab1b-47d0-984f-121fa0cfa0e9\n",
      "[tasty.templates.hget_entity_classes] Permutation time: 0.01 seconds\n",
      "tasty.templates.EntityTemplate Equivalent EntityTemplate already exists and was returned.\n",
      "tasty.templates.EntityTemplate created and is valid: Haystack, 3.9.9, {'point'}\n",
      "[tasty.templates.EquipmentTemplate] Fully Resolved\n"
     ]
    },
    {
     "data": {
      "text/plain": [
       "True"
      ]
     },
     "execution_count": 8,
     "metadata": {},
     "output_type": "execute_result"
    }
   ],
   "source": [
    "hpgt = tt.PointGroupTemplate(**haystack_pgt_dict)\n",
    "hpgt.populate_template_basics()\n",
    "hpgt.resolve_telemetry_point_types()\n",
    "\n",
    "heqt.resolve_telemetry_point_types()\n",
    "\n",
    "# Our Equipment Template should now fully resolve\n",
    "heqt.fully_resolved"
   ]
  },
  {
   "cell_type": "markdown",
   "metadata": {},
   "source": [
    "## Getting All Entity Templates\n",
    "\n",
    "At the end of the day, PointGroupTemplates are mainly a grouping of a set of points for reusability.  EquipmentTemplates that implement a PGT easily resolve to the actual EntityTemplates."
   ]
  },
  {
   "cell_type": "code",
   "execution_count": 14,
   "metadata": {},
   "outputs": [
    {
     "name": "stdout",
     "output_type": "stream",
     "text": [
      "Simple typing: {'his-point', 'discharge', 'cur-point', 'air', 'sensor', 'flow'} Simple properties: {'curVal': {'_kind': 'number', 'val': None}, 'unit': {'_kind': 'str', 'val': 'cfm'}}\n",
      "Simple typing: {'point', 'discharge', 'sp', 'air', 'flow'} Simple properties: {}\n",
      "Simple typing: {'damper', 'point', 'cmd'} Simple properties: {'unit': {'val': 'percent'}}\n",
      "Simple typing: {'damper', 'point', 'cmd'} Simple properties: {'curVal': {'_kind': 'bool'}}\n"
     ]
    }
   ],
   "source": [
    "all_ets_used = heqt.get_all_points_as_entity_templates()\n",
    "\n",
    "for et in all_ets_used:\n",
    "    print(f\"Simple typing: {et.get_simple_typing_info()} Simple properties: {et.get_simple_properties()}\")"
   ]
  },
  {
   "cell_type": "markdown",
   "metadata": {},
   "source": [
    "# Initializations"
   ]
  },
  {
   "cell_type": "code",
   "execution_count": 2,
   "metadata": {
    "scrolled": true
   },
   "outputs": [
    {
     "name": "stdout",
     "output_type": "stream",
     "text": [
      "[tasty.templates.hget_entity_classes] Permutation time: 6.43 seconds\n",
      "tasty.templates.EntityTemplate Equivalent EntityTemplate already exists and was returned.\n",
      "tasty.templates.EntityTemplate created and is valid: Brick, 1.1, {'Damper_Position_Command'}\n",
      "tasty.templates.EntityTemplate Equivalent EntityTemplate already exists and was returned.\n",
      "tasty.templates.EntityTemplate created and is valid: Haystack, 3.9.9, {'motor', 'writable-point', 'cur-point'}\n"
     ]
    }
   ],
   "source": [
    "# imports and setup\n",
    "import os\n",
    "import uuid\n",
    "\n",
    "import tasty.templates as tt\n",
    "import tasty.constants as tc\n",
    "import tasty.graphs as tg\n",
    "\n",
    "from loaders import initialize_eqt_notebook\n",
    "\n",
    "haystack_pgt_dict = initialize_eqt_notebook()"
   ]
  }
 ],
 "metadata": {
  "kernelspec": {
   "display_name": "Python 3",
   "language": "python",
   "name": "python3"
  },
  "language_info": {
   "codemirror_mode": {
    "name": "ipython",
    "version": 3
   },
   "file_extension": ".py",
   "mimetype": "text/x-python",
   "name": "python",
   "nbconvert_exporter": "python",
   "pygments_lexer": "ipython3",
   "version": "3.7.4"
  }
 },
 "nbformat": 4,
 "nbformat_minor": 4
}
