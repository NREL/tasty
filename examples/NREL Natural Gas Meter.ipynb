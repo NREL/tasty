{
 "metadata": {
  "language_info": {
   "codemirror_mode": {
    "name": "ipython",
    "version": 3
   },
   "file_extension": ".py",
   "mimetype": "text/x-python",
   "name": "python",
   "nbconvert_exporter": "python",
   "pygments_lexer": "ipython3",
   "version": "3.8.5"
  },
  "orig_nbformat": 2,
  "kernelspec": {
   "name": "python385jvsc74a57bd0032a2a3cb1c8776160710476096408258b2b55f4350e908494eb74c8ecc12c31",
   "display_name": "Python 3.8.5 64-bit ('venv': venv)",
   "language": "python"
  }
 },
 "nbformat": 4,
 "nbformat_minor": 2,
 "cells": [
  {
   "source": [
    "# Setup"
   ],
   "cell_type": "markdown",
   "metadata": {}
  },
  {
   "cell_type": "code",
   "execution_count": 1,
   "metadata": {},
   "outputs": [],
   "source": [
    "import os\n",
    "\n",
    "from rdflib import Namespace, Graph, SH\n",
    "from rdflib.util import guess_format\n",
    "from pyshacl import validate\n",
    "\n",
    "import tasty.constants as tc\n",
    "import tasty.graphs as tg\n",
    "import tasty.entities as te\n",
    "from tasty.shapes_loader import ShapesLoader\n"
   ]
  },
  {
   "cell_type": "code",
   "execution_count": 2,
   "metadata": {},
   "outputs": [],
   "source": [
    "# turtle file name and path to save instance data\n",
    "ttl_name = 'haystack_nrel_natural_gas_meter_data.ttl'\n",
    "ttl_path = os.path.join(os.path.dirname(os.path.abspath('')), \"tests/files/data/\" + ttl_name)\n",
    "\n",
    "# Create a namespace and load in a blank Brick / Haystack graph\n",
    "SAMPLE = Namespace('urn:sample/')\n",
    "hg = tg.get_versioned_graph(tc.HAYSTACK, tc.V3_9_10)\n",
    "hg.bind('sample', SAMPLE)\n",
    "h_ont = tg.load_ontology(tc.HAYSTACK, tc.V3_9_10)\n",
    "\n",
    "# Specify the schema version (tc.V9_9_10, etc.) to use\n",
    "hp = te.HaystackPointDefs(tc.V3_9_10)\n",
    "he = te.HaystackEquipDefs(tc.V3_9_10)\n",
    "hrefs = te.HaystackRefDefs(tc.V3_9_10)\n",
    "\n",
    "# Bind all of the first class types as attributes\n",
    "hp.bind()\n",
    "he.bind()\n",
    "hrefs.bind()\n",
    "\n",
    "# Simple wrapper around all of the shapes\n",
    "shrap = te.ShapesWrapper(tc.HAYSTACK, tc.V3_9_10)\n",
    "shrap.bind()"
   ]
  },
  {
   "source": [
    "# Haystack Equipment"
   ],
   "cell_type": "markdown",
   "metadata": {}
  },
  {
   "cell_type": "code",
   "execution_count": 3,
   "metadata": {},
   "outputs": [
    {
     "output_type": "execute_result",
     "data": {
      "text/plain": [
       "(True, True)"
      ]
     },
     "metadata": {},
     "execution_count": 3
    }
   ],
   "source": [
    "# ID\n",
    "equip_id = 'NREL-GAS-MTR-01'\n",
    "\n",
    "# flow meter\n",
    "flow_meter = he.flow_meter.deep_copy()\n",
    "flow_meter.set_namespace(SAMPLE)\n",
    "flow_meter.set_id(equip_id)\n",
    "\n",
    "# thermal meter\n",
    "thermal_meter = he.thermal_meter.deep_copy()\n",
    "thermal_meter.set_namespace(SAMPLE)\n",
    "thermal_meter.set_id(equip_id)\n",
    "\n",
    "# bind to graph to use sync method\n",
    "flow_meter.bind_to_graph(hg), thermal_meter.bind_to_graph(hg)"
   ]
  },
  {
   "source": [
    "## Equipment Sensors"
   ],
   "cell_type": "markdown",
   "metadata": {}
  },
  {
   "cell_type": "code",
   "execution_count": 4,
   "metadata": {},
   "outputs": [],
   "source": [
    "flow_rate_sensor = shrap.NaturalGasFlowRateShape.cast_to_entity(f\"{equip_id}-NaturalGasFlowRateShape\")\n",
    "volume_sensor = shrap.NaturalGasVolumeShape.cast_to_entity(f\"{equip_id}-NaturalGasVolumeShape\")\n",
    "energy_rate_sensor = shrap.NaturalGasEnergyRateShape.cast_to_entity(f\"{equip_id}-NaturalGasEnergyRateShape\")\n",
    "energy_sensor = shrap.NaturalGasEnergyShape.cast_to_entity(f\"{equip_id}-NaturalGasEnergyShape\")"
   ]
  },
  {
   "cell_type": "code",
   "execution_count": 5,
   "metadata": {},
   "outputs": [
    {
     "output_type": "stream",
     "name": "stdout",
     "text": [
      "Bound urn:sample/NREL-GAS-MTR-01-NaturalGasFlowRateShape to graph\nBound urn:sample/NREL-GAS-MTR-01-NaturalGasVolumeShape to graph\nBound urn:sample/NREL-GAS-MTR-01-NaturalGasEnergyRateShape to graph\nBound urn:sample/NREL-GAS-MTR-01-NaturalGasEnergyShape to graph\n"
     ]
    }
   ],
   "source": [
    "# lists\n",
    "sensors = [[flow_rate_sensor, volume_sensor],\n",
    "           [energy_rate_sensor, energy_sensor]]\n",
    "\n",
    "# loop\n",
    "for idx, list in enumerate(sensors):\n",
    "\n",
    "    if idx == 0:\n",
    "        meter = flow_meter\n",
    "    elif idx == 1:\n",
    "        meter = thermal_meter\n",
    "        \n",
    "    for sensor in list:\n",
    "        sensor.set_namespace(SAMPLE)\n",
    "        sensor.add_relationship(hrefs.equipRef, meter)\n",
    "        sensor.sync()\n",
    "\n"
   ]
  },
  {
   "cell_type": "code",
   "execution_count": 6,
   "metadata": {},
   "outputs": [
    {
     "output_type": "stream",
     "name": "stdout",
     "text": [
      "@prefix ph: <https://project-haystack.org/def/ph/3.9.10#> .\n@prefix phIoT: <https://project-haystack.org/def/phIoT/3.9.10#> .\n@prefix phScience: <https://project-haystack.org/def/phScience/3.9.10#> .\n@prefix sample: <urn:sample/> .\n\nsample:NREL-GAS-MTR-01-NaturalGasEnergyRateShape a phIoT:thermal-meter ;\n    ph:hasTag phIoT:sensor,\n        phScience:gas,\n        phScience:power ;\n    phIoT:equipRef sample:NREL-GAS-MTR-01 .\n\nsample:NREL-GAS-MTR-01-NaturalGasEnergyShape a phIoT:thermal-meter ;\n    ph:hasTag phIoT:sensor,\n        phScience:energy,\n        phScience:gas ;\n    phIoT:equipRef sample:NREL-GAS-MTR-01 .\n\nsample:NREL-GAS-MTR-01-NaturalGasFlowRateShape a phIoT:flow-meter ;\n    ph:hasTag phIoT:sensor,\n        phScience:flow,\n        phScience:gas ;\n    phIoT:equipRef sample:NREL-GAS-MTR-01 .\n\nsample:NREL-GAS-MTR-01-NaturalGasVolumeShape a phIoT:flow-meter ;\n    ph:hasTag phIoT:sensor,\n        phScience:gas,\n        phScience:volume ;\n    phIoT:equipRef sample:NREL-GAS-MTR-01 .\n\nsample:NREL-GAS-MTR-01 a phIoT:flow-meter,\n        phIoT:thermal-meter .\n\n\n"
     ]
    }
   ],
   "source": [
    "# print graph\n",
    "ttl_data = hg.serialize(format='turtle').decode('utf-8')\n",
    "print(ttl_data)"
   ]
  },
  {
   "source": [
    "# Validate"
   ],
   "cell_type": "markdown",
   "metadata": {}
  },
  {
   "cell_type": "code",
   "execution_count": 7,
   "metadata": {},
   "outputs": [],
   "source": [
    "sl = ShapesLoader(tc.HAYSTACK)\n",
    "shapes_graph = sl.load_all_shapes()\n",
    "shapes_graph.bind('sample', SAMPLE)"
   ]
  },
  {
   "cell_type": "code",
   "execution_count": 8,
   "metadata": {},
   "outputs": [],
   "source": [
    "shapes_graph.add((tc.PH_SHAPES_NREL['NREL-Natural-Gas-Meter-Shape'], SH.targetNode, flow_meter.node))\n",
    "shapes_graph.add((tc.PH_SHAPES_NREL['NREL-Natural-Gas-Meter-Shape'], SH.targetNode, thermal_meter.node))\n",
    "conforms, results_graph, results = validate(hg, shacl_graph=shapes_graph, ont_graph=h_ont)"
   ]
  },
  {
   "cell_type": "code",
   "execution_count": 9,
   "metadata": {},
   "outputs": [
    {
     "output_type": "stream",
     "name": "stdout",
     "text": [
      "True [a rdfg:Graph;rdflib:storage [a rdflib:Store;rdfs:label 'Memory2']]. Validation Report\nConforms: True\n\n"
     ]
    }
   ],
   "source": [
    "if conforms:   \n",
    "    print(conforms, results_graph, results)\n",
    "    with open(ttl_path, 'w') as file:\n",
    "        file.write(ttl_data)   "
   ]
  },
  {
   "cell_type": "code",
   "execution_count": null,
   "metadata": {},
   "outputs": [],
   "source": []
  }
 ]
}
