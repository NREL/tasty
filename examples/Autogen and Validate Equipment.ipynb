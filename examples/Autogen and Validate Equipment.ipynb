{
 "cells": [
  {
   "cell_type": "markdown",
   "id": "nearby-humor",
   "metadata": {},
   "source": [
    "# 1) Build The Equipment\n",
    "The result of this step will be the equipment shape in rdf format which can be used for testing validation (see step 2). This can then be serialized to text (in turtle format) and copied to a .ttl file in the \"tests/files/data\" directory as a test file."
   ]
  },
  {
   "cell_type": "markdown",
   "id": "peripheral-protection",
   "metadata": {},
   "source": [
    "## Setup\n",
    "Run the code below to setup the blank graph and shapes wrapper"
   ]
  },
  {
   "cell_type": "code",
   "execution_count": 2,
   "id": "conventional-provincial",
   "metadata": {
    "tags": []
   },
   "outputs": [],
   "source": [
    "from rdflib import Namespace\n",
    "\n",
    "import tasty.constants as tc\n",
    "import tasty.graphs as tg\n",
    "import tasty.entities as te\n",
    "\n",
    "# Create a namespace and load in a blank Brick / Haystack graph\n",
    "SAMPLE = Namespace('urn:sample/')\n",
    "hg = tg.get_versioned_graph(tc.HAYSTACK, tc.V3_9_10)\n",
    "hg.bind('sample', SAMPLE)\n",
    "h_ont = tg.load_ontology(tc.HAYSTACK, tc.V3_9_10)\n",
    "\n",
    "# Specify the schema version (tc.V9_9_10, etc.) to use\n",
    "hp = te.HaystackPointDefs(tc.V3_9_10)\n",
    "he = te.HaystackEquipDefs(tc.V3_9_10)\n",
    "hrefs = te.HaystackRefDefs(tc.V3_9_10)\n",
    "\n",
    "# Bind all of the first class types as attributes\n",
    "hp.bind()\n",
    "he.bind()\n",
    "hrefs.bind()\n",
    "\n",
    "# Simple wrapper around all of the shapes\n",
    "shrap = te.ShapesWrapper(tc.HAYSTACK, tc.V3_9_10)\n",
    "\n",
    "shrap.bind()\n",
    "shrap.bind_composite()"
   ]
  },
  {
   "cell_type": "code",
   "execution_count": 3,
   "id": "constitutional-province",
   "metadata": {},
   "outputs": [],
   "source": [
    "def print_graph(g):\n",
    "    print(g.serialize(format='turtle').decode('utf-8'))"
   ]
  },
  {
   "cell_type": "markdown",
   "id": "cleared-buyer",
   "metadata": {},
   "source": [
    "## Build the Equipment From Composite Shapes\n",
    "\n",
    "While users can build up instances of equipment to conform to composite shapes, the `ShapesWrapper` allows users to build out composite shapes very quickly & easily, as is demonstrated below.\n",
    "\n",
    "***Items to Change***\n",
    "- Change `equip_shape`: type `shrap.` then hit \"tab\" and choose the proper shape template \n",
    "- Change `equip_id` to the name you would like to use for this equipment"
   ]
  },
  {
   "cell_type": "code",
   "execution_count": 4,
   "id": "disturbed-petroleum",
   "metadata": {
    "collapsed": true,
    "jupyter": {
     "outputs_hidden": true
    },
    "tags": []
   },
   "outputs": [
    {
     "name": "stdout",
     "output_type": "stream",
     "text": [
      "Bound urn:sample/NREL-VAV-HW-Reheat-01-zone-air-temp-sensor-shape to graph\n",
      "Bound urn:sample/NREL-VAV-HW-Reheat-01-ZoneRelativeHumidityShape to graph\n"
     ]
    },
    {
     "name": "stderr",
     "output_type": "stream",
     "text": [
      "WARNING:root:occupancyIndicator not found. adding under custom namespace as: https://project-haystack.org/def/custom#occupancyIndicator\n"
     ]
    },
    {
     "name": "stdout",
     "output_type": "stream",
     "text": [
      "Bound urn:sample/NREL-VAV-HW-Reheat-01-BinaryOccupancySensorShape to graph\n",
      "Bound urn:sample/NREL-VAV-HW-Reheat-01-OccupancyOverrideCommandShape to graph\n",
      "Bound urn:sample/NREL-VAV-HW-Reheat-01-zone-air-co2-sensor-shape to graph\n",
      "Bound urn:sample/NREL-VAV-HW-Reheat-01-zone-air-co2-sp-shape to graph\n",
      "Bound urn:sample/NREL-VAV-HW-Reheat-01-ZoneTemperatureCoolingEffectiveSetpointShape to graph\n",
      "Bound urn:sample/NREL-VAV-HW-Reheat-01-ZoneTemperatureCoolingOccupiedSetpointShape to graph\n",
      "Bound urn:sample/NREL-VAV-HW-Reheat-01-ZoneTemperatureCoolingUnoccupiedSetpointShape to graph\n",
      "Bound urn:sample/NREL-VAV-HW-Reheat-01-ZoneTemperatureCoolingStandbySetpointShape to graph\n",
      "Bound urn:sample/NREL-VAV-HW-Reheat-01-ZoneTemperatureHeatingEffectiveSetpointShape to graph\n",
      "Bound urn:sample/NREL-VAV-HW-Reheat-01-ZoneTemperatureHeatingOccupiedSetpointShape to graph\n",
      "Bound urn:sample/NREL-VAV-HW-Reheat-01-ZoneTemperatureHeatingUnoccupiedSetpointShape to graph\n",
      "Bound urn:sample/NREL-VAV-HW-Reheat-01-ZoneTemperatureHeatingStandbySetpointShape to graph\n"
     ]
    },
    {
     "name": "stderr",
     "output_type": "stream",
     "text": [
      "WARNING:root:operating not found. adding under custom namespace as: https://project-haystack.org/def/custom#operating\n",
      "WARNING:root:mode not found. adding under custom namespace as: https://project-haystack.org/def/custom#mode\n"
     ]
    },
    {
     "name": "stdout",
     "output_type": "stream",
     "text": [
      "Bound urn:sample/NREL-VAV-HW-Reheat-01-ZoneEquipmentOperatingStateShape to graph\n",
      "Bound urn:sample/NREL-VAV-HW-Reheat-01-OccupancyModeBinaryShape to graph\n"
     ]
    },
    {
     "name": "stderr",
     "output_type": "stream",
     "text": [
      "WARNING:root:mode not found. adding under custom namespace as: https://project-haystack.org/def/custom#mode\n"
     ]
    },
    {
     "name": "stdout",
     "output_type": "stream",
     "text": [
      "Bound urn:sample/NREL-VAV-HW-Reheat-01-OccupancyModeStandbyShape to graph\n",
      "Bound urn:sample/NREL-VAV-HW-Reheat-01-DischargeAirTemperatureShape to graph\n",
      "Bound urn:sample/NREL-VAV-HW-Reheat-01-DischargeAirTemperatureSetpointShape to graph\n",
      "Bound urn:sample/NREL-VAV-HW-Reheat-01-InletAirTemperatureShape to graph\n"
     ]
    },
    {
     "name": "stderr",
     "output_type": "stream",
     "text": [
      "WARNING:root:request not found. adding under custom namespace as: https://project-haystack.org/def/custom#request\n"
     ]
    },
    {
     "name": "stdout",
     "output_type": "stream",
     "text": [
      "Bound urn:sample/NREL-VAV-HW-Reheat-01-CoolingRequestsShape to graph\n",
      "Bound urn:sample/NREL-VAV-HW-Reheat-01-DischargeAirDamperCommandShape to graph\n",
      "Bound urn:sample/NREL-VAV-HW-Reheat-01-DischargeAirDamperFeedbackShape to graph\n",
      "Bound urn:sample/NREL-VAV-HW-Reheat-01-DischargeAirFlowShape to graph\n",
      "Bound urn:sample/NREL-VAV-HW-Reheat-01-DischargeAirFlowSetpointShape to graph\n"
     ]
    },
    {
     "name": "stderr",
     "output_type": "stream",
     "text": [
      "WARNING:root:min not found. adding under custom namespace as: https://project-haystack.org/def/custom#min\n"
     ]
    },
    {
     "name": "stdout",
     "output_type": "stream",
     "text": [
      "Bound urn:sample/NREL-VAV-HW-Reheat-01-MinimumHeatingDischargeAirFlowSetpointShape to graph\n"
     ]
    },
    {
     "name": "stderr",
     "output_type": "stream",
     "text": [
      "WARNING:root:min not found. adding under custom namespace as: https://project-haystack.org/def/custom#min\n"
     ]
    },
    {
     "name": "stdout",
     "output_type": "stream",
     "text": [
      "Bound urn:sample/NREL-VAV-HW-Reheat-01-MinimumCoolingDischargeAirFlowSetpointShape to graph\n"
     ]
    },
    {
     "name": "stderr",
     "output_type": "stream",
     "text": [
      "WARNING:root:max not found. adding under custom namespace as: https://project-haystack.org/def/custom#max\n"
     ]
    },
    {
     "name": "stdout",
     "output_type": "stream",
     "text": [
      "Bound urn:sample/NREL-VAV-HW-Reheat-01-MaximumHeatingDischargeAirFlowSetpointShape to graph\n"
     ]
    },
    {
     "name": "stderr",
     "output_type": "stream",
     "text": [
      "WARNING:root:max not found. adding under custom namespace as: https://project-haystack.org/def/custom#max\n"
     ]
    },
    {
     "name": "stdout",
     "output_type": "stream",
     "text": [
      "Bound urn:sample/NREL-VAV-HW-Reheat-01-MaximumCoolingDischargeAirFlowSetpointShape to graph\n"
     ]
    },
    {
     "name": "stderr",
     "output_type": "stream",
     "text": [
      "WARNING:root:min not found. adding under custom namespace as: https://project-haystack.org/def/custom#min\n"
     ]
    },
    {
     "name": "stdout",
     "output_type": "stream",
     "text": [
      "Bound urn:sample/NREL-VAV-HW-Reheat-01-MinimumDischargeAirFlowSetpointShape to graph\n"
     ]
    },
    {
     "name": "stderr",
     "output_type": "stream",
     "text": [
      "WARNING:root:max not found. adding under custom namespace as: https://project-haystack.org/def/custom#max\n"
     ]
    },
    {
     "name": "stdout",
     "output_type": "stream",
     "text": [
      "Bound urn:sample/NREL-VAV-HW-Reheat-01-MaximumDischargeAirFlowSetpointShape to graph\n",
      "Bound urn:sample/NREL-VAV-HW-Reheat-01-HeatingWaterValveCommandShape to graph\n",
      "Bound urn:sample/NREL-VAV-HW-Reheat-01-HeatingWaterValveFeedbackShape to graph\n",
      "Bound urn:sample/NREL-VAV-HW-Reheat-01-HeatingCoilSupplyWaterTemperatureShape to graph\n",
      "Bound urn:sample/NREL-VAV-HW-Reheat-01-HeatingCoilReturnWaterTemperatureShape to graph\n"
     ]
    }
   ],
   "source": [
    "equip_shape = shrap.NREL_VAV_SD_HW_Reheat_Shape\n",
    "\n",
    "# Add the equip\n",
    "equip_id = \"NREL-VAV-HW-Reheat-01\"\n",
    "equip_comp = equip_shape.cast_to_entity()\n",
    "equip_comp.set_namespace(SAMPLE)\n",
    "equip_comp.set_id(equip_id)\n",
    "equip_comp.bind_to_graph(hg)\n",
    "\n",
    "equip_shape.apply_shape_mixins(equip_id, SAMPLE, hrefs.equipRef, equip_comp, optional_points=True)\n",
    "\n",
    "hg.bind('phCustom', tc.PH_CUSTOM)"
   ]
  },
  {
   "cell_type": "markdown",
   "id": "blocked-holly",
   "metadata": {},
   "source": [
    "## (optional) Add any Additional Points Needed\n",
    "The process is as follows:\n",
    "- Use the ShapesWrapper to find the point you would like to add: type `shrap.` and hit \"tab\", then choose the proper point name (simple shape)\n",
    "- The ShapesWrapper will return a `SimpleShape` object. Use the `cast_to_entity(\"my-entity-name\")` method to cast this to an `EntityType` object. The argument to this method is a string representing the entity's name. To conform to the convention used above use a formated string with `equip_id` as the first part followed by a hyphen. (e.g. `f\"{equip_id}-FreezeStatSensorShape\"`)\n",
    "- Add all of these points to the `points` list\n",
    "- Run the code"
   ]
  },
  {
   "cell_type": "code",
   "execution_count": 16,
   "id": "revolutionary-spencer",
   "metadata": {},
   "outputs": [
    {
     "name": "stderr",
     "output_type": "stream",
     "text": [
      "WARNING:root:leak not found. adding under custom namespace as: https://project-haystack.org/def/custom#leak\n"
     ]
    },
    {
     "name": "stdout",
     "output_type": "stream",
     "text": [
      "Bound urn:sample/NREL-AHU-01-FilterDifferentialPressureSensorShape to graph\n",
      "Bound urn:sample/NREL-AHU-01-FreezeStatSensorShape to graph\n",
      "Bound urn:sample/NREL-AHU-01-WaterLeakSensorShape to graph\n"
     ]
    }
   ],
   "source": [
    "FilterDP = shrap.FilterDifferentialPressureSensorShape.cast_to_entity(f\"{equip_id}-FilterDifferentialPressureSensorShape\")\n",
    "FreezeStat = shrap.FreezeStatSensorShape.cast_to_entity(f\"{equip_id}-FreezeStatSensorShape\")\n",
    "WaterLeak = shrap.WaterLeakSensorShape.cast_to_entity(f\"{equip_id}-WaterLeakSensorShape\")\n",
    "points = []\n",
    "# add them to the list\n",
    "points += [\n",
    "    FilterDP, FreezeStat, WaterLeak\n",
    "]\n",
    "# Loop through em\n",
    "for point in points:\n",
    "    point.set_namespace(SAMPLE)\n",
    "    point.add_relationship(hrefs.equipRef, equip_comp)\n",
    "    point.sync()"
   ]
  },
  {
   "cell_type": "markdown",
   "id": "psychological-medication",
   "metadata": {},
   "source": [
    "## (optional) Print the Equipment Graph\n",
    "Print the serialized graph in turtle format. This can be copied into a .ttl file"
   ]
  },
  {
   "cell_type": "code",
   "execution_count": 12,
   "id": "dense-designer",
   "metadata": {
    "tags": []
   },
   "outputs": [
    {
     "name": "stdout",
     "output_type": "stream",
     "text": [
      "@prefix ph: <https://project-haystack.org/def/ph/3.9.10#> .\n",
      "@prefix phCustom: <https://project-haystack.org/def/custom#> .\n",
      "@prefix phIoT: <https://project-haystack.org/def/phIoT/3.9.10#> .\n",
      "@prefix phScience: <https://project-haystack.org/def/phScience/3.9.10#> .\n",
      "@prefix sample: <urn:sample/> .\n",
      "\n",
      "sample:NREL-VAV-HW-Reheat-01-BinaryOccupancySensorShape a phIoT:point ;\n",
      "    ph:hasTag phCustom:occupancyIndicator,\n",
      "        phIoT:occupied,\n",
      "        phIoT:sensor ;\n",
      "    phIoT:equipRef sample:NREL-VAV-HW-Reheat-01 .\n",
      "\n",
      "sample:NREL-VAV-HW-Reheat-01-CoolingRequestsShape a phIoT:point ;\n",
      "    ph:hasTag phCustom:request,\n",
      "        phIoT:cmd,\n",
      "        phIoT:cooling ;\n",
      "    phIoT:equipRef sample:NREL-VAV-HW-Reheat-01 .\n",
      "\n",
      "sample:NREL-VAV-HW-Reheat-01-DischargeAirDamperCommandShape a phIoT:point ;\n",
      "    ph:hasTag phIoT:cmd,\n",
      "        phIoT:damper,\n",
      "        phIoT:discharge,\n",
      "        phScience:air ;\n",
      "    phIoT:equipRef sample:NREL-VAV-HW-Reheat-01 .\n",
      "\n",
      "sample:NREL-VAV-HW-Reheat-01-DischargeAirDamperFeedbackShape a phIoT:air-sensor ;\n",
      "    ph:hasTag phIoT:damper,\n",
      "        phIoT:discharge ;\n",
      "    phIoT:equipRef sample:NREL-VAV-HW-Reheat-01 .\n",
      "\n",
      "sample:NREL-VAV-HW-Reheat-01-DischargeAirFlowSetpointShape a phIoT:discharge-air-flow-sp ;\n",
      "    ph:hasTag phIoT:effective ;\n",
      "    phIoT:equipRef sample:NREL-VAV-HW-Reheat-01 .\n",
      "\n",
      "sample:NREL-VAV-HW-Reheat-01-DischargeAirFlowShape a phIoT:discharge-air-flow-sensor ;\n",
      "    ph:hasTag phIoT:leaving ;\n",
      "    phIoT:equipRef sample:NREL-VAV-HW-Reheat-01 .\n",
      "\n",
      "sample:NREL-VAV-HW-Reheat-01-DischargeAirTemperatureSetpointShape a phIoT:discharge-air-temp-sp ;\n",
      "    ph:hasTag phIoT:leaving ;\n",
      "    phIoT:equipRef sample:NREL-VAV-HW-Reheat-01 .\n",
      "\n",
      "sample:NREL-VAV-HW-Reheat-01-DischargeAirTemperatureShape a phIoT:discharge-air-temp-sensor ;\n",
      "    ph:hasTag phIoT:leaving ;\n",
      "    phIoT:equipRef sample:NREL-VAV-HW-Reheat-01 .\n",
      "\n",
      "sample:NREL-VAV-HW-Reheat-01-HeatingCoilReturnWaterTemperatureShape a phIoT:leaving-hot-water-temp-sensor ;\n",
      "    phIoT:equipRef sample:NREL-VAV-HW-Reheat-01 .\n",
      "\n",
      "sample:NREL-VAV-HW-Reheat-01-HeatingCoilSupplyWaterTemperatureShape a phIoT:entering-hot-water-temp-sensor ;\n",
      "    phIoT:equipRef sample:NREL-VAV-HW-Reheat-01 .\n",
      "\n",
      "sample:NREL-VAV-HW-Reheat-01-HeatingWaterValveCommandShape a phIoT:point ;\n",
      "    ph:hasTag phIoT:cmd,\n",
      "        phIoT:heat,\n",
      "        phIoT:hot,\n",
      "        phIoT:valve,\n",
      "        phScience:water ;\n",
      "    phIoT:equipRef sample:NREL-VAV-HW-Reheat-01 .\n",
      "\n",
      "sample:NREL-VAV-HW-Reheat-01-HeatingWaterValveFeedbackShape a phIoT:point ;\n",
      "    ph:hasTag phIoT:heat,\n",
      "        phIoT:hot,\n",
      "        phIoT:sensor,\n",
      "        phIoT:valve,\n",
      "        phScience:water ;\n",
      "    phIoT:equipRef sample:NREL-VAV-HW-Reheat-01 .\n",
      "\n",
      "sample:NREL-VAV-HW-Reheat-01-InletAirTemperatureShape a phIoT:air-temp-sensor ;\n",
      "    ph:hasTag phIoT:entering ;\n",
      "    phIoT:equipRef sample:NREL-VAV-HW-Reheat-01 .\n",
      "\n",
      "sample:NREL-VAV-HW-Reheat-01-MaximumCoolingDischargeAirFlowSetpointShape a phIoT:discharge-air-flow-sp ;\n",
      "    ph:hasTag phCustom:max,\n",
      "        phIoT:cooling ;\n",
      "    phIoT:equipRef sample:NREL-VAV-HW-Reheat-01 .\n",
      "\n",
      "sample:NREL-VAV-HW-Reheat-01-MaximumDischargeAirFlowSetpointShape a phIoT:discharge-air-flow-sp ;\n",
      "    ph:hasTag phCustom:bar ;\n",
      "    phIoT:equipRef sample:NREL-VAV-HW-Reheat-01 .\n",
      "\n",
      "sample:NREL-VAV-HW-Reheat-01-MaximumHeatingDischargeAirFlowSetpointShape a phIoT:discharge-air-flow-sp ;\n",
      "    ph:hasTag phCustom:max,\n",
      "        phIoT:heating ;\n",
      "    phIoT:equipRef sample:NREL-VAV-HW-Reheat-01 .\n",
      "\n",
      "sample:NREL-VAV-HW-Reheat-01-MinimumCoolingDischargeAirFlowSetpointShape a phIoT:discharge-air-flow-sp ;\n",
      "    ph:hasTag phCustom:min,\n",
      "        phIoT:cooling ;\n",
      "    phIoT:equipRef sample:NREL-VAV-HW-Reheat-01 .\n",
      "\n",
      "sample:NREL-VAV-HW-Reheat-01-MinimumDischargeAirFlowSetpointShape a phIoT:discharge-air-flow-sp ;\n",
      "    ph:hasTag phCustom:foo ;\n",
      "    phIoT:equipRef sample:NREL-VAV-HW-Reheat-01 .\n",
      "\n",
      "sample:NREL-VAV-HW-Reheat-01-MinimumHeatingDischargeAirFlowSetpointShape a phIoT:discharge-air-flow-sp ;\n",
      "    ph:hasTag phCustom:min,\n",
      "        phIoT:heating ;\n",
      "    phIoT:equipRef sample:NREL-VAV-HW-Reheat-01 .\n",
      "\n",
      "sample:NREL-VAV-HW-Reheat-01-OccupancyModeBinaryShape a phIoT:point ;\n",
      "    ph:hasTag phIoT:occupied,\n",
      "        phIoT:sp ;\n",
      "    phIoT:equipRef sample:NREL-VAV-HW-Reheat-01 .\n",
      "\n",
      "sample:NREL-VAV-HW-Reheat-01-OccupancyModeStandbyShape a phIoT:point ;\n",
      "    ph:hasTag phCustom:mode,\n",
      "        phIoT:occ,\n",
      "        phIoT:sp ;\n",
      "    phIoT:equipRef sample:NREL-VAV-HW-Reheat-01 .\n",
      "\n",
      "sample:NREL-VAV-HW-Reheat-01-OccupancyOverrideCommandShape a phIoT:point ;\n",
      "    ph:hasTag phIoT:cmd,\n",
      "        phIoT:occupied ;\n",
      "    phIoT:equipRef sample:NREL-VAV-HW-Reheat-01 .\n",
      "\n",
      "sample:NREL-VAV-HW-Reheat-01-ZoneEquipmentOperatingStateShape a phIoT:point ;\n",
      "    ph:hasTag phCustom:mode,\n",
      "        phCustom:operating,\n",
      "        phIoT:sp ;\n",
      "    phIoT:equipRef sample:NREL-VAV-HW-Reheat-01 .\n",
      "\n",
      "sample:NREL-VAV-HW-Reheat-01-ZoneRelativeHumidityShape a phIoT:air-humidity-sensor ;\n",
      "    ph:hasTag phIoT:zone ;\n",
      "    phIoT:equipRef sample:NREL-VAV-HW-Reheat-01 .\n",
      "\n",
      "sample:NREL-VAV-HW-Reheat-01-ZoneTemperatureCoolingEffectiveSetpointShape a phIoT:air-temp-sp ;\n",
      "    ph:hasTag phIoT:cooling,\n",
      "        phIoT:effective,\n",
      "        phIoT:zone ;\n",
      "    phIoT:equipRef sample:NREL-VAV-HW-Reheat-01 .\n",
      "\n",
      "sample:NREL-VAV-HW-Reheat-01-ZoneTemperatureCoolingOccupiedSetpointShape a phIoT:air-temp-sp ;\n",
      "    ph:hasTag phIoT:cooling,\n",
      "        phIoT:occ,\n",
      "        phIoT:zone ;\n",
      "    phIoT:equipRef sample:NREL-VAV-HW-Reheat-01 .\n",
      "\n",
      "sample:NREL-VAV-HW-Reheat-01-ZoneTemperatureCoolingStandbySetpointShape a phIoT:air-temp-sp ;\n",
      "    ph:hasTag phIoT:cooling,\n",
      "        phIoT:standby,\n",
      "        phIoT:zone ;\n",
      "    phIoT:equipRef sample:NREL-VAV-HW-Reheat-01 .\n",
      "\n",
      "sample:NREL-VAV-HW-Reheat-01-ZoneTemperatureCoolingUnoccupiedSetpointShape a phIoT:air-temp-sp ;\n",
      "    ph:hasTag phIoT:cooling,\n",
      "        phIoT:unocc,\n",
      "        phIoT:zone ;\n",
      "    phIoT:equipRef sample:NREL-VAV-HW-Reheat-01 .\n",
      "\n",
      "sample:NREL-VAV-HW-Reheat-01-ZoneTemperatureHeatingEffectiveSetpointShape a phIoT:air-temp-sp ;\n",
      "    ph:hasTag phIoT:effective,\n",
      "        phIoT:heating,\n",
      "        phIoT:zone ;\n",
      "    phIoT:equipRef sample:NREL-VAV-HW-Reheat-01 .\n",
      "\n",
      "sample:NREL-VAV-HW-Reheat-01-ZoneTemperatureHeatingOccupiedSetpointShape a phIoT:air-temp-sp ;\n",
      "    ph:hasTag phIoT:heating,\n",
      "        phIoT:occ,\n",
      "        phIoT:zone ;\n",
      "    phIoT:equipRef sample:NREL-VAV-HW-Reheat-01 .\n",
      "\n",
      "sample:NREL-VAV-HW-Reheat-01-ZoneTemperatureHeatingStandbySetpointShape a phIoT:air-temp-sp ;\n",
      "    ph:hasTag phIoT:heating,\n",
      "        phIoT:standby,\n",
      "        phIoT:zone ;\n",
      "    phIoT:equipRef sample:NREL-VAV-HW-Reheat-01 .\n",
      "\n",
      "sample:NREL-VAV-HW-Reheat-01-ZoneTemperatureHeatingUnoccupiedSetpointShape a phIoT:air-temp-sp ;\n",
      "    ph:hasTag phIoT:heating,\n",
      "        phIoT:unocc,\n",
      "        phIoT:zone ;\n",
      "    phIoT:equipRef sample:NREL-VAV-HW-Reheat-01 .\n",
      "\n",
      "sample:NREL-VAV-HW-Reheat-01-zone-air-co2-sensor-shape a phIoT:point ;\n",
      "    ph:hasTag phIoT:sensor,\n",
      "        phIoT:zone,\n",
      "        phScience:air,\n",
      "        phScience:co2 ;\n",
      "    phIoT:equipRef sample:NREL-VAV-HW-Reheat-01 .\n",
      "\n",
      "sample:NREL-VAV-HW-Reheat-01-zone-air-co2-sp-shape a phIoT:point ;\n",
      "    ph:hasTag phIoT:sp,\n",
      "        phIoT:zone,\n",
      "        phScience:air,\n",
      "        phScience:co2 ;\n",
      "    phIoT:equipRef sample:NREL-VAV-HW-Reheat-01 .\n",
      "\n",
      "sample:NREL-VAV-HW-Reheat-01-zone-air-temp-sensor-shape a phIoT:air-temp-sensor ;\n",
      "    ph:hasTag phIoT:zone ;\n",
      "    phIoT:equipRef sample:NREL-VAV-HW-Reheat-01 .\n",
      "\n",
      "sample:NREL-VAV-HW-Reheat-01 a phIoT:vav .\n",
      "\n",
      "\n"
     ]
    }
   ],
   "source": [
    "print_graph(hg)"
   ]
  },
  {
   "cell_type": "markdown",
   "id": "binary-consent",
   "metadata": {},
   "source": [
    "# 2) Shapes Based Data Validation\n",
    "This step validates the output from step 1 against the predifined SHACL shapes (which are created by the tasty `generate-shapes` command)"
   ]
  },
  {
   "cell_type": "markdown",
   "id": "parental-terrorist",
   "metadata": {},
   "source": [
    "## Setup\n",
    "Run the setup below"
   ]
  },
  {
   "cell_type": "code",
   "execution_count": 5,
   "id": "trained-equilibrium",
   "metadata": {},
   "outputs": [],
   "source": [
    "import os\n",
    "from pyshacl import validate\n",
    "from rdflib import Graph, SH\n",
    "from rdflib.util import guess_format\n",
    "\n",
    "from tasty.shapes_loader import ShapesLoader"
   ]
  },
  {
   "cell_type": "markdown",
   "id": "usual-means",
   "metadata": {},
   "source": [
    "## Import All Shapes\n",
    "\n",
    "The ShapesLoader gives us a wrapper around loading in the shapes graphs"
   ]
  },
  {
   "cell_type": "code",
   "execution_count": 6,
   "id": "blond-wrapping",
   "metadata": {},
   "outputs": [],
   "source": [
    "sl = ShapesLoader(tc.HAYSTACK)\n",
    "shapes_graph = sl.load_all_shapes()\n",
    "shapes_graph.bind('sample', SAMPLE)"
   ]
  },
  {
   "cell_type": "markdown",
   "id": "oriental-direction",
   "metadata": {},
   "source": [
    "## Validate\n",
    "\n",
    "Here we validate the newly created equipment and point sets against the existing equipment shapes.\n",
    "\n",
    "***Items to Change***\n",
    "- Change the index of `tc.PH_SHAPES_NREL` to the name of the predefined shape\n"
   ]
  },
  {
   "cell_type": "code",
   "execution_count": 7,
   "id": "local-latex",
   "metadata": {
    "tags": []
   },
   "outputs": [
    {
     "data": {
      "text/plain": [
       "True"
      ]
     },
     "execution_count": 7,
     "metadata": {},
     "output_type": "execute_result"
    }
   ],
   "source": [
    "shapes_graph.add((tc.PH_SHAPES_NREL['NREL-VAV-SD-HW-Reheat-Shape'], SH.targetNode, equip_comp.node))\n",
    "conforms, results_graph, results = validate(hg, shacl_graph=shapes_graph, ont_graph=h_ont)\n",
    "\n",
    "conforms"
   ]
  },
  {
   "cell_type": "code",
   "execution_count": 10,
   "id": "electoral-reducing",
   "metadata": {
    "tags": []
   },
   "outputs": [
    {
     "name": "stdout",
     "output_type": "stream",
     "text": [
      "@prefix sh: <http://www.w3.org/ns/shacl#> .\n",
      "@prefix xsd: <http://www.w3.org/2001/XMLSchema#> .\n",
      "\n",
      "[] a sh:ValidationReport ;\n",
      "    sh:conforms true .\n",
      "\n",
      "\n"
     ]
    }
   ],
   "source": [
    "print_graph(results_graph)"
   ]
  }
 ],
 "metadata": {
  "kernelspec": {
   "display_name": "Python 3",
   "language": "python",
   "name": "python3"
  },
  "language_info": {
   "codemirror_mode": {
    "name": "ipython",
    "version": 3
   },
   "file_extension": ".py",
   "mimetype": "text/x-python",
   "name": "python",
   "nbconvert_exporter": "python",
   "pygments_lexer": "ipython3",
   "version": "3.7.4"
  }
 },
 "nbformat": 4,
 "nbformat_minor": 5
}
