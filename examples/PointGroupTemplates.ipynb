{
 "cells": [
  {
   "cell_type": "markdown",
   "metadata": {
    "collapsed": true
   },
   "source": [
    "# Working with `PointGroupTemplate`s\n",
    "\n",
    "1. Run the [Initializations](#Initializations)\n",
    "1. If you have questions, see the [Basics](./Basics.ipynb)\n",
    "\n",
    "To logically group points, similar to how the Google Digital Buildings project does, we use the concept of a `PointGroupTemplate`."
   ]
  },
  {
   "cell_type": "markdown",
   "metadata": {},
   "source": [
    "The best way to learn how a PGT should function is to define a valid PGT dictionary.  Below we define a valid PGT dictionary.  Go through the [EntityTemplate](./EntityTemplates.ipynb) workbook to understand the expected structure for the information defined under the `telemetry_point_types` key.  Else, just follow the pattern."
   ]
  },
  {
   "cell_type": "code",
   "execution_count": 2,
   "metadata": {},
   "outputs": [],
   "source": [
    "pgt_dict = {\n",
    "    'id': '4aa753fc-ab1b-47d0-984f-121fa0cfa0e9',\n",
    "    'symbol': 'SD',\n",
    "    'description': 'Single duct VAV type, with basic airflow control.',\n",
    "    'template_type': 'point-group-template',\n",
    "    'schema_name': 'Haystack',\n",
    "    'version': '3.9.9',\n",
    "    'telemetry_point_types': {\n",
    "        'discharge-air-flow-sensor-point-cur-his': {\n",
    "            'curVal': {\n",
    "                '_kind': 'number',\n",
    "                'val': None\n",
    "            },\n",
    "            'unit': {\n",
    "                '_kind': 'str',\n",
    "                'val': 'cfm'\n",
    "            }\n",
    "        },\n",
    "        'discharge-air-flow-sp-point': {},\n",
    "        'damper-cmd-point': {\n",
    "            'unit': 'percent'\n",
    "        }\n",
    "    }\n",
    "}"
   ]
  },
  {
   "cell_type": "markdown",
   "metadata": {},
   "source": [
    "## Creating a `PointGroupTemplate`\n",
    "\n",
    "We will now create a PGT from the above data structure.  It will resolve as a valid PGT since all of the correct keys are defined. We also demonstrate what an invalid PGT will look like."
   ]
  },
  {
   "cell_type": "code",
   "execution_count": 3,
   "metadata": {},
   "outputs": [
    {
     "name": "stdout",
     "output_type": "stream",
     "text": [
      "Valid: True\n"
     ]
    }
   ],
   "source": [
    "valid_pgt = tt.PointGroupTemplate(**pgt_dict)\n",
    "print(f\"Valid: {valid_pgt.is_valid}\")"
   ]
  },
  {
   "cell_type": "code",
   "execution_count": 4,
   "metadata": {},
   "outputs": [
    {
     "ename": "TastyError",
     "evalue": "tasty.templates.BaseTemplate must have an ID",
     "output_type": "error",
     "traceback": [
      "\u001b[0;31m---------------------------------------------------------------------------\u001b[0m",
      "\u001b[0;31mTastyError\u001b[0m                                Traceback (most recent call last)",
      "\u001b[0;32m<ipython-input-4-fd44edb56059>\u001b[0m in \u001b[0;36m<module>\u001b[0;34m\u001b[0m\n\u001b[1;32m      1\u001b[0m \u001b[0;31m# This PGT will raise an error, as a minimum requirement is to provide an ID\u001b[0m\u001b[0;34m\u001b[0m\u001b[0;34m\u001b[0m\u001b[0;34m\u001b[0m\u001b[0m\n\u001b[0;32m----> 2\u001b[0;31m \u001b[0minvalid_pgt\u001b[0m \u001b[0;34m=\u001b[0m \u001b[0mtt\u001b[0m\u001b[0;34m.\u001b[0m\u001b[0mPointGroupTemplate\u001b[0m\u001b[0;34m(\u001b[0m\u001b[0;34m**\u001b[0m\u001b[0;34m{\u001b[0m\u001b[0;34m}\u001b[0m\u001b[0;34m)\u001b[0m\u001b[0;34m\u001b[0m\u001b[0;34m\u001b[0m\u001b[0m\n\u001b[0m",
      "\u001b[0;32m~/Github/tasty/tasty/templates.py\u001b[0m in \u001b[0;36m__new__\u001b[0;34m(cls, **kwargs)\u001b[0m\n\u001b[1;32m    223\u001b[0m                 \u001b[0;32mreturn\u001b[0m \u001b[0msuper\u001b[0m\u001b[0;34m(\u001b[0m\u001b[0;34m)\u001b[0m\u001b[0;34m.\u001b[0m\u001b[0m__new__\u001b[0m\u001b[0;34m(\u001b[0m\u001b[0mcls\u001b[0m\u001b[0;34m)\u001b[0m\u001b[0;34m\u001b[0m\u001b[0;34m\u001b[0m\u001b[0m\n\u001b[1;32m    224\u001b[0m         \u001b[0;32melse\u001b[0m\u001b[0;34m:\u001b[0m\u001b[0;34m\u001b[0m\u001b[0;34m\u001b[0m\u001b[0m\n\u001b[0;32m--> 225\u001b[0;31m             \u001b[0;32mraise\u001b[0m \u001b[0mte\u001b[0m\u001b[0;34m.\u001b[0m\u001b[0mTastyError\u001b[0m\u001b[0;34m(\u001b[0m\u001b[0;34mf\"{__name__}.{__class__.__name__} must have an ID\"\u001b[0m\u001b[0;34m)\u001b[0m\u001b[0;34m\u001b[0m\u001b[0;34m\u001b[0m\u001b[0m\n\u001b[0m\u001b[1;32m    226\u001b[0m \u001b[0;34m\u001b[0m\u001b[0m\n\u001b[1;32m    227\u001b[0m     \u001b[0;32mdef\u001b[0m \u001b[0m__init__\u001b[0m\u001b[0;34m(\u001b[0m\u001b[0mself\u001b[0m\u001b[0;34m,\u001b[0m \u001b[0;34m**\u001b[0m\u001b[0mkwargs\u001b[0m\u001b[0;34m)\u001b[0m\u001b[0;34m:\u001b[0m\u001b[0;34m\u001b[0m\u001b[0;34m\u001b[0m\u001b[0m\n",
      "\u001b[0;31mTastyError\u001b[0m: tasty.templates.BaseTemplate must have an ID"
     ]
    }
   ],
   "source": [
    "# This PGT will raise an error, as a minimum requirement is to provide an ID\n",
    "invalid_pgt = tt.PointGroupTemplate(**{})"
   ]
  },
  {
   "cell_type": "code",
   "execution_count": 7,
   "metadata": {},
   "outputs": [
    {
     "name": "stdout",
     "output_type": "stream",
     "text": [
      "Valid: False\n"
     ]
    }
   ],
   "source": [
    "# This PGT will not error upon construction, but its still not valid\n",
    "# since it doesn't have all required keys\n",
    "\n",
    "# IDs must be valid uuid4\n",
    "new_id = uuid.uuid4()\n",
    "invalid_pgt2 = tt.PointGroupTemplate(**{'id': str(new_id)})\n",
    "print(f\"Valid: {invalid_pgt2.is_valid}\")"
   ]
  },
  {
   "cell_type": "markdown",
   "metadata": {},
   "source": [
    "## Populating a PointGroupTemplate\n",
    "\n",
    "Only when we have a valid PGT can we populate the basic information and telemetry points for the PGT.  Resolving the telemetry point types creates (in the background) an EntityTemplate for each point type declared (i.e. key in `telemetry_point_types`)."
   ]
  },
  {
   "cell_type": "code",
   "execution_count": null,
   "metadata": {},
   "outputs": [],
   "source": [
    "valid_pgt.populate_template_basics()\n",
    "valid_pgt.resolve_telemetry_point_types()"
   ]
  },
  {
   "cell_type": "markdown",
   "metadata": {},
   "source": [
    "# Initializations"
   ]
  },
  {
   "cell_type": "code",
   "execution_count": 1,
   "metadata": {},
   "outputs": [
    {
     "name": "stdout",
     "output_type": "stream",
     "text": [
      "[tasty.templates.hget_entity_classes] Permutation time: 5.08 seconds\n",
      "tasty.templates.EntityTemplate created and is valid: Brick, 1.1, {'Damper_Position_Command'}\n",
      "tasty.templates.EntityTemplate created and is valid: Haystack, 3.9.9, {'motor', 'writable-point', 'cur-point'}\n"
     ]
    }
   ],
   "source": [
    "# imports and setup\n",
    "import os\n",
    "import uuid\n",
    "\n",
    "import tasty.templates as tt\n",
    "import tasty.constants as tc\n",
    "import tasty.graphs as tg\n",
    "\n",
    "haystack_ont = tg.load_ontology('Haystack', '3.9.9')\n",
    "brick_ont = tg.load_ontology('Brick', '1.1')\n",
    "\n",
    "point_type_string = 'cur-writable-motor-run-curVal-sensor-point'\n",
    "haystack_namespaced_terms = tt.get_namespaced_terms(haystack_ont, point_type_string)\n",
    "\n",
    "brick_type = 'Damper_Position_Command'\n",
    "brick_namespaced_terms = tt.get_namespaced_terms(brick_ont, brick_type)\n",
    "\n",
    "fields = {\n",
    "    'curVal': {\n",
    "        '_kind': 'number',\n",
    "        'val': None\n",
    "    },\n",
    "    'unit': 'cfm'\n",
    "}\n",
    "\n",
    "namespaced_fields = tt.get_namespaced_terms(haystack_ont, fields)\n",
    "structured_terms = tt.hget_entity_classes(haystack_ont, haystack_namespaced_terms)\n",
    "\n",
    "# For Brick, we don't have any additional 'typing properties' or fields, so we initialize those as empty sets\n",
    "bet = tt.EntityTemplate(entity_classes=brick_namespaced_terms,\n",
    "                        schema_name='Brick',\n",
    "                        schema_version='1.1',\n",
    "                        typing_properties=set(),\n",
    "                        fields=set())\n",
    "\n",
    "# For Haystack, use namespaced_fields instead of structured_terms['fields']\n",
    "het = tt.EntityTemplate(structured_terms['classes'],\n",
    "                        'Haystack',\n",
    "                        '3.9.9',\n",
    "                        structured_terms['markers'],\n",
    "                        namespaced_fields)"
   ]
  }
 ],
 "metadata": {
  "kernelspec": {
   "display_name": "Python 3",
   "language": "python",
   "name": "python3"
  },
  "language_info": {
   "codemirror_mode": {
    "name": "ipython",
    "version": 3
   },
   "file_extension": ".py",
   "mimetype": "text/x-python",
   "name": "python",
   "nbconvert_exporter": "python",
   "pygments_lexer": "ipython3",
   "version": "3.7.4"
  }
 },
 "nbformat": 4,
 "nbformat_minor": 1
}
