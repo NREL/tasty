{
 "cells": [
  {
   "cell_type": "markdown",
   "metadata": {
    "collapsed": true
   },
   "source": [
    "# Getting Started"
   ]
  },
  {
   "cell_type": "code",
   "execution_count": 1,
   "metadata": {},
   "outputs": [],
   "source": [
    "# imports and setup\n",
    "import os\n",
    "\n",
    "import tasty.templates as tt\n",
    "import tasty.constants as tc\n",
    "import tasty.graphs as tg"
   ]
  },
  {
   "cell_type": "markdown",
   "metadata": {},
   "source": [
    "## Initializations\n",
    "\n",
    "We will start by loading in an ontology.  This returns an RDF graph, with typical namespaces loaded depending on which ontology (Brick or Haystack) we decided to load, but we don't need to worry about that too much."
   ]
  },
  {
   "cell_type": "code",
   "execution_count": null,
   "metadata": {},
   "outputs": [],
   "source": [
    "haystack_ont = tg.load_ontology('Haystack', '3.9.9')\n",
    "brick_ont = tg.load_ontology('Brick', '1.1')\n",
    "print(type(haystack_ont))\n",
    "print(type(brick_ont))"
   ]
  },
  {
   "cell_type": "markdown",
   "metadata": {},
   "source": [
    "## Namespacing Terms\n",
    "We will explore some core capabilities of templates by getting some typing information from a Haystack point type.  The first thing to do is to find the correct namespaces for the terms.\n",
    "\n",
    "_Note: The way we use Namespaced terms is a Tuple data structure as: (Namespace, term)_\n",
    "\n",
    "__Function__: `tt.get_namespaced_terms`\n",
    "\n",
    "__Purpose__: resolve terms to namespaces in the ontology\n",
    "\n",
    "__Description__: The function can take a simple string, with terms delimited by '-' (likely for Haystack). A Brick point type likely will just be expressed as a single class. It can also take a dictionary.  This is used when we are trying to express Datatype Properties (fields). A datatype property is a property of an entity that 'has a value'.  At this point in time, this is only really possible in Haystack (Brick I think is still in process). This has taken inspiration from the Hayson specification. When expressing fields:\n",
    "- The key must be a term in the ontology\n",
    "- `_kind` is a special key.  the value will be resolved to a namespaced term (i.e. number -> ph:number)\n",
    "- `val` is a special key.  it expresses the desired value of the property. A NoneType (`None`) value is used to express that this field is desired, but we don't care what the value is."
   ]
  },
  {
   "cell_type": "code",
   "execution_count": null,
   "metadata": {},
   "outputs": [],
   "source": [
    "# Recommend not putting 'fields' in the point type string (curVal), but we'll get back to this later.\n",
    "point_type_string = 'cur-writable-motor-run-curVal-sensor-point'\n",
    "haystack_namespaced_terms = tt.get_namespaced_terms(haystack_ont, point_type_string)\n",
    "\n",
    "brick_type = 'Damper_Position_Command'\n",
    "brick_namespaced_terms = tt.get_namespaced_terms(brick_ont, brick_type)\n",
    "\n",
    "# expressing datatype properties via a dict\n",
    "fields = {\n",
    "    'curVal': {\n",
    "        '_kind': 'number',\n",
    "        'val': None\n",
    "    },\n",
    "    # another form\n",
    "    'unit': 'cfm'\n",
    "}\n",
    "\n",
    "namespaced_fields = tt.get_namespaced_terms(haystack_ont, fields)\n",
    "\n",
    "# types have two values in each tuple: (Namespace, term)\n",
    "print(brick_namespaced_terms)\n",
    "\n",
    "# fields have three values in each tuple: (Namespace, term, dict)\n",
    "print(namespaced_fields)"
   ]
  },
  {
   "cell_type": "markdown",
   "metadata": {},
   "source": [
    "## Determining Classes\n",
    "\n",
    "The point of using Semantic Web technologies is to encode the 'type' or 'class' of something into the ontology. From the perspective of Brick, we have likely already done this by getting a namespaced term.  With Haystack, typing is a bit more nuanced, and refers more to the expected functionality (i.e. describing what it _implements_ as well as what it is).  For example, folks used to using sets of markers for expressing the point type above (`cur-air-writable-motor-curVal-sensor-point`) would know they expect to be able to:\n",
    "- get the current value of this point - it is a `phIoT:cur-point`\n",
    "- write to this point - it is a `phIoT:writable-point`\n",
    "- it somehow also represents a type of thing that is a motor - `phIoT:motor`\n",
    "\n",
    "We solve this with a simple function call:\n",
    "\n",
    "__Function__: `tt.hget_entity_classes`\n",
    "\n",
    "__Purpose__: determine (from a set of namespaced terms) the different classes implemented."
   ]
  },
  {
   "cell_type": "code",
   "execution_count": null,
   "metadata": {},
   "outputs": [],
   "source": [
    "structured_terms = tt.hget_entity_classes(haystack_ont, haystack_namespaced_terms)"
   ]
  },
  {
   "cell_type": "markdown",
   "metadata": {},
   "source": [
    "A dictionary is returned with three keys, describing the information determined:\n",
    "- 'classes'\n",
    "- 'markers'\n",
    "- 'fields'\n",
    "\n",
    "Print them out to see the exact information contained in each"
   ]
  },
  {
   "cell_type": "code",
   "execution_count": null,
   "metadata": {},
   "outputs": [],
   "source": [
    "print(structured_terms['classes'])"
   ]
  },
  {
   "cell_type": "code",
   "execution_count": null,
   "metadata": {},
   "outputs": [],
   "source": [
    "print(structured_terms['markers'])"
   ]
  },
  {
   "cell_type": "code",
   "execution_count": null,
   "metadata": {},
   "outputs": [],
   "source": [
    "# Here is where we pull out namespaced terms that are not things, but which are expected to contain values.\n",
    "# They are automatically assigned a 'val': None\n",
    "print(structured_terms['fields'])"
   ]
  }
 ],
 "metadata": {
  "kernelspec": {
   "display_name": "Python 3",
   "language": "python",
   "name": "python3"
  },
  "language_info": {
   "codemirror_mode": {
    "name": "ipython",
    "version": 3
   },
   "file_extension": ".py",
   "mimetype": "text/x-python",
   "name": "python",
   "nbconvert_exporter": "python",
   "pygments_lexer": "ipython3",
   "version": "3.7.4"
  }
 },
 "nbformat": 4,
 "nbformat_minor": 1
}
