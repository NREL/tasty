{
    "cells": [
        {
            "cell_type": "markdown",
            "source": [
                "# Purpose\n",
                "This notebook demonstrates validation and invalidation of the following entities in Brick.\n",
                "- Building\n",
                "- Room"
            ],
            "metadata": {}
        },
        {
            "cell_type": "code",
            "execution_count": 1,
            "source": [
                "from pyshacl import validate\n",
                "from rdflib import Namespace, Literal, XSD\n",
                "\n",
                "from mason import BrickClassGenerator, compile_model, Brick\n",
                "\n",
                "import tasty.constants as tc\n",
                "import tasty.graphs as tg\n",
                "from tasty.shapes_loader import ShapesLoader"
            ],
            "outputs": [],
            "metadata": {}
        },
        {
            "cell_type": "markdown",
            "source": [
                "# Setup"
            ],
            "metadata": {}
        },
        {
            "cell_type": "code",
            "execution_count": 2,
            "source": [
                "# pass or fail setting\n",
                "fail = False\n",
                "\n",
                "# print graphs setting\n",
                "print_graphs = True\n",
                "\n",
                "# entity propterties\n",
                "year_built = 2021\n",
                "primary_function = 'Adult Education'\n",
                "thermal_transmittance = 2021.0\n",
                "area = 2021.0\n",
                "volume = 2021.0\n",
                "\n",
                "if fail:\n",
                "    year_built = str(year_built)\n",
                "    primary_function = primary_function + '_fail'\n",
                "    thermal_transmittance = str(thermal_transmittance)\n",
                "    area = str(area)\n",
                "    volume = str(volume)\n",
                "\n",
                "# namespace\n",
                "EX = Namespace('urn:example#')"
            ],
            "outputs": [],
            "metadata": {}
        },
        {
            "cell_type": "markdown",
            "source": [
                "# Data Graph (oomason)"
            ],
            "metadata": {}
        },
        {
            "cell_type": "markdown",
            "source": [
                "## Building"
            ],
            "metadata": {}
        },
        {
            "cell_type": "code",
            "execution_count": 3,
            "source": [
                "# entity\n",
                "building = Brick.Building(EX[\"building\"], \"Building\")\n",
                "\n",
                "# shapes\n",
                "year_built_shape = Brick.EntityProperty.YearBuiltShape(year_built)\n",
                "primary_function_shape = Brick.EntityProperty.BuildingPrimaryFunctionShape(Literal(primary_function, datatype=XSD.string)) # newer RDFlib is more specific about some datatypes\n",
                "thermal_transmittance_shape = Brick.EntityProperty.ThermalTransmittenceShape(thermal_transmittance, Brick.Unit.Watt_per_Square_Meter_Kelvin) # transmittence misspelled, check IP units\n",
                "\n",
                "# add shapes to entity\n",
                "building.add_yearBuilt(year_built_shape)\n",
                "building.add_buildingPrimaryFunction(primary_function_shape)\n",
                "building.add_thermalTransmittence(thermal_transmittance_shape)"
            ],
            "outputs": [],
            "metadata": {}
        },
        {
            "cell_type": "markdown",
            "source": [
                "## Room"
            ],
            "metadata": {}
        },
        {
            "cell_type": "code",
            "execution_count": 4,
            "source": [
                "# entity\n",
                "room = Brick.Room(EX['room1'], 'Room 1')\n",
                "\n",
                "# shapes\n",
                "area_shape = Brick.EntityProperty.AreaShape(area, Brick.Unit.Square_Foot)\n",
                "volume_shape = Brick.EntityProperty.VolumeShape(volume, Brick.Unit.Cubic_Foot)\n",
                "\n",
                "# add shapes to entity\n",
                "room.add_area(area_shape)\n",
                "room.add_volume(volume_shape)"
            ],
            "outputs": [],
            "metadata": {}
        },
        {
            "cell_type": "code",
            "execution_count": 5,
            "source": [
                "# compile data graph, which validates it too\n",
                "data_graph = compile_model([('ex', EX)]) # provide namespaces when compiling\n",
                "\n",
                "# print\n",
                "if print_graphs: tg.print_graph(data_graph)"
            ],
            "outputs": [
                {
                    "output_type": "stream",
                    "name": "stdout",
                    "text": [
                        "@prefix brick: <https://brickschema.org/schema/Brick#> .\n",
                        "@prefix ex: <urn:example#> .\n",
                        "@prefix unit: <http://qudt.org/vocab/unit/> .\n",
                        "@prefix xsd: <http://www.w3.org/2001/XMLSchema#> .\n",
                        "\n",
                        "ex:building a brick:Building ;\n",
                        "    brick:buildingPrimaryFunction [ a brick:BuildingPrimaryFunctionShape ;\n",
                        "            brick:value \"Adult Education\"^^xsd:string ] ;\n",
                        "    brick:thermalTransmittence [ a brick:ThermalTransmittenceShape ;\n",
                        "            brick:hasUnit unit:W-PER-M2-K ;\n",
                        "            brick:value 2.021e+03 ] ;\n",
                        "    brick:yearBuilt [ a brick:YearBuiltShape ;\n",
                        "            brick:value 2021 ] .\n",
                        "\n",
                        "ex:room1 a brick:Room ;\n",
                        "    brick:area [ a brick:AreaShape ;\n",
                        "            brick:hasUnit unit:FT2 ;\n",
                        "            brick:value 2.021e+03 ] ;\n",
                        "    brick:volume [ a brick:VolumeShape ;\n",
                        "            brick:hasUnit unit:FT3 ;\n",
                        "            brick:value 2.021e+03 ] .\n",
                        "\n",
                        "\n"
                    ]
                }
            ],
            "metadata": {}
        },
        {
            "cell_type": "markdown",
            "source": [
                "# Shapes Graph (tasty)"
            ],
            "metadata": {}
        },
        {
            "cell_type": "code",
            "execution_count": 6,
            "source": [
                "schema = tc.BRICK\n",
                "version = tc.V1_2\n",
                "\n",
                "# load ontology\n",
                "brick_ontology = tg.load_ontology(schema, version)\n",
                "\n",
                "# shapes graph\n",
                "sl = ShapesLoader(schema)\n",
                "shapes_graph = sl.load_all_shapes()\n",
                "shapes_graph.bind('ex', EX)\n",
                "\n",
                "# print\n",
                "if print_graphs: tg.print_graph(shapes_graph)"
            ],
            "outputs": [
                {
                    "output_type": "stream",
                    "name": "stdout",
                    "text": [
                        "@prefix brick: <https://brickschema.org/schema/Brick#> .\n",
                        "@prefix owl: <http://www.w3.org/2002/07/owl#> .\n",
                        "@prefix rdf: <http://www.w3.org/1999/02/22-rdf-syntax-ns#> .\n",
                        "@prefix sh: <http://www.w3.org/ns/shacl#> .\n",
                        "@prefix skos: <http://www.w3.org/2004/02/skos/core#> .\n",
                        "@prefix unit: <http://qudt.org/vocab/unit/> .\n",
                        "@prefix xsd: <http://www.w3.org/2001/XMLSchema#> .\n",
                        "\n",
                        "brick:AggregationShape a owl:Class,\n",
                        "        sh:NodeShape ;\n",
                        "    sh:property [ a sh:PropertyShape ;\n",
                        "            skos:definition \"Interval expressed in an ISO 8601 Duration string, e.g. RP1D\" ;\n",
                        "            sh:datatype xsd:string ;\n",
                        "            sh:minCount 1 ;\n",
                        "            sh:path brick:aggregationInterval ],\n",
                        "        [ a sh:PropertyShape ;\n",
                        "            skos:definition \"The aggregation function applied to data in the interval which produces the value\" ;\n",
                        "            sh:in ( \"max\" \"min\" \"count\" \"mean\" \"sum\" \"median\" \"mode\" ) ;\n",
                        "            sh:minCount 1 ;\n",
                        "            sh:path brick:aggregationFunction ] .\n",
                        "\n",
                        "brick:AreaShape a owl:Class,\n",
                        "        sh:NodeShape ;\n",
                        "    sh:property [ a sh:PropertyShape ;\n",
                        "            sh:in ( unit:FT2 unit:M2 ) ;\n",
                        "            sh:minCount 1 ;\n",
                        "            sh:path brick:hasUnit ],\n",
                        "        [ a sh:PropertyShape ;\n",
                        "            sh:datatype xsd:double ;\n",
                        "            sh:minCount 1 ;\n",
                        "            sh:path brick:value ] .\n",
                        "\n",
                        "brick:BuildingPrimaryFunctionShape a owl:Class,\n",
                        "        sh:NodeShape ;\n",
                        "    sh:property [ a sh:PropertyShape ;\n",
                        "            sh:in ( \"Adult Education\"^^xsd:string \"Ambulatory Surgical Center\"^^xsd:string \"Aquarium\"^^xsd:string \"Automobile Dealership\"^^xsd:string \"Bank Branch\"^^xsd:string \"Bar/Nightclub\"^^xsd:string \"Barracks\"^^xsd:string \"Bowling Alley\"^^xsd:string \"Casino\"^^xsd:string \"College/University\"^^xsd:string \"Convenience Store with Gas Station\"^^xsd:string \"Convenience Store without Gas Station\"^^xsd:string \"Convention Center\"^^xsd:string \"Courthouse\"^^xsd:string \"Data Center\"^^xsd:string \"Distribution Center\"^^xsd:string \"Drinking Water Treatment & Distribution\"^^xsd:string \"Enclosed Mall\"^^xsd:string \"Energy/Power Station\"^^xsd:string \"Fast Food Restaurant\"^^xsd:string \"Financial Office\"^^xsd:string \"Fire Station\"^^xsd:string \"Fitness Center/Health Club/Gym\"^^xsd:string \"Food Sales\"^^xsd:string \"Food Service\"^^xsd:string \"Hospital (General Medical & Surgical)\"^^xsd:string \"Hotel\"^^xsd:string \"Ice/Curling Rink\"^^xsd:string \"Indoor Arena\"^^xsd:string \"K-12 School\"^^xsd:string \"Laboratory\"^^xsd:string \"Library\"^^xsd:string \"Lifestyle Center\"^^xsd:string \"Mailing Center/Post Office\"^^xsd:string \"Manufacturing/Industrial Plant\"^^xsd:string \"Medical Office\"^^xsd:string \"Mixed Use Property\"^^xsd:string \"Movie Theater\"^^xsd:string \"Multifamily Housing\"^^xsd:string \"Museum\"^^xsd:string \"Non-Refrigerated Warehouse\"^^xsd:string \"Office\"^^xsd:string \"Other - Education\"^^xsd:string \"Other - Entertainment/Public Assembly\"^^xsd:string \"Other - Lodging/Residential\"^^xsd:string \"Other - Mall\"^^xsd:string \"Other - Public Services\"^^xsd:string \"Other - Recreation\"^^xsd:string \"Other - Restaurant/Bar\"^^xsd:string \"Other - Services\"^^xsd:string \"Other - Stadium\"^^xsd:string \"Other - Technology/Science\"^^xsd:string \"Other - Utility\"^^xsd:string \"Other\"^^xsd:string \"Other/Specialty Hospital\"^^xsd:string \"Outpatient Rehabilitation/Physical Therapy\"^^xsd:string \"Parking\"^^xsd:string \"Performing Arts\"^^xsd:string \"Personal Services (Health/Beauty, Dry Cleaning, etc)\"^^xsd:string \"Police Station\"^^xsd:string \"Pre-school/Daycare\"^^xsd:string \"Prison/Incarceration\"^^xsd:string \"Race Track\"^^xsd:string \"Refrigerated Warehouse\"^^xsd:string \"Repair Services (Vehicle, Shoe, Locksmith, etc)\"^^xsd:string \"Residence Hall/Dormitory\"^^xsd:string \"Restaurant\"^^xsd:string \"Retail Store\"^^xsd:string \"Roller Rink\"^^xsd:string \"Self-Storage Facility\"^^xsd:string \"Senior Care Community\"^^xsd:string \"Single Family Home\"^^xsd:string \"Social/Meeting Hall\"^^xsd:string \"Stadium (Closed)\"^^xsd:string \"Stadium (Open)\"^^xsd:string \"Strip Mall\"^^xsd:string \"Supermarket/Grocery Store\"^^xsd:string \"Swimming Pool\"^^xsd:string \"Transportation Terminal/Station\"^^xsd:string \"Urgent Care/Clinic/Other Outpatient\"^^xsd:string \"Veterinary Office\"^^xsd:string \"Vocational School\"^^xsd:string \"Wastewater Treatment Plant\"^^xsd:string \"Wholesale Club/Supercenter\"^^xsd:string \"Worship Facility\"^^xsd:string \"Zoo\"^^xsd:string ) ;\n",
                        "            sh:minCount 1 ;\n",
                        "            sh:path brick:value ] .\n",
                        "\n",
                        "brick:CoolingCapacityShape a owl:Class,\n",
                        "        sh:NodeShape ;\n",
                        "    sh:property [ a sh:PropertyShape ;\n",
                        "            sh:datatype xsd:double ;\n",
                        "            sh:minCount 1 ;\n",
                        "            sh:path brick:value ],\n",
                        "        [ a sh:PropertyShape ;\n",
                        "            sh:in ( unit:TON_FG unit:BTU_IT-PER-HR unit:BTU_TH-PER-HR unit:W ) ;\n",
                        "            sh:minCount 1 ;\n",
                        "            sh:path brick:hasUnit ] .\n",
                        "\n",
                        "brick:CurrentFlowTypeShape a owl:Class,\n",
                        "        sh:NodeShape ;\n",
                        "    sh:property [ a sh:PropertyShape ;\n",
                        "            sh:in ( \"AC\"^^xsd:string \"DC\"^^xsd:string ) ;\n",
                        "            sh:minCount 1 ;\n",
                        "            sh:path brick:value ] .\n",
                        "\n",
                        "brick:PhaseCountShape a owl:Class,\n",
                        "        sh:NodeShape ;\n",
                        "    sh:property [ a sh:PropertyShape ;\n",
                        "            sh:in ( \"1\"^^xsd:string \"2\"^^xsd:string \"3\"^^xsd:string \"Total\"^^xsd:string ) ;\n",
                        "            sh:minCount 1 ;\n",
                        "            sh:path brick:value ] .\n",
                        "\n",
                        "brick:PhasesShape a owl:Class,\n",
                        "        sh:NodeShape ;\n",
                        "    sh:property [ a sh:PropertyShape ;\n",
                        "            sh:in ( \"A\"^^xsd:string \"B\"^^xsd:string \"C\"^^xsd:string \"AB\"^^xsd:string \"BC\"^^xsd:string \"AC\"^^xsd:string \"ABC\"^^xsd:string ) ;\n",
                        "            sh:minCount 1 ;\n",
                        "            sh:path brick:value ] .\n",
                        "\n",
                        "brick:PowerComplexityShape a owl:Class,\n",
                        "        sh:NodeShape ;\n",
                        "    sh:property [ a sh:PropertyShape ;\n",
                        "            sh:in ( \"real\"^^xsd:string \"reactive\"^^xsd:string \"apparent\"^^xsd:string ) ;\n",
                        "            sh:minCount 1 ;\n",
                        "            sh:path brick:value ] .\n",
                        "\n",
                        "brick:PowerFlowShape a owl:Class,\n",
                        "        sh:NodeShape ;\n",
                        "    sh:property [ a sh:PropertyShape ;\n",
                        "            sh:in ( \"import\"^^xsd:string \"export\"^^xsd:string \"net\"^^xsd:string \"absolute\"^^xsd:string ) ;\n",
                        "            sh:minCount 1 ;\n",
                        "            sh:path brick:value ] .\n",
                        "\n",
                        "brick:StageShape a owl:Class,\n",
                        "        sh:NodeShape ;\n",
                        "    sh:property [ a sh:PropertyShape ;\n",
                        "            sh:in ( 1 2 3 4 ) ;\n",
                        "            sh:minCount 1 ;\n",
                        "            sh:path brick:value ] .\n",
                        "\n",
                        "brick:ThermalTransmittenceShape a owl:Class,\n",
                        "        sh:NodeShape ;\n",
                        "    sh:property [ a sh:PropertyShape ;\n",
                        "            sh:datatype xsd:double ;\n",
                        "            sh:minCount 1 ;\n",
                        "            sh:path brick:value ],\n",
                        "        [ a sh:PropertyShape ;\n",
                        "            sh:in ( unit:BTU_IT unit:W-PER-M2-K ) ;\n",
                        "            sh:minCount 1 ;\n",
                        "            sh:path brick:hasUnit ] .\n",
                        "\n",
                        "brick:VolumeShape a owl:Class,\n",
                        "        sh:NodeShape ;\n",
                        "    sh:property [ a sh:PropertyShape ;\n",
                        "            sh:in ( unit:FT3 unit:M3 ) ;\n",
                        "            sh:minCount 1 ;\n",
                        "            sh:path brick:hasUnit ],\n",
                        "        [ a sh:PropertyShape ;\n",
                        "            sh:datatype xsd:double ;\n",
                        "            sh:minCount 1 ;\n",
                        "            sh:path brick:value ] .\n",
                        "\n",
                        "brick:YearBuiltShape a owl:Class,\n",
                        "        sh:NodeShape ;\n",
                        "    sh:property [ a sh:PropertyShape ;\n",
                        "            sh:datatype xsd:integer ;\n",
                        "            sh:minCount 1 ;\n",
                        "            sh:path brick:value ] .\n",
                        "\n",
                        "\n"
                    ]
                }
            ],
            "metadata": {}
        },
        {
            "cell_type": "markdown",
            "source": [
                "# Validate (RDFlib)"
            ],
            "metadata": {}
        },
        {
            "cell_type": "code",
            "execution_count": 7,
            "source": [
                "conforms, results_graph, results_text = validate(data_graph=data_graph, shacl_graph=shapes_graph, ont_graph=brick_ontology)\n",
                "print(results_text)"
            ],
            "outputs": [
                {
                    "output_type": "stream",
                    "name": "stdout",
                    "text": [
                        "Validation Report\n",
                        "Conforms: True\n",
                        "\n"
                    ]
                }
            ],
            "metadata": {}
        },
        {
            "cell_type": "markdown",
            "source": [
                "# TODO\n",
                "- [ ] incorporate oomason into tasty\n",
                "- [ ] automate `generated_shapes/brick_all.ttl`"
            ],
            "metadata": {}
        }
    ],
    "metadata": {
        "orig_nbformat": 4,
        "language_info": {
            "name": "python",
            "version": "3.8.5",
            "mimetype": "text/x-python",
            "codemirror_mode": {
                "name": "ipython",
                "version": 3
            },
            "pygments_lexer": "ipython3",
            "nbconvert_exporter": "python",
            "file_extension": ".py"
        },
        "kernelspec": {
            "name": "python3",
            "display_name": "Python 3.8.5 64-bit ('venv': venv)"
        },
        "interpreter": {
            "hash": "b715f09c0df17379595748d7418e85b16601ae463dcdf2d9956200c6d1fc0a7e"
        }
    },
    "nbformat": 4,
    "nbformat_minor": 2
}