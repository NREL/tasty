{
 "cells": [
  {
   "cell_type": "markdown",
   "id": "norwegian-saturn",
   "metadata": {},
   "source": [
    "# Demo"
   ]
  },
  {
   "cell_type": "code",
   "execution_count": 290,
   "id": "authentic-sapphire",
   "metadata": {
    "jupyter": {
     "source_hidden": true
    },
    "tags": []
   },
   "outputs": [],
   "source": [
    "from __future__ import print_function\n",
    "from ipywidgets import interact, interactive, fixed, interact_manual\n",
    "import ipywidgets as widgets\n",
    "from rdflib import Namespace, RDF, BNode\n",
    "import os\n",
    "from pyshacl import validate\n",
    "from rdflib import Graph, SH\n",
    "from rdflib.util import guess_format\n",
    "from tasty.shapes_loader import ShapesLoader\n",
    "\n",
    "# Simple wrapper around all of the shapes\n",
    "shrap = te.ShapesWrapper(tc.HAYSTACK, tc.V3_9_10)\n",
    "\n",
    "shrap.bind()\n",
    "# shrap.bind_composite()\n",
    "\n",
    "def print_graph(g):\n",
    "    print(g.serialize(format='turtle').decode('utf-8'))\n",
    "    \n",
    "output_directory = os.path.join(os.path.abspath(''), 'example_data/output')\n",
    "tasty_main_directory = os.path.join(os.path.abspath(''), '../')    \n",
    "data_graph_filename = 'examples/example_data/input/demo_data.ttl'\n",
    "data_graph_equip_filename = 'examples/example_data/input/demo_equip_data.ttl'\n",
    "shapes_graph_equip_filename = 'examples/example_data/input/demo_equip_shapes.ttl'\n"
   ]
  },
  {
   "cell_type": "code",
   "execution_count": 291,
   "id": "rational-active",
   "metadata": {
    "jupyter": {
     "source_hidden": true
    },
    "tags": []
   },
   "outputs": [],
   "source": [
    "user_data = ['point-01']\n",
    "shapes = []\n",
    "for attribute in dir(shrap):\n",
    "    if attribute == 'MinimumDischargeAirFlowSetpointShape':\n",
    "        shapes.append(attribute)\n",
    "\n",
    "inputs = []\n",
    "style = {'description_width': 'initial'}\n",
    "dropdown = widgets.Dropdown(\n",
    "    options=user_data,\n",
    "    description='Point to Validate:',\n",
    "    disabled=False,\n",
    "    style=style\n",
    ")\n",
    "inputs.append(dropdown)\n",
    "\n",
    "data = shapes\n",
    "checkboxes = [widgets.Checkbox(value=False, description=label, style=style) for label in data]\n",
    "select = widgets.VBox(children=checkboxes)\n",
    "inputs.append(select)\n",
    "\n",
    "button = widgets.Button(\n",
    "    description='Validate',\n",
    "    disabled=False,\n",
    "    button_style='',\n",
    "    tooltip='Click me',\n",
    "    icon='check'\n",
    ")\n",
    "inputs.append(button)\n",
    "\n",
    "display_results = widgets.Label()\n",
    "display_missing_points = widgets.Label(style=style)\n",
    "inputs.append(display_results)\n",
    "inputs.append(display_missing_points)\n",
    "\n",
    "def on_button_clicked(b):\n",
    "    constraints = []\n",
    "    point = dropdown.value\n",
    "    for checkbox in checkboxes:\n",
    "        if checkbox.value == True:\n",
    "            constraints.append(checkbox.description)\n",
    "    \n",
    "    input_namespace_uri = 'urn:sample/'\n",
    "    NAMESPACE = Namespace(input_namespace_uri)\n",
    "    shape_name = tc.PH_SHAPES_NREL[constraints[0]]\n",
    "    target_node = NAMESPACE[point]\n",
    "            \n",
    "    data_graph = get_data_graph()\n",
    "    \n",
    "    sl = ShapesLoader(tc.HAYSTACK)\n",
    "    shapes_graph = sl.load_all_shapes()\n",
    "    shapes_graph.bind('sample', SAMPLE)\n",
    "    \n",
    "    shapes_graph.add((shape_name, SH.targetNode, target_node))\n",
    "    \n",
    "    result = validate(data_graph, shacl_graph=shapes_graph, ont_graph=h_ont)\n",
    "    conforms, results_graph, results = result\n",
    "    missing_points = []\n",
    "    display_results.value=str(conforms)\n",
    "    \n",
    "        # Find the Validation Results\n",
    "    for subject, predicate, object in results_graph.triples((None, RDF.type, SH.ValidationResult)):\n",
    "        for node in results_graph.objects(subject=subject, predicate=SH.resultMessage):\n",
    "            print(node)\n",
    "            display_missing_points.value=\"FAIL {}\".format(node)\n",
    "    \n",
    "           \n",
    "button.on_click(on_button_clicked)\n",
    "\n",
    "def get_data_graph():\n",
    "    n = tg.get_versioned_graph(tc.HAYSTACK, tc.V3_9_10)\n",
    "    f = os.path.join(tasty_main_directory, data_graph_filename)\n",
    "    n.parse(f, format='turtle')\n",
    "    return n"
   ]
  },
  {
   "cell_type": "markdown",
   "id": "decreased-athletics",
   "metadata": {
    "tags": []
   },
   "source": [
    "## Point Selection and Validation (scratch)"
   ]
  },
  {
   "cell_type": "code",
   "execution_count": 287,
   "id": "magnetic-monday",
   "metadata": {
    "tags": []
   },
   "outputs": [
    {
     "data": {
      "application/vnd.jupyter.widget-view+json": {
       "model_id": "7788b3ba347f480180994312df8390de",
       "version_major": 2,
       "version_minor": 0
      },
      "text/plain": [
       "GridBox(children=(Dropdown(description='Point to Validate:', options=('point-01',), style=DescriptionStyle(des…"
      ]
     },
     "metadata": {},
     "output_type": "display_data"
    }
   ],
   "source": [
    "widgets.GridBox(inputs, layout=widgets.Layout(height='100px', grid_template_columns=\"repeat(5, 400px)\"))"
   ]
  },
  {
   "cell_type": "code",
   "execution_count": 294,
   "id": "exclusive-strap",
   "metadata": {
    "tags": []
   },
   "outputs": [],
   "source": [
    "user_data = ['My-NREL-VAV']\n",
    "shapes = ['NREL-VAV-Standard']\n",
    "\n",
    "inputs = []\n",
    "style = {'description_width': 'auto'}\n",
    "dropdown = widgets.Dropdown(\n",
    "    options=user_data,\n",
    "    description='Equipment to Validate:',\n",
    "    disabled=False,\n",
    "    style=style\n",
    ")\n",
    "inputs.append(dropdown)\n",
    "\n",
    "data = shapes\n",
    "checkboxes = [widgets.Checkbox(value=False, description=label, style=style) for label in data]\n",
    "select = widgets.VBox(children=checkboxes)\n",
    "inputs.append(select)\n",
    "\n",
    "button = widgets.Button(\n",
    "    description='Validate',\n",
    "    disabled=False,\n",
    "    button_style='',\n",
    "    tooltip='Click me',\n",
    "    icon='check'\n",
    ")\n",
    "inputs.append(button)\n",
    "\n",
    "display_results = widgets.Label(style=style)\n",
    "display_missing_points = widgets.Label(style=style)\n",
    "inputs.append(display_results)\n",
    "inputs.append(display_missing_points)\n",
    "\n",
    "def on_button_clicked(b):\n",
    "    constraints = []\n",
    "    equip = dropdown.value\n",
    "    for checkbox in checkboxes:\n",
    "        if checkbox.value == True:\n",
    "            constraints.append(checkbox.description)\n",
    "    \n",
    "    input_namespace_uri = 'urn:sample/'\n",
    "    NAMESPACE = Namespace(input_namespace_uri)\n",
    "    shape_name = tc.PH_SHAPES_NREL[constraints[0]]\n",
    "    target_node = NAMESPACE[equip]\n",
    "            \n",
    "    data_graph = get_data_graph()\n",
    "    shapes_graph = get_shapes_graph()\n",
    "    \n",
    "    shapes_graph.add((shape_name, SH.targetNode, target_node))\n",
    "    \n",
    "    # add Instance Equipment as target node to SHACL Functional Groups Shapes\n",
    "    for s1, p1, o1 in shapes_graph.triples((shape_name, SH.node, None)):\n",
    "        shapes_graph.add((o1, SH.targetNode, target_node))\n",
    "    \n",
    "    result = validate(data_graph, shacl_graph=shapes_graph, ont_graph=h_ont)\n",
    "    conforms, results_graph, results = result\n",
    "    print_graph(results_graph)\n",
    "    display_results.value=str(conforms)\n",
    "    missing_points = []\n",
    "\n",
    "    # Find the Validation Results\n",
    "    for subject, predicate, object in results_graph.triples((None, RDF.type, SH.ValidationResult)):\n",
    "        for node in results_graph.objects(subject=subject, predicate=SH.sourceShape):\n",
    "            if isinstance(node, BNode):\n",
    "                point = results_graph.value(subject=node, predicate=SH.qualifiedValueShape)\n",
    "                missing_points.append(point)\n",
    "    \n",
    "    if missing_points:\n",
    "        for point in missing_points:\n",
    "            for s, p, o in shapes_graph.triples((point,  None, None)):\n",
    "                if 'class' in str(p):\n",
    "                    point_class = o.split('#')[1]\n",
    "                \n",
    "            missing_p = point.split('#')[1]\n",
    "        display_missing_points.value=\"{}: equip is missing a point of class {}\".format(str(missing_p), point_class)\n",
    "        \n",
    "button.on_click(on_button_clicked)\n",
    "\n",
    "def get_data_graph():\n",
    "    n = tg.get_versioned_graph(tc.HAYSTACK, tc.V3_9_10)\n",
    "    f = os.path.join(tasty_main_directory, data_graph_equip_filename)\n",
    "    n.parse(f, format='turtle')\n",
    "    return n\n",
    "\n",
    "def get_shapes_graph():\n",
    "    g = tg.get_versioned_graph(tc.HAYSTACK, tc.V3_9_10)\n",
    "    f = os.path.join(tasty_main_directory, shapes_graph_equip_filename)\n",
    "    g.parse(f, format='turtle')\n",
    "    return g"
   ]
  },
  {
   "cell_type": "markdown",
   "id": "compact-classic",
   "metadata": {},
   "source": [
    "## Equip Selection and Validation"
   ]
  },
  {
   "cell_type": "code",
   "execution_count": 295,
   "id": "respective-reference",
   "metadata": {},
   "outputs": [
    {
     "data": {
      "application/vnd.jupyter.widget-view+json": {
       "model_id": "c4442914008041eb8613dfede9863340",
       "version_major": 2,
       "version_minor": 0
      },
      "text/plain": [
       "GridBox(children=(Dropdown(description='Equipment to Validate:', options=('My-NREL-VAV',), style=DescriptionSt…"
      ]
     },
     "metadata": {},
     "output_type": "display_data"
    }
   ],
   "source": [
    "widgets.GridBox(inputs, layout=widgets.Layout(height='100px', grid_template_columns=\"repeat(5, 400px)\"))"
   ]
  },
  {
   "cell_type": "code",
   "execution_count": 229,
   "id": "every-request",
   "metadata": {
    "jupyter": {
     "source_hidden": true
    },
    "tags": []
   },
   "outputs": [],
   "source": [
    "user_data = ['NREL-Equip-Test']\n",
    "shapes = ['NREL-VAV-Test-Shape']\n",
    "\n",
    "inputs = []\n",
    "style = {'description_width': 'auto'}\n",
    "dropdown = widgets.Dropdown(\n",
    "    options=user_data,\n",
    "    description='System to Validate:',\n",
    "    disabled=False,\n",
    "    style=style\n",
    ")\n",
    "inputs.append(dropdown)\n",
    "\n",
    "data = shapes\n",
    "checkboxes = [widgets.Checkbox(value=False, description=label, style=style) for label in data]\n",
    "select = widgets.VBox(children=checkboxes)\n",
    "inputs.append(select)\n",
    "\n",
    "button = widgets.Button(\n",
    "    description='Validate',\n",
    "    disabled=False,\n",
    "    button_style='',\n",
    "    tooltip='Click me',\n",
    "    icon='check'\n",
    ")\n",
    "inputs.append(button)\n",
    "\n",
    "display_results = widgets.Label(style=style)\n",
    "display_missing_points = widgets.Label(style=style)\n",
    "inputs.append(display_results)\n",
    "inputs.append(display_missing_points)\n",
    "\n",
    "def on_button_clicked(b):\n",
    "    constraints = []\n",
    "    equip = dropdown.value\n",
    "    for checkbox in checkboxes:\n",
    "        if checkbox.value == True:\n",
    "            constraints.append(checkbox.description)\n",
    "    \n",
    "    input_namespace_uri = 'urn:sample/'\n",
    "    NAMESPACE = Namespace(input_namespace_uri)\n",
    "    shape_name = tc.PH_SHAPES_NREL[constraints[0]]\n",
    "    target_node = NAMESPACE[equip]\n",
    "            \n",
    "    data_graph = get_data_graph()\n",
    "    shapes_graph = get_shapes_graph()\n",
    "    \n",
    "    shapes_graph.add((shape_name, SH.targetNode, target_node))\n",
    "    \n",
    "    # add Instance Equipment as target node to SHACL Functional Groups Shapes\n",
    "    for s1, p1, o1 in shapes_graph.triples((shape_name, SH.node, None)):\n",
    "        shapes_graph.add((o1, SH.targetNode, target_node))\n",
    "    \n",
    "    result = validate(data_graph, shacl_graph=shapes_graph, ont_graph=h_ont)\n",
    "    conforms, results_graph, results = result\n",
    "    display_results.value=str(conforms)\n",
    "    missing_points = []\n",
    "\n",
    "    # Find the Validation Results\n",
    "    for subject, predicate, object in results_graph.triples((None, RDF.type, SH.ValidationResult)):\n",
    "        for node in results_graph.objects(subject=subject, predicate=SH.sourceShape):\n",
    "            if isinstance(node, BNode):\n",
    "                point = results_graph.value(subject=node, predicate=SH.qualifiedValueShape)\n",
    "                missing_points.append(point)\n",
    "    \n",
    "    if missing_points:\n",
    "        for point in missing_points:\n",
    "            for s, p, o in shapes_graph.triples((point,  None, None)):\n",
    "                if 'class' in str(p):\n",
    "                    point_class = o.split('#')[1]\n",
    "                \n",
    "            missing_p = point.split('#')[1]\n",
    "        display_missing_points.value=\"FAIL {}: equip is missing a point of class {}\".format(str(missing_p), point_class)\n",
    "        \n",
    "button.on_click(on_button_clicked)\n",
    "\n",
    "def get_data_graph():\n",
    "    n = tg.get_versioned_graph(tc.HAYSTACK, tc.V3_9_10)\n",
    "    f = os.path.join(tasty_main_directory, data_graph_equip_filename)\n",
    "    n.parse(f, format='turtle')\n",
    "    return n\n",
    "\n",
    "def get_shapes_graph():\n",
    "    g = tg.get_versioned_graph(tc.HAYSTACK, tc.V3_9_10)\n",
    "    f = os.path.join(tasty_main_directory, shapes_graph_equip_filename)\n",
    "    g.parse(f, format='turtle')\n",
    "    return g"
   ]
  },
  {
   "cell_type": "markdown",
   "id": "seeing-beijing",
   "metadata": {},
   "source": [
    "## System Selection and Validation"
   ]
  },
  {
   "cell_type": "code",
   "execution_count": 230,
   "id": "affecting-layout",
   "metadata": {},
   "outputs": [
    {
     "data": {
      "application/vnd.jupyter.widget-view+json": {
       "model_id": "d3aeba63f6e444938e54c76907c054ed",
       "version_major": 2,
       "version_minor": 0
      },
      "text/plain": [
       "GridBox(children=(Dropdown(description='System to Validate:', options=('NREL-Equip-Test',), style=DescriptionS…"
      ]
     },
     "metadata": {},
     "output_type": "display_data"
    }
   ],
   "source": [
    "widgets.GridBox(inputs, layout=widgets.Layout(height='100px', grid_template_columns=\"repeat(5, 400px)\"))"
   ]
  },
  {
   "cell_type": "code",
   "execution_count": null,
   "id": "imported-breeding",
   "metadata": {},
   "outputs": [],
   "source": []
  }
 ],
 "metadata": {
  "kernelspec": {
   "display_name": "Python 3",
   "language": "python",
   "name": "python3"
  },
  "language_info": {
   "codemirror_mode": {
    "name": "ipython",
    "version": 3
   },
   "file_extension": ".py",
   "mimetype": "text/x-python",
   "name": "python",
   "nbconvert_exporter": "python",
   "pygments_lexer": "ipython3",
   "version": "3.7.4"
  }
 },
 "nbformat": 4,
 "nbformat_minor": 5
}
