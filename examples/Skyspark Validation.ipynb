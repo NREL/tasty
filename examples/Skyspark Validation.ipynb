{
 "cells": [
  {
   "cell_type": "markdown",
   "id": "ultimate-cutting",
   "metadata": {},
   "source": [
    "# Sample Skyspark VAV Validation"
   ]
  },
  {
   "cell_type": "markdown",
   "id": "stuck-opportunity",
   "metadata": {},
   "source": [
    "# 1) Setup"
   ]
  },
  {
   "cell_type": "markdown",
   "id": "collaborative-samba",
   "metadata": {},
   "source": [
    "## Imports"
   ]
  },
  {
   "cell_type": "code",
   "execution_count": null,
   "id": "backed-universal",
   "metadata": {
    "tags": []
   },
   "outputs": [],
   "source": [
    "# ----------------------------------------\n",
    "# Imports\n",
    "# ----------------------------------------\n",
    "import os\n",
    "import json\n",
    "import re\n",
    "\n",
    "from rdflib import Namespace, SH, RDF, BNode, Graph\n",
    "from pyshacl import validate\n",
    "\n",
    "from tasty import constants as tc\n",
    "from tasty import graphs as tg\n",
    "from tasty.skyspark import client as cl\n",
    "from tasty.skyspark import process_graphs as pg\n",
    "from tasty.skyspark import helpers"
   ]
  },
  {
   "cell_type": "markdown",
   "id": "soviet-choice",
   "metadata": {},
   "source": [
    "## Inputs\n",
    "Define the key variables and input information here\n",
    "\n",
    "***Items to Change***\n",
    "- `SHAPE`: this is the name of the SHACL equipment shape against which you would like to validate your sample equipment in the instance data\n",
    "- `SAMPLE`: this is the name of the sample equipment in your instance data\n",
    "- `input_namespace_uri`: this is the namespace uri used for your sample equipment in the instance data\n",
    "- `raw_data_graph_filename`: this is the filename/filepath to save the raw instance data (in turtle format) retrieved from the Skyspark API call\n",
    "- `data_graph_filename`: this is the filename/filepath to save the cleaned/processed instance data for the data graph to be used for validation\n",
    "- `shapes_graph_filename`: this it the filename/filepath of the SHACL shapes data for the shape graph \n",
    "***Remaining Items*** </br>\n",
    "These items should be okay as is, but can be changed if need be. If you are printing out results, <u>*make sure that the output directory exists in your local file structure*</u>.\n",
    "- `output_directory`: this is the directory where output files will be printed to below\n",
    "- `tasty_main_directory`: this is the absolute path of the main tasty directory. It should just be the parent directory of the current working directory."
   ]
  },
  {
   "cell_type": "code",
   "execution_count": null,
   "id": "pacific-marina",
   "metadata": {},
   "outputs": [],
   "source": [
    "# ----------------------------------------\n",
    "# User Defined Variables\n",
    "# ----------------------------------------\n",
    "\n",
    "equip_name = 'AHU1'\n",
    "building = 'TTF'\n",
    "\n",
    "SHAPE = 'NREL-AHU-VAV-MZ-HW-Evap-Shape'\n",
    "SAMPLE = '' # will be populated below\n",
    "input_namespace_uri = 'urn:/_#'\n",
    "\n",
    "raw_data_graph_filename = 'examples/output/sample_skyspark_vav_raw.ttl'\n",
    "data_graph_filename = 'examples/output/sample_skyspark_vav_clean.ttl'\n",
    "shapes_graph_filename = 'tasty/generated_shapes/haystack_all.ttl'\n",
    "\n",
    "output_directory = os.path.join(os.path.abspath(''), 'example_data/output')\n",
    "tasty_main_directory = os.path.join(os.path.abspath(''), '../')\n",
    "# print(tasty_main_directory)\n",
    "\n",
    "# ----------------------------------------\n",
    "# Variables and Constants\n",
    "# ----------------------------------------\n",
    "\n",
    "NAMESPACE = Namespace(input_namespace_uri)\n",
    "shape_name = tc.PH_SHAPES_NREL[SHAPE]\n",
    "target_node = NAMESPACE[SAMPLE]"
   ]
  },
  {
   "cell_type": "markdown",
   "id": "front-while",
   "metadata": {},
   "source": [
    "## API Request From Skyspark \n",
    "NOTE - Must be connected to NREL network to access the api endpoint"
   ]
  },
  {
   "cell_type": "code",
   "execution_count": null,
   "id": "municipal-sierra",
   "metadata": {
    "tags": []
   },
   "outputs": [],
   "source": [
    "# axon_query_string = '(point and equipRef->navName==\"UFVAV-3\") or (equip and navName==\"UFVAV-3\")'\n",
    "api_url_endpoint = 'https://internal-apis.nrel.gov/intelligentcampus/stm_campus/read'\n",
    "\n",
    "client = cl.SkysparkClient(api_url_endpoint)\n",
    "axon_query_string = client.generate_axon_query_for_equip(equip_name, building)\n",
    "print(axon_query_string)\n",
    "\n",
    "response = client.make_get_request(axon_query_string, 'turtle')\n",
    "\n",
    "print(response.status_code, end = \" - \")\n",
    "if response.status_code == 200:\n",
    "    print(\"Sucess\")\n",
    "elif response.status_code == 404:\n",
    "    print(\"Not Found\")\n",
    "\n",
    "raw_skyspark_data = response.text\n",
    "# print(raw_skyspark_data)"
   ]
  },
  {
   "cell_type": "code",
   "execution_count": null,
   "id": "automated-characteristic",
   "metadata": {},
   "outputs": [],
   "source": [
    "# Save response to file\n",
    "f = os.path.join(tasty_main_directory, raw_data_graph_filename)\n",
    "\n",
    "helpers.save_data_to_file(raw_skyspark_data, f)\n",
    "\n",
    "print(f\"raw instance data saved to '{raw_data_graph_filename}' \")"
   ]
  },
  {
   "cell_type": "markdown",
   "id": "configured-shopping",
   "metadata": {},
   "source": [
    "#### Get the ID of the Equipment"
   ]
  },
  {
   "cell_type": "code",
   "execution_count": null,
   "id": "racial-bench",
   "metadata": {},
   "outputs": [],
   "source": [
    "SAMPLE = client.get_equip_id(equip_name, building)\n",
    "print(SAMPLE)"
   ]
  },
  {
   "cell_type": "markdown",
   "id": "conceptual-charge",
   "metadata": {},
   "source": [
    "# 2) Generate Graphs"
   ]
  },
  {
   "cell_type": "markdown",
   "id": "furnished-lightning",
   "metadata": {},
   "source": [
    "### Pre-Process Raw Input File"
   ]
  },
  {
   "cell_type": "code",
   "execution_count": null,
   "id": "invalid-caution",
   "metadata": {
    "tags": []
   },
   "outputs": [],
   "source": [
    "# ----------------------------------------\n",
    "# Create instance of SkysparkGraphProcessor\n",
    "# ----------------------------------------\n",
    "\n",
    "schema = tc.HAYSTACK\n",
    "version = tc.V3_9_10\n",
    "\n",
    "sgp = pg.SkysparkGraphProcessor(input_namespace_uri,schema, version)\n",
    "\n",
    "# ----------------------------------------\n",
    "# Pre Process raw skyspark .ttl file \n",
    "# ----------------------------------------\n",
    "f1 = os.path.join(tasty_main_directory, raw_data_graph_filename)\n",
    "f2 = os.path.join(tasty_main_directory, data_graph_filename)\n",
    "\n",
    "sgp.clean_raw_skyspark_turtle(f1,f2)\n",
    "\n",
    "print(f\"cleaned instance data saved to '{data_graph_filename}' \")"
   ]
  },
  {
   "cell_type": "markdown",
   "id": "democratic-alias",
   "metadata": {},
   "source": [
    "### Create Data, Shapes, and Ontology Graphs"
   ]
  },
  {
   "cell_type": "code",
   "execution_count": null,
   "id": "offensive-sister",
   "metadata": {
    "tags": []
   },
   "outputs": [],
   "source": [
    "# ----------------------------------------\n",
    "# Generate Graphs\n",
    "# ----------------------------------------\n",
    "\n",
    "# Data Graph\n",
    "dg_file = os.path.join(tasty_main_directory, data_graph_filename)\n",
    "data_graph = sgp.get_data_graph(dg_file)\n",
    "print(\"...loaded data graph\")\n",
    "\n",
    "# Shapes Graph\n",
    "sg_file = os.path.join(tasty_main_directory, shapes_graph_filename)\n",
    "shapes_graph = sgp.get_shapes_graph(sg_file, target_node, shape_name)\n",
    "print(\"...loaded shapes graph\")\n",
    "\n",
    "# Ontology Graph\n",
    "ont_graph = sgp.get_ontology_graph()\n",
    "print(\"...loaded ontology graph\")"
   ]
  },
  {
   "cell_type": "code",
   "execution_count": null,
   "id": "conditional-looking",
   "metadata": {
    "tags": []
   },
   "outputs": [],
   "source": [
    "helpers.print_graph(data_graph)"
   ]
  },
  {
   "cell_type": "markdown",
   "id": "dietary-slovak",
   "metadata": {},
   "source": [
    "# 3) Validation"
   ]
  },
  {
   "cell_type": "markdown",
   "id": "prepared-importance",
   "metadata": {},
   "source": [
    "## PySHACL Validation"
   ]
  },
  {
   "cell_type": "code",
   "execution_count": null,
   "id": "stylish-cartridge",
   "metadata": {},
   "outputs": [],
   "source": [
    "# ----------------------------------------\n",
    "# Run pySCHACL Validation\n",
    "# ----------------------------------------\n",
    "result = validate(data_graph, shacl_graph=shapes_graph, ont_graph=ont_graph)\n",
    "conforms, results_graph, results = result\n",
    "\n",
    "print(f\"Conforms: {conforms}\")"
   ]
  },
  {
   "cell_type": "code",
   "execution_count": null,
   "id": "limiting-disability",
   "metadata": {
    "tags": []
   },
   "outputs": [],
   "source": [
    "helpers.print_graph(results_graph)"
   ]
  },
  {
   "cell_type": "markdown",
   "id": "handy-mouse",
   "metadata": {},
   "source": [
    "## Determine Missing Points"
   ]
  },
  {
   "cell_type": "code",
   "execution_count": null,
   "id": "christian-prime",
   "metadata": {
    "tags": []
   },
   "outputs": [],
   "source": [
    "missing_points = sgp.determine_missing_points(results_graph)\n",
    "\n",
    "if len(missing_points['required']) <= 0:\n",
    "    print(\"No Required Points Missing\")\n",
    "else:\n",
    "    print(f\"{len(missing_points['required'])} Missing Required Points:\")\n",
    "    for point in missing_points['required']:\n",
    "        print(f\"\\t{point}\")\n",
    "        \n",
    "if len(missing_points['optional']) <= 0:\n",
    "    print(\"No Optional Points Missing\")\n",
    "else:\n",
    "    print(f\"{len(missing_points['optional'])} Missing Optional Points:\")\n",
    "    for point in missing_points['optional']:\n",
    "        print(f\"\\t{point}\")\n",
    "            "
   ]
  }
 ],
 "metadata": {
  "kernelspec": {
   "display_name": "Python 3",
   "language": "python",
   "name": "python3"
  },
  "language_info": {
   "codemirror_mode": {
    "name": "ipython",
    "version": 3
   },
   "file_extension": ".py",
   "mimetype": "text/x-python",
   "name": "python",
   "nbconvert_exporter": "python",
   "pygments_lexer": "ipython3",
   "version": "3.8.5"
  }
 },
 "nbformat": 4,
 "nbformat_minor": 5
}
